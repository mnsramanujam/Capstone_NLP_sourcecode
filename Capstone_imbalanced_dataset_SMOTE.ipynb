{
 "cells": [
  {
   "cell_type": "markdown",
   "metadata": {
    "id": "SN3TifezQCvC"
   },
   "source": [
    "# NLP 2-AIML Capstone Grp 8"
   ]
  },
  {
   "cell_type": "markdown",
   "metadata": {
    "id": "2Ua-V5s6QCvU"
   },
   "source": [
    "In this notebook we tried to prepare a balanced dataset using SMOTE"
   ]
  },
  {
   "cell_type": "code",
   "execution_count": null,
   "metadata": {
    "colab": {
     "base_uri": "https://localhost:8080/"
    },
    "executionInfo": {
     "elapsed": 4005,
     "status": "ok",
     "timestamp": 1609623969532,
     "user": {
      "displayName": "Naga Srinivas Ramanujam Mangena",
      "photoUrl": "",
      "userId": "04219536135155449678"
     },
     "user_tz": 0
    },
    "id": "pV7BMLF51mrh",
    "outputId": "d0c5dae0-d5c5-4347-cd26-28375b64b1a9"
   },
   "outputs": [
    {
     "name": "stdout",
     "output_type": "stream",
     "text": [
      "Requirement already satisfied: imbalanced-learn in /usr/local/lib/python3.6/dist-packages (0.4.3)\n",
      "Requirement already satisfied: scipy>=0.13.3 in /usr/local/lib/python3.6/dist-packages (from imbalanced-learn) (1.4.1)\n",
      "Requirement already satisfied: scikit-learn>=0.20 in /usr/local/lib/python3.6/dist-packages (from imbalanced-learn) (0.22.2.post1)\n",
      "Requirement already satisfied: numpy>=1.8.2 in /usr/local/lib/python3.6/dist-packages (from imbalanced-learn) (1.19.4)\n",
      "Requirement already satisfied: joblib>=0.11 in /usr/local/lib/python3.6/dist-packages (from scikit-learn>=0.20->imbalanced-learn) (1.0.0)\n"
     ]
    }
   ],
   "source": [
    "pip install imbalanced-learn"
   ]
  },
  {
   "cell_type": "code",
   "execution_count": null,
   "metadata": {
    "colab": {
     "base_uri": "https://localhost:8080/"
    },
    "executionInfo": {
     "elapsed": 1603,
     "status": "ok",
     "timestamp": 1609653092376,
     "user": {
      "displayName": "Naga Srinivas Ramanujam Mangena",
      "photoUrl": "",
      "userId": "04219536135155449678"
     },
     "user_tz": 0
    },
    "id": "TYS7o6Hn0lo8",
    "outputId": "b30dbfd5-e69f-4543-e5ac-ddad27d0e645"
   },
   "outputs": [
    {
     "name": "stderr",
     "output_type": "stream",
     "text": [
      "/usr/local/lib/python3.6/dist-packages/sklearn/externals/six.py:31: FutureWarning: The module is deprecated in version 0.21 and will be removed in version 0.23 since we've dropped support for Python 2.7. Please rely on the official version of six (https://pypi.org/project/six/).\n",
      "  \"(https://pypi.org/project/six/).\", FutureWarning)\n"
     ]
    },
    {
     "name": "stdout",
     "output_type": "stream",
     "text": [
      "0.4.3\n"
     ]
    },
    {
     "name": "stderr",
     "output_type": "stream",
     "text": [
      "/usr/local/lib/python3.6/dist-packages/sklearn/utils/deprecation.py:144: FutureWarning: The sklearn.neighbors.base module is  deprecated in version 0.22 and will be removed in version 0.24. The corresponding classes / functions should instead be imported from sklearn.neighbors. Anything that cannot be imported from sklearn.neighbors is now part of the private API.\n",
      "  warnings.warn(message, FutureWarning)\n"
     ]
    }
   ],
   "source": [
    "# check version number\r\n",
    "import imblearn\r\n",
    "print(imblearn.__version__)"
   ]
  },
  {
   "cell_type": "code",
   "execution_count": null,
   "metadata": {
    "id": "jm9hyH9Y11H0"
   },
   "outputs": [],
   "source": [
    "# Generate and plot a synthetic imbalanced classification dataset\r\n",
    "from collections import Counter\r\n",
    "from sklearn.datasets import make_classification\r\n",
    "from matplotlib import pyplot\r\n",
    "from numpy import where"
   ]
  },
  {
   "cell_type": "code",
   "execution_count": null,
   "metadata": {
    "colab": {
     "base_uri": "https://localhost:8080/"
    },
    "executionInfo": {
     "elapsed": 27560,
     "status": "ok",
     "timestamp": 1609653125194,
     "user": {
      "displayName": "Naga Srinivas Ramanujam Mangena",
      "photoUrl": "",
      "userId": "04219536135155449678"
     },
     "user_tz": 0
    },
    "id": "GTiUC-ATIXhe",
    "outputId": "4e7ee105-704b-4016-9e24-17b5ac23c8af"
   },
   "outputs": [
    {
     "name": "stdout",
     "output_type": "stream",
     "text": [
      "Mounted at /content/drive\n"
     ]
    }
   ],
   "source": [
    "from google.colab import drive\r\n",
    "drive.mount('/content/drive')\r\n"
   ]
  },
  {
   "cell_type": "code",
   "execution_count": null,
   "metadata": {
    "id": "jKWWYaZGX45X"
   },
   "outputs": [],
   "source": [
    "# Setting the current working directory\r\n",
    "\r\n",
    "import os; \r\n",
    "os.chdir('/content/drive/MyDrive/Colab Notebooks/Capstone')\r\n"
   ]
  },
  {
   "cell_type": "code",
   "execution_count": null,
   "metadata": {
    "colab": {
     "base_uri": "https://localhost:8080/",
     "height": 142
    },
    "executionInfo": {
     "elapsed": 893,
     "status": "ok",
     "timestamp": 1609623976796,
     "user": {
      "displayName": "Naga Srinivas Ramanujam Mangena",
      "photoUrl": "",
      "userId": "04219536135155449678"
     },
     "user_tz": 0
    },
    "id": "mc5uKsY8JFWI",
    "outputId": "04ecb472-d577-4691-e654-8a2b27f99ba6"
   },
   "outputs": [
    {
     "data": {
      "text/html": [
       "<div>\n",
       "<style scoped>\n",
       "    .dataframe tbody tr th:only-of-type {\n",
       "        vertical-align: middle;\n",
       "    }\n",
       "\n",
       "    .dataframe tbody tr th {\n",
       "        vertical-align: top;\n",
       "    }\n",
       "\n",
       "    .dataframe thead th {\n",
       "        text-align: right;\n",
       "    }\n",
       "</style>\n",
       "<table border=\"1\" class=\"dataframe\">\n",
       "  <thead>\n",
       "    <tr style=\"text-align: right;\">\n",
       "      <th></th>\n",
       "      <th>Unnamed: 0</th>\n",
       "      <th>Data</th>\n",
       "      <th>Countries</th>\n",
       "      <th>Local</th>\n",
       "      <th>Industry Sector</th>\n",
       "      <th>Accident Level</th>\n",
       "      <th>Potential Accident Level</th>\n",
       "      <th>Genre</th>\n",
       "      <th>Employee or Third Party</th>\n",
       "      <th>Critical Risk</th>\n",
       "      <th>Description</th>\n",
       "    </tr>\n",
       "  </thead>\n",
       "  <tbody>\n",
       "    <tr>\n",
       "      <th>0</th>\n",
       "      <td>0</td>\n",
       "      <td>2016-01-01 00:00:00</td>\n",
       "      <td>Country_01</td>\n",
       "      <td>Local_01</td>\n",
       "      <td>Mining</td>\n",
       "      <td>I</td>\n",
       "      <td>IV</td>\n",
       "      <td>Male</td>\n",
       "      <td>Third Party</td>\n",
       "      <td>Pressed</td>\n",
       "      <td>While removing the drill rod of the Jumbo 08 f...</td>\n",
       "    </tr>\n",
       "    <tr>\n",
       "      <th>1</th>\n",
       "      <td>1</td>\n",
       "      <td>2016-01-02 00:00:00</td>\n",
       "      <td>Country_02</td>\n",
       "      <td>Local_02</td>\n",
       "      <td>Mining</td>\n",
       "      <td>I</td>\n",
       "      <td>IV</td>\n",
       "      <td>Male</td>\n",
       "      <td>Employee</td>\n",
       "      <td>Pressurized Systems</td>\n",
       "      <td>During the activation of a sodium sulphide pum...</td>\n",
       "    </tr>\n",
       "    <tr>\n",
       "      <th>2</th>\n",
       "      <td>2</td>\n",
       "      <td>2016-01-06 00:00:00</td>\n",
       "      <td>Country_01</td>\n",
       "      <td>Local_03</td>\n",
       "      <td>Mining</td>\n",
       "      <td>I</td>\n",
       "      <td>III</td>\n",
       "      <td>Male</td>\n",
       "      <td>Third Party (Remote)</td>\n",
       "      <td>Manual Tools</td>\n",
       "      <td>In the sub-station MILPO located at level +170...</td>\n",
       "    </tr>\n",
       "  </tbody>\n",
       "</table>\n",
       "</div>"
      ],
      "text/plain": [
       "   Unnamed: 0  ...                                        Description\n",
       "0           0  ...  While removing the drill rod of the Jumbo 08 f...\n",
       "1           1  ...  During the activation of a sodium sulphide pum...\n",
       "2           2  ...  In the sub-station MILPO located at level +170...\n",
       "\n",
       "[3 rows x 11 columns]"
      ]
     },
     "execution_count": 84,
     "metadata": {
      "tags": []
     },
     "output_type": "execute_result"
    }
   ],
   "source": [
    "import pandas as pd\r\n",
    "#ram \r\n",
    "data = pd.read_csv(\"/content/drive/MyDrive/Colab Notebooks/Capstone/IHMStefanini_industrial_safety_and_health_database_with_accidents_description_Dataset.csv\")\r\n",
    "#satya path /content/drive/MyDrive/Capstone project/IHMStefanini_industrial_safety_and_health_database_with_accidents_description.csv\r\n",
    "#data = pd.read_csv(\"/content/drive/MyDrive/Capstone project/IHMStefanini_industrial_safety_and_health_database_with_accidents_description.csv\")\r\n",
    "data.head(3)\r\n"
   ]
  },
  {
   "cell_type": "code",
   "execution_count": null,
   "metadata": {
    "id": "vQH0ssFCxGCK"
   },
   "outputs": [],
   "source": [
    "from sklearn.preprocessing import LabelEncoder\r\n",
    "\r\n",
    "le = LabelEncoder()\r\n",
    "\r\n",
    "un_le = LabelEncoder()\r\n",
    "data_le = LabelEncoder()\r\n",
    "Country_le = LabelEncoder()\r\n",
    "Local_le = LabelEncoder()\r\n",
    "Ind_le = LabelEncoder()\r\n",
    "Acc_le = LabelEncoder()\r\n",
    "Pot_le = LabelEncoder()\r\n",
    "Gen_le = LabelEncoder()\r\n",
    "Emp_le = LabelEncoder()\r\n",
    "Crit_le = LabelEncoder()\r\n",
    "Desc_le = LabelEncoder()"
   ]
  },
  {
   "cell_type": "code",
   "execution_count": null,
   "metadata": {
    "colab": {
     "base_uri": "https://localhost:8080/"
    },
    "executionInfo": {
     "elapsed": 710,
     "status": "ok",
     "timestamp": 1609623980812,
     "user": {
      "displayName": "Naga Srinivas Ramanujam Mangena",
      "photoUrl": "",
      "userId": "04219536135155449678"
     },
     "user_tz": 0
    },
    "id": "Qo5ZkcJ16EMC",
    "outputId": "a67f04e0-a176-4c7f-c4b6-45914c9ed171"
   },
   "outputs": [
    {
     "data": {
      "text/plain": [
       "LabelEncoder()"
      ]
     },
     "execution_count": 86,
     "metadata": {
      "tags": []
     },
     "output_type": "execute_result"
    }
   ],
   "source": [
    "un_le.fit(data[ 'Unnamed: 0'])\r\n",
    "data_le.fit(data[ 'Data'])\r\n",
    "Country_le.fit(data[ 'Countries'])\r\n",
    "Local_le.fit(data[ 'Local'])\r\n",
    "Ind_le.fit(data[ 'Industry Sector'])\r\n",
    "Acc_le.fit(data[ 'Accident Level'])\r\n",
    "Pot_le.fit(data[ 'Potential Accident Level'])\r\n",
    "Gen_le.fit(data[ 'Genre'])\r\n",
    "Emp_le.fit(data[ 'Employee or Third Party'])\r\n",
    "Crit_le.fit(data[ 'Critical Risk'])\r\n",
    "Desc_le.fit(data[ 'Description'])"
   ]
  },
  {
   "cell_type": "code",
   "execution_count": null,
   "metadata": {
    "id": "aQVpNfee6wFh"
   },
   "outputs": [],
   "source": [
    "data1 = pd.DataFrame()\r\n",
    "data1[ 'Unnamed: 0'] = un_le.transform(data[ 'Unnamed: 0'])\r\n",
    "data1[ 'Data'] = data_le.transform(data[ 'Data'])\r\n",
    "data1[ 'Countries'] = Country_le.transform(data[ 'Countries'])\r\n",
    "data1[ 'Local'] = Local_le.transform(data[ 'Local'])\r\n",
    "data1[ 'Industry Sector'] = Ind_le.transform(data[ 'Industry Sector'])\r\n",
    "data1[ 'Accident Level'] = Acc_le.transform(data[ 'Accident Level'])\r\n",
    "data1[ 'Potential Accident Level'] = Pot_le.transform(data[ 'Potential Accident Level'])\r\n",
    "data1[ 'Genre'] = Gen_le.transform(data[ 'Genre'])\r\n",
    "data1[ 'Employee or Third Party'] = Emp_le.transform(data[ 'Employee or Third Party'])\r\n",
    "data1[ 'Critical Risk'] = Crit_le.transform(data[ 'Critical Risk'])\r\n",
    "data1[ 'Description'] = Desc_le.transform(data[ 'Description'])"
   ]
  },
  {
   "cell_type": "code",
   "execution_count": null,
   "metadata": {
    "colab": {
     "base_uri": "https://localhost:8080/",
     "height": 419
    },
    "executionInfo": {
     "elapsed": 537,
     "status": "ok",
     "timestamp": 1609623984098,
     "user": {
      "displayName": "Naga Srinivas Ramanujam Mangena",
      "photoUrl": "",
      "userId": "04219536135155449678"
     },
     "user_tz": 0
    },
    "id": "ohLOhIw78MIm",
    "outputId": "5f85298e-b1a9-480a-c96e-a5050524b35d"
   },
   "outputs": [
    {
     "data": {
      "text/html": [
       "<div>\n",
       "<style scoped>\n",
       "    .dataframe tbody tr th:only-of-type {\n",
       "        vertical-align: middle;\n",
       "    }\n",
       "\n",
       "    .dataframe tbody tr th {\n",
       "        vertical-align: top;\n",
       "    }\n",
       "\n",
       "    .dataframe thead th {\n",
       "        text-align: right;\n",
       "    }\n",
       "</style>\n",
       "<table border=\"1\" class=\"dataframe\">\n",
       "  <thead>\n",
       "    <tr style=\"text-align: right;\">\n",
       "      <th></th>\n",
       "      <th>Unnamed: 0</th>\n",
       "      <th>Data</th>\n",
       "      <th>Countries</th>\n",
       "      <th>Local</th>\n",
       "      <th>Industry Sector</th>\n",
       "      <th>Accident Level</th>\n",
       "      <th>Potential Accident Level</th>\n",
       "      <th>Genre</th>\n",
       "      <th>Employee or Third Party</th>\n",
       "      <th>Critical Risk</th>\n",
       "      <th>Description</th>\n",
       "    </tr>\n",
       "  </thead>\n",
       "  <tbody>\n",
       "    <tr>\n",
       "      <th>0</th>\n",
       "      <td>0</td>\n",
       "      <td>2016-01-01 00:00:00</td>\n",
       "      <td>Country_01</td>\n",
       "      <td>Local_01</td>\n",
       "      <td>Mining</td>\n",
       "      <td>I</td>\n",
       "      <td>IV</td>\n",
       "      <td>Male</td>\n",
       "      <td>Third Party</td>\n",
       "      <td>Pressed</td>\n",
       "      <td>While removing the drill rod of the Jumbo 08 f...</td>\n",
       "    </tr>\n",
       "    <tr>\n",
       "      <th>1</th>\n",
       "      <td>1</td>\n",
       "      <td>2016-01-02 00:00:00</td>\n",
       "      <td>Country_02</td>\n",
       "      <td>Local_02</td>\n",
       "      <td>Mining</td>\n",
       "      <td>I</td>\n",
       "      <td>IV</td>\n",
       "      <td>Male</td>\n",
       "      <td>Employee</td>\n",
       "      <td>Pressurized Systems</td>\n",
       "      <td>During the activation of a sodium sulphide pum...</td>\n",
       "    </tr>\n",
       "    <tr>\n",
       "      <th>2</th>\n",
       "      <td>2</td>\n",
       "      <td>2016-01-06 00:00:00</td>\n",
       "      <td>Country_01</td>\n",
       "      <td>Local_03</td>\n",
       "      <td>Mining</td>\n",
       "      <td>I</td>\n",
       "      <td>III</td>\n",
       "      <td>Male</td>\n",
       "      <td>Third Party (Remote)</td>\n",
       "      <td>Manual Tools</td>\n",
       "      <td>In the sub-station MILPO located at level +170...</td>\n",
       "    </tr>\n",
       "    <tr>\n",
       "      <th>3</th>\n",
       "      <td>3</td>\n",
       "      <td>2016-01-08 00:00:00</td>\n",
       "      <td>Country_01</td>\n",
       "      <td>Local_04</td>\n",
       "      <td>Mining</td>\n",
       "      <td>I</td>\n",
       "      <td>I</td>\n",
       "      <td>Male</td>\n",
       "      <td>Third Party</td>\n",
       "      <td>Others</td>\n",
       "      <td>Being 9:45 am. approximately in the Nv. 1880 C...</td>\n",
       "    </tr>\n",
       "    <tr>\n",
       "      <th>4</th>\n",
       "      <td>4</td>\n",
       "      <td>2016-01-10 00:00:00</td>\n",
       "      <td>Country_01</td>\n",
       "      <td>Local_04</td>\n",
       "      <td>Mining</td>\n",
       "      <td>IV</td>\n",
       "      <td>IV</td>\n",
       "      <td>Male</td>\n",
       "      <td>Third Party</td>\n",
       "      <td>Others</td>\n",
       "      <td>Approximately at 11:45 a.m. in circumstances t...</td>\n",
       "    </tr>\n",
       "    <tr>\n",
       "      <th>...</th>\n",
       "      <td>...</td>\n",
       "      <td>...</td>\n",
       "      <td>...</td>\n",
       "      <td>...</td>\n",
       "      <td>...</td>\n",
       "      <td>...</td>\n",
       "      <td>...</td>\n",
       "      <td>...</td>\n",
       "      <td>...</td>\n",
       "      <td>...</td>\n",
       "      <td>...</td>\n",
       "    </tr>\n",
       "    <tr>\n",
       "      <th>420</th>\n",
       "      <td>434</td>\n",
       "      <td>2017-07-04 00:00:00</td>\n",
       "      <td>Country_01</td>\n",
       "      <td>Local_04</td>\n",
       "      <td>Mining</td>\n",
       "      <td>I</td>\n",
       "      <td>III</td>\n",
       "      <td>Male</td>\n",
       "      <td>Third Party</td>\n",
       "      <td>Others</td>\n",
       "      <td>Being approximately 5:00 a.m. approximately, w...</td>\n",
       "    </tr>\n",
       "    <tr>\n",
       "      <th>421</th>\n",
       "      <td>435</td>\n",
       "      <td>2017-07-04 00:00:00</td>\n",
       "      <td>Country_01</td>\n",
       "      <td>Local_03</td>\n",
       "      <td>Mining</td>\n",
       "      <td>I</td>\n",
       "      <td>II</td>\n",
       "      <td>Female</td>\n",
       "      <td>Employee</td>\n",
       "      <td>Others</td>\n",
       "      <td>The collaborator moved from the infrastructure...</td>\n",
       "    </tr>\n",
       "    <tr>\n",
       "      <th>422</th>\n",
       "      <td>436</td>\n",
       "      <td>2017-07-05 00:00:00</td>\n",
       "      <td>Country_02</td>\n",
       "      <td>Local_09</td>\n",
       "      <td>Metals</td>\n",
       "      <td>I</td>\n",
       "      <td>II</td>\n",
       "      <td>Male</td>\n",
       "      <td>Employee</td>\n",
       "      <td>Venomous Animals</td>\n",
       "      <td>During the environmental monitoring activity i...</td>\n",
       "    </tr>\n",
       "    <tr>\n",
       "      <th>423</th>\n",
       "      <td>437</td>\n",
       "      <td>2017-07-06 00:00:00</td>\n",
       "      <td>Country_02</td>\n",
       "      <td>Local_05</td>\n",
       "      <td>Metals</td>\n",
       "      <td>I</td>\n",
       "      <td>II</td>\n",
       "      <td>Male</td>\n",
       "      <td>Employee</td>\n",
       "      <td>Cut</td>\n",
       "      <td>The Employee performed the activity of strippi...</td>\n",
       "    </tr>\n",
       "    <tr>\n",
       "      <th>424</th>\n",
       "      <td>438</td>\n",
       "      <td>2017-07-09 00:00:00</td>\n",
       "      <td>Country_01</td>\n",
       "      <td>Local_04</td>\n",
       "      <td>Mining</td>\n",
       "      <td>I</td>\n",
       "      <td>II</td>\n",
       "      <td>Female</td>\n",
       "      <td>Third Party</td>\n",
       "      <td>Fall prevention (same level)</td>\n",
       "      <td>At 10:00 a.m., when the assistant cleaned the ...</td>\n",
       "    </tr>\n",
       "  </tbody>\n",
       "</table>\n",
       "<p>425 rows × 11 columns</p>\n",
       "</div>"
      ],
      "text/plain": [
       "     Unnamed: 0  ...                                        Description\n",
       "0             0  ...  While removing the drill rod of the Jumbo 08 f...\n",
       "1             1  ...  During the activation of a sodium sulphide pum...\n",
       "2             2  ...  In the sub-station MILPO located at level +170...\n",
       "3             3  ...  Being 9:45 am. approximately in the Nv. 1880 C...\n",
       "4             4  ...  Approximately at 11:45 a.m. in circumstances t...\n",
       "..          ...  ...                                                ...\n",
       "420         434  ...  Being approximately 5:00 a.m. approximately, w...\n",
       "421         435  ...  The collaborator moved from the infrastructure...\n",
       "422         436  ...  During the environmental monitoring activity i...\n",
       "423         437  ...  The Employee performed the activity of strippi...\n",
       "424         438  ...  At 10:00 a.m., when the assistant cleaned the ...\n",
       "\n",
       "[425 rows x 11 columns]"
      ]
     },
     "execution_count": 88,
     "metadata": {
      "tags": []
     },
     "output_type": "execute_result"
    }
   ],
   "source": [
    "data"
   ]
  },
  {
   "cell_type": "code",
   "execution_count": null,
   "metadata": {
    "colab": {
     "base_uri": "https://localhost:8080/",
     "height": 419
    },
    "executionInfo": {
     "elapsed": 500,
     "status": "ok",
     "timestamp": 1609623985994,
     "user": {
      "displayName": "Naga Srinivas Ramanujam Mangena",
      "photoUrl": "",
      "userId": "04219536135155449678"
     },
     "user_tz": 0
    },
    "id": "2SD7_cSF3GJz",
    "outputId": "c3864d45-93ab-4962-c053-952302ca0cd8"
   },
   "outputs": [
    {
     "data": {
      "text/html": [
       "<div>\n",
       "<style scoped>\n",
       "    .dataframe tbody tr th:only-of-type {\n",
       "        vertical-align: middle;\n",
       "    }\n",
       "\n",
       "    .dataframe tbody tr th {\n",
       "        vertical-align: top;\n",
       "    }\n",
       "\n",
       "    .dataframe thead th {\n",
       "        text-align: right;\n",
       "    }\n",
       "</style>\n",
       "<table border=\"1\" class=\"dataframe\">\n",
       "  <thead>\n",
       "    <tr style=\"text-align: right;\">\n",
       "      <th></th>\n",
       "      <th>Unnamed: 0</th>\n",
       "      <th>Data</th>\n",
       "      <th>Countries</th>\n",
       "      <th>Local</th>\n",
       "      <th>Industry Sector</th>\n",
       "      <th>Accident Level</th>\n",
       "      <th>Potential Accident Level</th>\n",
       "      <th>Genre</th>\n",
       "      <th>Employee or Third Party</th>\n",
       "      <th>Critical Risk</th>\n",
       "      <th>Description</th>\n",
       "    </tr>\n",
       "  </thead>\n",
       "  <tbody>\n",
       "    <tr>\n",
       "      <th>0</th>\n",
       "      <td>0</td>\n",
       "      <td>0</td>\n",
       "      <td>0</td>\n",
       "      <td>0</td>\n",
       "      <td>1</td>\n",
       "      <td>0</td>\n",
       "      <td>3</td>\n",
       "      <td>1</td>\n",
       "      <td>1</td>\n",
       "      <td>20</td>\n",
       "      <td>398</td>\n",
       "    </tr>\n",
       "    <tr>\n",
       "      <th>1</th>\n",
       "      <td>1</td>\n",
       "      <td>1</td>\n",
       "      <td>1</td>\n",
       "      <td>1</td>\n",
       "      <td>1</td>\n",
       "      <td>0</td>\n",
       "      <td>3</td>\n",
       "      <td>1</td>\n",
       "      <td>0</td>\n",
       "      <td>21</td>\n",
       "      <td>111</td>\n",
       "    </tr>\n",
       "    <tr>\n",
       "      <th>2</th>\n",
       "      <td>2</td>\n",
       "      <td>2</td>\n",
       "      <td>0</td>\n",
       "      <td>2</td>\n",
       "      <td>1</td>\n",
       "      <td>0</td>\n",
       "      <td>2</td>\n",
       "      <td>1</td>\n",
       "      <td>2</td>\n",
       "      <td>15</td>\n",
       "      <td>240</td>\n",
       "    </tr>\n",
       "    <tr>\n",
       "      <th>3</th>\n",
       "      <td>3</td>\n",
       "      <td>3</td>\n",
       "      <td>0</td>\n",
       "      <td>3</td>\n",
       "      <td>1</td>\n",
       "      <td>0</td>\n",
       "      <td>0</td>\n",
       "      <td>1</td>\n",
       "      <td>1</td>\n",
       "      <td>16</td>\n",
       "      <td>88</td>\n",
       "    </tr>\n",
       "    <tr>\n",
       "      <th>4</th>\n",
       "      <td>4</td>\n",
       "      <td>4</td>\n",
       "      <td>0</td>\n",
       "      <td>3</td>\n",
       "      <td>1</td>\n",
       "      <td>3</td>\n",
       "      <td>3</td>\n",
       "      <td>1</td>\n",
       "      <td>1</td>\n",
       "      <td>16</td>\n",
       "      <td>16</td>\n",
       "    </tr>\n",
       "    <tr>\n",
       "      <th>...</th>\n",
       "      <td>...</td>\n",
       "      <td>...</td>\n",
       "      <td>...</td>\n",
       "      <td>...</td>\n",
       "      <td>...</td>\n",
       "      <td>...</td>\n",
       "      <td>...</td>\n",
       "      <td>...</td>\n",
       "      <td>...</td>\n",
       "      <td>...</td>\n",
       "      <td>...</td>\n",
       "    </tr>\n",
       "    <tr>\n",
       "      <th>420</th>\n",
       "      <td>420</td>\n",
       "      <td>283</td>\n",
       "      <td>0</td>\n",
       "      <td>3</td>\n",
       "      <td>1</td>\n",
       "      <td>0</td>\n",
       "      <td>2</td>\n",
       "      <td>1</td>\n",
       "      <td>1</td>\n",
       "      <td>16</td>\n",
       "      <td>93</td>\n",
       "    </tr>\n",
       "    <tr>\n",
       "      <th>421</th>\n",
       "      <td>421</td>\n",
       "      <td>283</td>\n",
       "      <td>0</td>\n",
       "      <td>2</td>\n",
       "      <td>1</td>\n",
       "      <td>0</td>\n",
       "      <td>1</td>\n",
       "      <td>0</td>\n",
       "      <td>0</td>\n",
       "      <td>16</td>\n",
       "      <td>287</td>\n",
       "    </tr>\n",
       "    <tr>\n",
       "      <th>422</th>\n",
       "      <td>422</td>\n",
       "      <td>284</td>\n",
       "      <td>1</td>\n",
       "      <td>8</td>\n",
       "      <td>0</td>\n",
       "      <td>0</td>\n",
       "      <td>1</td>\n",
       "      <td>1</td>\n",
       "      <td>0</td>\n",
       "      <td>31</td>\n",
       "      <td>123</td>\n",
       "    </tr>\n",
       "    <tr>\n",
       "      <th>423</th>\n",
       "      <td>423</td>\n",
       "      <td>285</td>\n",
       "      <td>1</td>\n",
       "      <td>4</td>\n",
       "      <td>0</td>\n",
       "      <td>0</td>\n",
       "      <td>1</td>\n",
       "      <td>1</td>\n",
       "      <td>0</td>\n",
       "      <td>6</td>\n",
       "      <td>279</td>\n",
       "    </tr>\n",
       "    <tr>\n",
       "      <th>424</th>\n",
       "      <td>424</td>\n",
       "      <td>286</td>\n",
       "      <td>0</td>\n",
       "      <td>3</td>\n",
       "      <td>1</td>\n",
       "      <td>0</td>\n",
       "      <td>1</td>\n",
       "      <td>0</td>\n",
       "      <td>1</td>\n",
       "      <td>11</td>\n",
       "      <td>20</td>\n",
       "    </tr>\n",
       "  </tbody>\n",
       "</table>\n",
       "<p>425 rows × 11 columns</p>\n",
       "</div>"
      ],
      "text/plain": [
       "     Unnamed: 0  Data  ...  Critical Risk  Description\n",
       "0             0     0  ...             20          398\n",
       "1             1     1  ...             21          111\n",
       "2             2     2  ...             15          240\n",
       "3             3     3  ...             16           88\n",
       "4             4     4  ...             16           16\n",
       "..          ...   ...  ...            ...          ...\n",
       "420         420   283  ...             16           93\n",
       "421         421   283  ...             16          287\n",
       "422         422   284  ...             31          123\n",
       "423         423   285  ...              6          279\n",
       "424         424   286  ...             11           20\n",
       "\n",
       "[425 rows x 11 columns]"
      ]
     },
     "execution_count": 89,
     "metadata": {
      "tags": []
     },
     "output_type": "execute_result"
    }
   ],
   "source": [
    "data1"
   ]
  },
  {
   "cell_type": "code",
   "execution_count": null,
   "metadata": {
    "id": "9hwLW2i_0tzT"
   },
   "outputs": [],
   "source": [
    "# define dataset\r\n",
    "X = data1.drop(columns='Accident Level',axis =0)\r\n",
    "y = data1['Accident Level']"
   ]
  },
  {
   "cell_type": "code",
   "execution_count": null,
   "metadata": {
    "colab": {
     "base_uri": "https://localhost:8080/"
    },
    "executionInfo": {
     "elapsed": 738,
     "status": "ok",
     "timestamp": 1609623990534,
     "user": {
      "displayName": "Naga Srinivas Ramanujam Mangena",
      "photoUrl": "",
      "userId": "04219536135155449678"
     },
     "user_tz": 0
    },
    "id": "-gCSoquet-hE",
    "outputId": "7c759834-b90e-439f-b59d-b1f2f854a900"
   },
   "outputs": [
    {
     "name": "stdout",
     "output_type": "stream",
     "text": [
      "Original dataset shape Counter({0: 316, 1: 40, 2: 31, 3: 30, 4: 8})\n",
      "Resample dataset shape Counter({0: 316, 3: 316, 2: 316, 1: 316, 4: 316})\n"
     ]
    },
    {
     "name": "stderr",
     "output_type": "stream",
     "text": [
      "/usr/local/lib/python3.6/dist-packages/sklearn/utils/deprecation.py:87: FutureWarning: Function safe_indexing is deprecated; safe_indexing is deprecated in version 0.22 and will be removed in version 0.24.\n",
      "  warnings.warn(msg, category=FutureWarning)\n",
      "/usr/local/lib/python3.6/dist-packages/sklearn/utils/deprecation.py:87: FutureWarning: Function safe_indexing is deprecated; safe_indexing is deprecated in version 0.22 and will be removed in version 0.24.\n",
      "  warnings.warn(msg, category=FutureWarning)\n",
      "/usr/local/lib/python3.6/dist-packages/sklearn/utils/deprecation.py:87: FutureWarning: Function safe_indexing is deprecated; safe_indexing is deprecated in version 0.22 and will be removed in version 0.24.\n",
      "  warnings.warn(msg, category=FutureWarning)\n",
      "/usr/local/lib/python3.6/dist-packages/sklearn/utils/deprecation.py:87: FutureWarning: Function safe_indexing is deprecated; safe_indexing is deprecated in version 0.22 and will be removed in version 0.24.\n",
      "  warnings.warn(msg, category=FutureWarning)\n"
     ]
    }
   ],
   "source": [
    "from imblearn.over_sampling import SMOTE\r\n",
    "\r\n",
    "smote = SMOTE()\r\n",
    "\r\n",
    "# fit predictor and target variable\r\n",
    "x_smote, y_smote = smote.fit_resample(X, y)\r\n",
    "\r\n",
    "print('Original dataset shape', Counter(y))\r\n",
    "print('Resample dataset shape', Counter(y_smote))"
   ]
  },
  {
   "cell_type": "code",
   "execution_count": null,
   "metadata": {
    "id": "FQsEPcUwvr7C"
   },
   "outputs": [],
   "source": [
    "X_new = pd.DataFrame() \r\n",
    "#X_new[ 'Unnamed: 0'] = un_le.inverse_transform(x_smote_df[ 'Unnamed: 0'])\r\n",
    "X_new[ 'Data'] = data_le.inverse_transform(x_smote_df[ 'Data'])\r\n",
    "X_new[ 'Countries'] = Country_le.inverse_transform(x_smote_df[ 'Countries'])\r\n",
    "X_new[ 'Local'] = Local_le.inverse_transform(x_smote_df[ 'Local'])\r\n",
    "X_new[ 'Industry Sector'] = Ind_le.inverse_transform(x_smote_df[ 'Industry Sector'])\r\n",
    "X_new[ 'Potential Accident Level'] = Pot_le.inverse_transform(x_smote_df[ 'Potential Accident Level'])\r\n",
    "X_new[ 'Genre'] = Gen_le.inverse_transform(x_smote_df[ 'Genre'])\r\n",
    "X_new[ 'Employee or Third Party'] = Emp_le.inverse_transform(x_smote_df[ 'Employee or Third Party'])\r\n",
    "X_new[ 'Critical Risk'] = Crit_le.inverse_transform(x_smote_df[ 'Critical Risk'])\r\n",
    "X_new[ 'Description'] = Desc_le.inverse_transform(x_smote_df[ 'Description'])\r\n",
    "\r\n",
    "X_new[ 'Accident Level'] = Acc_le.inverse_transform(y_smote)"
   ]
  },
  {
   "cell_type": "code",
   "execution_count": null,
   "metadata": {
    "colab": {
     "base_uri": "https://localhost:8080/",
     "height": 419
    },
    "executionInfo": {
     "elapsed": 594,
     "status": "ok",
     "timestamp": 1609623997519,
     "user": {
      "displayName": "Naga Srinivas Ramanujam Mangena",
      "photoUrl": "",
      "userId": "04219536135155449678"
     },
     "user_tz": 0
    },
    "id": "i1WSLn8w1k5M",
    "outputId": "f0b64516-a595-4ffa-c070-1df6f482e21b"
   },
   "outputs": [
    {
     "data": {
      "text/html": [
       "<div>\n",
       "<style scoped>\n",
       "    .dataframe tbody tr th:only-of-type {\n",
       "        vertical-align: middle;\n",
       "    }\n",
       "\n",
       "    .dataframe tbody tr th {\n",
       "        vertical-align: top;\n",
       "    }\n",
       "\n",
       "    .dataframe thead th {\n",
       "        text-align: right;\n",
       "    }\n",
       "</style>\n",
       "<table border=\"1\" class=\"dataframe\">\n",
       "  <thead>\n",
       "    <tr style=\"text-align: right;\">\n",
       "      <th></th>\n",
       "      <th>Data</th>\n",
       "      <th>Countries</th>\n",
       "      <th>Local</th>\n",
       "      <th>Industry Sector</th>\n",
       "      <th>Potential Accident Level</th>\n",
       "      <th>Genre</th>\n",
       "      <th>Employee or Third Party</th>\n",
       "      <th>Critical Risk</th>\n",
       "      <th>Description</th>\n",
       "      <th>Accident Level</th>\n",
       "    </tr>\n",
       "  </thead>\n",
       "  <tbody>\n",
       "    <tr>\n",
       "      <th>0</th>\n",
       "      <td>2016-01-01 00:00:00</td>\n",
       "      <td>Country_01</td>\n",
       "      <td>Local_01</td>\n",
       "      <td>Mining</td>\n",
       "      <td>IV</td>\n",
       "      <td>Male</td>\n",
       "      <td>Third Party</td>\n",
       "      <td>Pressed</td>\n",
       "      <td>While removing the drill rod of the Jumbo 08 f...</td>\n",
       "      <td>I</td>\n",
       "    </tr>\n",
       "    <tr>\n",
       "      <th>1</th>\n",
       "      <td>2016-01-02 00:00:00</td>\n",
       "      <td>Country_02</td>\n",
       "      <td>Local_02</td>\n",
       "      <td>Mining</td>\n",
       "      <td>IV</td>\n",
       "      <td>Male</td>\n",
       "      <td>Employee</td>\n",
       "      <td>Pressurized Systems</td>\n",
       "      <td>During the activation of a sodium sulphide pum...</td>\n",
       "      <td>I</td>\n",
       "    </tr>\n",
       "    <tr>\n",
       "      <th>2</th>\n",
       "      <td>2016-01-06 00:00:00</td>\n",
       "      <td>Country_01</td>\n",
       "      <td>Local_03</td>\n",
       "      <td>Mining</td>\n",
       "      <td>III</td>\n",
       "      <td>Male</td>\n",
       "      <td>Third Party (Remote)</td>\n",
       "      <td>Manual Tools</td>\n",
       "      <td>In the sub-station MILPO located at level +170...</td>\n",
       "      <td>I</td>\n",
       "    </tr>\n",
       "    <tr>\n",
       "      <th>3</th>\n",
       "      <td>2016-01-08 00:00:00</td>\n",
       "      <td>Country_01</td>\n",
       "      <td>Local_04</td>\n",
       "      <td>Mining</td>\n",
       "      <td>I</td>\n",
       "      <td>Male</td>\n",
       "      <td>Third Party</td>\n",
       "      <td>Others</td>\n",
       "      <td>Being 9:45 am. approximately in the Nv. 1880 C...</td>\n",
       "      <td>I</td>\n",
       "    </tr>\n",
       "    <tr>\n",
       "      <th>4</th>\n",
       "      <td>2016-01-10 00:00:00</td>\n",
       "      <td>Country_01</td>\n",
       "      <td>Local_04</td>\n",
       "      <td>Mining</td>\n",
       "      <td>IV</td>\n",
       "      <td>Male</td>\n",
       "      <td>Third Party</td>\n",
       "      <td>Others</td>\n",
       "      <td>Approximately at 11:45 a.m. in circumstances t...</td>\n",
       "      <td>IV</td>\n",
       "    </tr>\n",
       "    <tr>\n",
       "      <th>...</th>\n",
       "      <td>...</td>\n",
       "      <td>...</td>\n",
       "      <td>...</td>\n",
       "      <td>...</td>\n",
       "      <td>...</td>\n",
       "      <td>...</td>\n",
       "      <td>...</td>\n",
       "      <td>...</td>\n",
       "      <td>...</td>\n",
       "      <td>...</td>\n",
       "    </tr>\n",
       "    <tr>\n",
       "      <th>1575</th>\n",
       "      <td>2016-12-10 00:00:00</td>\n",
       "      <td>Country_01</td>\n",
       "      <td>Local_05</td>\n",
       "      <td>Metals</td>\n",
       "      <td>V</td>\n",
       "      <td>Male</td>\n",
       "      <td>Third Party</td>\n",
       "      <td>Plates</td>\n",
       "      <td>Being 4:15 a.m. on the 179th block of Nv 1880 ...</td>\n",
       "      <td>V</td>\n",
       "    </tr>\n",
       "    <tr>\n",
       "      <th>1576</th>\n",
       "      <td>2017-04-13 00:00:00</td>\n",
       "      <td>Country_01</td>\n",
       "      <td>Local_02</td>\n",
       "      <td>Mining</td>\n",
       "      <td>V</td>\n",
       "      <td>Male</td>\n",
       "      <td>Third Party</td>\n",
       "      <td>Others</td>\n",
       "      <td>When positioning the scissor bolter N ° 09 in ...</td>\n",
       "      <td>V</td>\n",
       "    </tr>\n",
       "    <tr>\n",
       "      <th>1577</th>\n",
       "      <td>2016-07-10 00:00:00</td>\n",
       "      <td>Country_01</td>\n",
       "      <td>Local_03</td>\n",
       "      <td>Mining</td>\n",
       "      <td>V</td>\n",
       "      <td>Male</td>\n",
       "      <td>Third Party</td>\n",
       "      <td>Poll</td>\n",
       "      <td>Being 5:15 a.m. in the N. in the NV 1710 CX 01...</td>\n",
       "      <td>V</td>\n",
       "    </tr>\n",
       "    <tr>\n",
       "      <th>1578</th>\n",
       "      <td>2017-03-18 00:00:00</td>\n",
       "      <td>Country_01</td>\n",
       "      <td>Local_01</td>\n",
       "      <td>Mining</td>\n",
       "      <td>V</td>\n",
       "      <td>Male</td>\n",
       "      <td>Third Party</td>\n",
       "      <td>Projection/Choco</td>\n",
       "      <td>When the mechanical technician proceeded to pe...</td>\n",
       "      <td>V</td>\n",
       "    </tr>\n",
       "    <tr>\n",
       "      <th>1579</th>\n",
       "      <td>2017-03-18 00:00:00</td>\n",
       "      <td>Country_01</td>\n",
       "      <td>Local_05</td>\n",
       "      <td>Metals</td>\n",
       "      <td>V</td>\n",
       "      <td>Male</td>\n",
       "      <td>Third Party</td>\n",
       "      <td>Power lock</td>\n",
       "      <td>Being approximately 20:57 hours of 03/22/2017;...</td>\n",
       "      <td>V</td>\n",
       "    </tr>\n",
       "  </tbody>\n",
       "</table>\n",
       "<p>1580 rows × 10 columns</p>\n",
       "</div>"
      ],
      "text/plain": [
       "                     Data  ... Accident Level\n",
       "0     2016-01-01 00:00:00  ...              I\n",
       "1     2016-01-02 00:00:00  ...              I\n",
       "2     2016-01-06 00:00:00  ...              I\n",
       "3     2016-01-08 00:00:00  ...              I\n",
       "4     2016-01-10 00:00:00  ...             IV\n",
       "...                   ...  ...            ...\n",
       "1575  2016-12-10 00:00:00  ...              V\n",
       "1576  2017-04-13 00:00:00  ...              V\n",
       "1577  2016-07-10 00:00:00  ...              V\n",
       "1578  2017-03-18 00:00:00  ...              V\n",
       "1579  2017-03-18 00:00:00  ...              V\n",
       "\n",
       "[1580 rows x 10 columns]"
      ]
     },
     "execution_count": 93,
     "metadata": {
      "tags": []
     },
     "output_type": "execute_result"
    }
   ],
   "source": [
    "X_new"
   ]
  },
  {
   "cell_type": "code",
   "execution_count": null,
   "metadata": {
    "colab": {
     "base_uri": "https://localhost:8080/"
    },
    "executionInfo": {
     "elapsed": 520,
     "status": "ok",
     "timestamp": 1609624033193,
     "user": {
      "displayName": "Naga Srinivas Ramanujam Mangena",
      "photoUrl": "",
      "userId": "04219536135155449678"
     },
     "user_tz": 0
    },
    "id": "TqJPXg3_33Mp",
    "outputId": "e4a1aa3b-11ac-40d3-9cc0-b128606cbd63"
   },
   "outputs": [
    {
     "data": {
      "text/plain": [
       "Index(['Data', 'Countries', 'Local', 'Industry Sector',\n",
       "       'Potential Accident Level', 'Genre', 'Employee or Third Party',\n",
       "       'Critical Risk', 'Description', 'Accident Level'],\n",
       "      dtype='object')"
      ]
     },
     "execution_count": 94,
     "metadata": {
      "tags": []
     },
     "output_type": "execute_result"
    }
   ],
   "source": [
    "X_new.columns"
   ]
  },
  {
   "cell_type": "code",
   "execution_count": null,
   "metadata": {
    "id": "IzQLpr4_CEdj"
   },
   "outputs": [],
   "source": [
    "X_new.to_csv('IHMStefanini_industrial_safety_and_health_database_with_accidents_description_Dataset_SMOTE.csv')"
   ]
  }
 ],
 "metadata": {
  "colab": {
   "name": "Capstone_imbalanced_dataset_SMOTE.ipynb",
   "provenance": []
  },
  "kernelspec": {
   "display_name": "Python 3",
   "language": "python",
   "name": "python3"
  },
  "language_info": {
   "codemirror_mode": {
    "name": "ipython",
    "version": 3
   },
   "file_extension": ".py",
   "mimetype": "text/x-python",
   "name": "python",
   "nbconvert_exporter": "python",
   "pygments_lexer": "ipython3",
   "version": "3.8.5"
  }
 },
 "nbformat": 4,
 "nbformat_minor": 4
}
