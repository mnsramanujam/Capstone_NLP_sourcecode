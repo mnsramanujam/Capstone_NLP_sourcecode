{
 "cells": [
  {
   "cell_type": "markdown",
   "metadata": {
    "id": "bnDuDO90EkBs"
   },
   "source": [
    "# NLP 2-AIML Capstone Grp 8"
   ]
  },
  {
   "cell_type": "markdown",
   "metadata": {
    "id": "chdIFEHVYJwa"
   },
   "source": [
    "In this notebook we used LSTM+ XGBoost to predict the accident level.\r\n",
    "\r\n",
    "This happens in 2 stages.\r\n",
    "1. Process the description using 300d glove embeddings and pass them to LSTM for accident class probabilities.\r\n",
    "2. Pass the probabilities along with other Non text parameters to XGBoost machine learning model to predict the final outcome."
   ]
  },
  {
   "cell_type": "markdown",
   "metadata": {
    "id": "6K9BNY4AIRV5"
   },
   "source": [
    "Import Libraries"
   ]
  },
  {
   "cell_type": "code",
   "execution_count": 1,
   "metadata": {
    "colab": {
     "base_uri": "https://localhost:8080/",
     "height": 108,
     "output_embedded_package_id": "1vEXhP0AxP1uOUZkkDLcm103YXNAcSs6H"
    },
    "executionInfo": {
     "elapsed": 7891,
     "status": "ok",
     "timestamp": 1611861648315,
     "user": {
      "displayName": "Naga Srinivas Ramanujam Mangena",
      "photoUrl": "",
      "userId": "04219536135155449678"
     },
     "user_tz": 0
    },
    "id": "HC4VcZYLHAi8",
    "outputId": "26037f04-21e1-4d82-c63a-5d00edf0608d"
   },
   "outputs": [
    {
     "data": {
      "text/plain": [
       "Output hidden; open in https://colab.research.google.com to view."
      ]
     },
     "metadata": {},
     "output_type": "display_data"
    }
   ],
   "source": [
    "import numpy as np\r\n",
    "import pandas as pd\r\n",
    "import matplotlib.pyplot as plt\r\n",
    "import seaborn as sns\r\n",
    "import warnings\r\n",
    "warnings.filterwarnings(\"ignore\")\r\n",
    "from PIL import Image\r\n",
    "from sklearn.ensemble import RandomForestClassifier\r\n",
    "from sklearn.model_selection import train_test_split\r\n",
    "from sklearn.preprocessing import LabelEncoder\r\n",
    "from sklearn.metrics import accuracy_score, f1_score, roc_auc_score\r\n",
    "from tensorflow.keras.models import Model, Sequential\r\n",
    "import os\r\n",
    "from sklearn.feature_extraction.text import TfidfVectorizer\r\n",
    "from nltk import tokenize,stem,punkt\r\n",
    "from tensorflow.keras.preprocessing.text import Tokenizer\r\n",
    "from tensorflow.keras.preprocessing.sequence import pad_sequences\r\n",
    "import holoviews as hv\r\n",
    "from holoviews import opts\r\n",
    "hv.extension('bokeh')\r\n",
    "import lightgbm as lgb\r\n",
    "import nltk\r\n",
    "from nltk.util import ngrams\r\n",
    "from wordcloud import WordCloud, STOPWORDS\r\n",
    "import nltk\r\n",
    "nltk.download('punkt')\r\n",
    "nltk.download('wordnet')\r\n"
   ]
  },
  {
   "cell_type": "markdown",
   "metadata": {
    "id": "HiF1jtU5IVR-"
   },
   "source": [
    "# Load Data"
   ]
  },
  {
   "cell_type": "code",
   "execution_count": 2,
   "metadata": {
    "colab": {
     "base_uri": "https://localhost:8080/"
    },
    "executionInfo": {
     "elapsed": 33862,
     "status": "ok",
     "timestamp": 1611861674327,
     "user": {
      "displayName": "Naga Srinivas Ramanujam Mangena",
      "photoUrl": "",
      "userId": "04219536135155449678"
     },
     "user_tz": 0
    },
    "id": "GTiUC-ATIXhe",
    "outputId": "7ed4f2e8-5b67-4c30-c22f-c276ff5721f9"
   },
   "outputs": [
    {
     "name": "stdout",
     "output_type": "stream",
     "text": [
      "Mounted at /content/drive\n"
     ]
    }
   ],
   "source": [
    "from google.colab import drive\r\n",
    "drive.mount('/content/drive')\r\n"
   ]
  },
  {
   "cell_type": "code",
   "execution_count": 3,
   "metadata": {
    "executionInfo": {
     "elapsed": 34307,
     "status": "ok",
     "timestamp": 1611861674776,
     "user": {
      "displayName": "Naga Srinivas Ramanujam Mangena",
      "photoUrl": "",
      "userId": "04219536135155449678"
     },
     "user_tz": 0
    },
    "id": "jKWWYaZGX45X"
   },
   "outputs": [],
   "source": [
    "# Setting the current working directory\r\n",
    "\r\n",
    "import os; \r\n",
    "os.chdir('/content/drive/MyDrive/Colab Notebooks/Capstone/Final')\r\n"
   ]
  },
  {
   "cell_type": "code",
   "execution_count": 4,
   "metadata": {
    "colab": {
     "base_uri": "https://localhost:8080/",
     "height": 138
    },
    "executionInfo": {
     "elapsed": 35315,
     "status": "ok",
     "timestamp": 1611861675809,
     "user": {
      "displayName": "Naga Srinivas Ramanujam Mangena",
      "photoUrl": "",
      "userId": "04219536135155449678"
     },
     "user_tz": 0
    },
    "id": "mc5uKsY8JFWI",
    "outputId": "0e30c8a4-01fb-4e56-ba27-d151af8ead4c"
   },
   "outputs": [
    {
     "data": {
      "text/html": [
       "<div>\n",
       "<style scoped>\n",
       "    .dataframe tbody tr th:only-of-type {\n",
       "        vertical-align: middle;\n",
       "    }\n",
       "\n",
       "    .dataframe tbody tr th {\n",
       "        vertical-align: top;\n",
       "    }\n",
       "\n",
       "    .dataframe thead th {\n",
       "        text-align: right;\n",
       "    }\n",
       "</style>\n",
       "<table border=\"1\" class=\"dataframe\">\n",
       "  <thead>\n",
       "    <tr style=\"text-align: right;\">\n",
       "      <th></th>\n",
       "      <th>Unnamed: 0</th>\n",
       "      <th>Data</th>\n",
       "      <th>Countries</th>\n",
       "      <th>Local</th>\n",
       "      <th>Industry Sector</th>\n",
       "      <th>Potential Accident Level</th>\n",
       "      <th>Genre</th>\n",
       "      <th>Employee or Third Party</th>\n",
       "      <th>Critical Risk</th>\n",
       "      <th>Description</th>\n",
       "      <th>Accident Level</th>\n",
       "    </tr>\n",
       "  </thead>\n",
       "  <tbody>\n",
       "    <tr>\n",
       "      <th>0</th>\n",
       "      <td>0</td>\n",
       "      <td>2016-01-01 00:00:00</td>\n",
       "      <td>Country_01</td>\n",
       "      <td>Local_01</td>\n",
       "      <td>Mining</td>\n",
       "      <td>IV</td>\n",
       "      <td>Male</td>\n",
       "      <td>Third Party</td>\n",
       "      <td>Pressed</td>\n",
       "      <td>While removing the drill rod of the Jumbo 08 f...</td>\n",
       "      <td>I</td>\n",
       "    </tr>\n",
       "    <tr>\n",
       "      <th>1</th>\n",
       "      <td>1</td>\n",
       "      <td>2016-01-02 00:00:00</td>\n",
       "      <td>Country_02</td>\n",
       "      <td>Local_02</td>\n",
       "      <td>Mining</td>\n",
       "      <td>IV</td>\n",
       "      <td>Male</td>\n",
       "      <td>Employee</td>\n",
       "      <td>Pressurized Systems</td>\n",
       "      <td>During the activation of a sodium sulphide pum...</td>\n",
       "      <td>I</td>\n",
       "    </tr>\n",
       "    <tr>\n",
       "      <th>2</th>\n",
       "      <td>2</td>\n",
       "      <td>2016-01-06 00:00:00</td>\n",
       "      <td>Country_01</td>\n",
       "      <td>Local_03</td>\n",
       "      <td>Mining</td>\n",
       "      <td>III</td>\n",
       "      <td>Male</td>\n",
       "      <td>Third Party (Remote)</td>\n",
       "      <td>Manual Tools</td>\n",
       "      <td>In the sub-station MILPO located at level +170...</td>\n",
       "      <td>I</td>\n",
       "    </tr>\n",
       "  </tbody>\n",
       "</table>\n",
       "</div>"
      ],
      "text/plain": [
       "   Unnamed: 0  ... Accident Level\n",
       "0           0  ...              I\n",
       "1           1  ...              I\n",
       "2           2  ...              I\n",
       "\n",
       "[3 rows x 11 columns]"
      ]
     },
     "execution_count": 4,
     "metadata": {
      "tags": []
     },
     "output_type": "execute_result"
    }
   ],
   "source": [
    "import pandas as pd\r\n",
    "#ram \r\n",
    "#data = pd.read_csv(\"/content/drive/MyDrive/Colab Notebooks/Capstone/IHMStefanini_industrial_safety_and_health_database_with_accidents_description_Dataset.csv\")\r\n",
    "#satya path /content/drive/MyDrive/Capstone project/IHMStefanini_industrial_safety_and_health_database_with_accidents_description.csv\r\n",
    "data_orig = pd.read_csv(\"/content/drive/MyDrive/Colab Notebooks/Capstone/IHMStefanini_industrial_safety_and_health_database_with_accidents_description_Dataset.csv\")\r\n",
    "# pd.read_csv(\"/content/drive/MyDrive/Capstone project/IHMStefanini_industrial_safety_and_health_database_with_accidents_description.csv\") #regular\r\n",
    "#smote data load below \r\n",
    "data=pd.read_csv(\"/content/drive/MyDrive/Colab Notebooks/Capstone/Final/IHMStefanini_industrial_safety_and_health_database_with_accidents_description_Dataset_SMOTE.csv\")\r\n",
    "data.head(3)\r\n"
   ]
  },
  {
   "cell_type": "code",
   "execution_count": 5,
   "metadata": {
    "colab": {
     "base_uri": "https://localhost:8080/"
    },
    "executionInfo": {
     "elapsed": 35301,
     "status": "ok",
     "timestamp": 1611861675814,
     "user": {
      "displayName": "Naga Srinivas Ramanujam Mangena",
      "photoUrl": "",
      "userId": "04219536135155449678"
     },
     "user_tz": 0
    },
    "id": "cNM3AjEqyggk",
    "outputId": "38c4d24c-af48-47c9-f71c-2ed9ef362226"
   },
   "outputs": [
    {
     "data": {
      "text/plain": [
       "(425, 11)"
      ]
     },
     "execution_count": 5,
     "metadata": {
      "tags": []
     },
     "output_type": "execute_result"
    }
   ],
   "source": [
    "data_orig.shape"
   ]
  },
  {
   "cell_type": "code",
   "execution_count": 6,
   "metadata": {
    "executionInfo": {
     "elapsed": 35299,
     "status": "ok",
     "timestamp": 1611861675816,
     "user": {
      "displayName": "Naga Srinivas Ramanujam Mangena",
      "photoUrl": "",
      "userId": "04219536135155449678"
     },
     "user_tz": 0
    },
    "id": "IuzymcJ0p9Km"
   },
   "outputs": [],
   "source": [
    "data_bkp = data.copy()"
   ]
  },
  {
   "cell_type": "code",
   "execution_count": 7,
   "metadata": {
    "executionInfo": {
     "elapsed": 35298,
     "status": "ok",
     "timestamp": 1611861675819,
     "user": {
      "displayName": "Naga Srinivas Ramanujam Mangena",
      "photoUrl": "",
      "userId": "04219536135155449678"
     },
     "user_tz": 0
    },
    "id": "5ID-4ylwglDq"
   },
   "outputs": [],
   "source": [
    "data.rename(columns=\r\n",
    "            {'Data':'Date','Genre':'Gender','Industry Sector':'Industry','Accident Level':'Accident','Potential Accident Level':'Potential_Accident','Employee or Third Party':'Emp_Type','Critical Risk':'Critical Risk'},inplace=True)\r\n"
   ]
  },
  {
   "cell_type": "code",
   "execution_count": 8,
   "metadata": {
    "executionInfo": {
     "elapsed": 35298,
     "status": "ok",
     "timestamp": 1611861675822,
     "user": {
      "displayName": "Naga Srinivas Ramanujam Mangena",
      "photoUrl": "",
      "userId": "04219536135155449678"
     },
     "user_tz": 0
    },
    "id": "Swg6aPxfDyt2"
   },
   "outputs": [],
   "source": [
    "data_orig.rename(columns=\r\n",
    "            {'Data':'Date','Genre':'Gender','Industry Sector':'Industry','Accident Level':'Accident','Potential Accident Level':'Potential_Accident','Employee or Third Party':'Emp_Type','Critical Risk':'Critical Risk'},inplace=True)\r\n"
   ]
  },
  {
   "cell_type": "code",
   "execution_count": 9,
   "metadata": {
    "colab": {
     "base_uri": "https://localhost:8080/",
     "height": 108
    },
    "executionInfo": {
     "elapsed": 35288,
     "status": "ok",
     "timestamp": 1611861675832,
     "user": {
      "displayName": "Naga Srinivas Ramanujam Mangena",
      "photoUrl": "",
      "userId": "04219536135155449678"
     },
     "user_tz": 0
    },
    "id": "MvNximf0H-QP",
    "outputId": "a223ace1-e3db-427b-973c-9e615f6f8074"
   },
   "outputs": [
    {
     "data": {
      "text/html": [
       "<div>\n",
       "<style scoped>\n",
       "    .dataframe tbody tr th:only-of-type {\n",
       "        vertical-align: middle;\n",
       "    }\n",
       "\n",
       "    .dataframe tbody tr th {\n",
       "        vertical-align: top;\n",
       "    }\n",
       "\n",
       "    .dataframe thead th {\n",
       "        text-align: right;\n",
       "    }\n",
       "</style>\n",
       "<table border=\"1\" class=\"dataframe\">\n",
       "  <thead>\n",
       "    <tr style=\"text-align: right;\">\n",
       "      <th></th>\n",
       "      <th>Unnamed: 0</th>\n",
       "      <th>Date</th>\n",
       "      <th>Countries</th>\n",
       "      <th>Local</th>\n",
       "      <th>Industry</th>\n",
       "      <th>Potential_Accident</th>\n",
       "      <th>Gender</th>\n",
       "      <th>Emp_Type</th>\n",
       "      <th>Critical Risk</th>\n",
       "      <th>Description</th>\n",
       "      <th>Accident</th>\n",
       "    </tr>\n",
       "  </thead>\n",
       "  <tbody>\n",
       "    <tr>\n",
       "      <th>0</th>\n",
       "      <td>0</td>\n",
       "      <td>2016-01-01 00:00:00</td>\n",
       "      <td>Country_01</td>\n",
       "      <td>Local_01</td>\n",
       "      <td>Mining</td>\n",
       "      <td>IV</td>\n",
       "      <td>Male</td>\n",
       "      <td>Third Party</td>\n",
       "      <td>Pressed</td>\n",
       "      <td>While removing the drill rod of the Jumbo 08 f...</td>\n",
       "      <td>I</td>\n",
       "    </tr>\n",
       "    <tr>\n",
       "      <th>1</th>\n",
       "      <td>1</td>\n",
       "      <td>2016-01-02 00:00:00</td>\n",
       "      <td>Country_02</td>\n",
       "      <td>Local_02</td>\n",
       "      <td>Mining</td>\n",
       "      <td>IV</td>\n",
       "      <td>Male</td>\n",
       "      <td>Employee</td>\n",
       "      <td>Pressurized Systems</td>\n",
       "      <td>During the activation of a sodium sulphide pum...</td>\n",
       "      <td>I</td>\n",
       "    </tr>\n",
       "  </tbody>\n",
       "</table>\n",
       "</div>"
      ],
      "text/plain": [
       "   Unnamed: 0  ... Accident\n",
       "0           0  ...        I\n",
       "1           1  ...        I\n",
       "\n",
       "[2 rows x 11 columns]"
      ]
     },
     "execution_count": 9,
     "metadata": {
      "tags": []
     },
     "output_type": "execute_result"
    }
   ],
   "source": [
    "data.head(2)"
   ]
  },
  {
   "cell_type": "markdown",
   "metadata": {
    "id": "n6WvCRmQu3D8"
   },
   "source": [
    "## Target"
   ]
  },
  {
   "cell_type": "code",
   "execution_count": 10,
   "metadata": {
    "executionInfo": {
     "elapsed": 35284,
     "status": "ok",
     "timestamp": 1611861675834,
     "user": {
      "displayName": "Naga Srinivas Ramanujam Mangena",
      "photoUrl": "",
      "userId": "04219536135155449678"
     },
     "user_tz": 0
    },
    "id": "qE4ad57K1bjx"
   },
   "outputs": [],
   "source": [
    "risk_grade = {'I':0,'II':1,'III':2,'IV':3,'V':4,'VI':5}\r\n",
    "data['Accident'] = pd.Series([risk_grade[x] for x in data['Accident']], index=data.index)\r\n"
   ]
  },
  {
   "cell_type": "code",
   "execution_count": 11,
   "metadata": {
    "colab": {
     "base_uri": "https://localhost:8080/"
    },
    "executionInfo": {
     "elapsed": 35265,
     "status": "ok",
     "timestamp": 1611861675837,
     "user": {
      "displayName": "Naga Srinivas Ramanujam Mangena",
      "photoUrl": "",
      "userId": "04219536135155449678"
     },
     "user_tz": 0
    },
    "id": "s9M65rI4E2t0",
    "outputId": "e61d8a29-f8e4-454d-a3bf-23f712b0cba2"
   },
   "outputs": [
    {
     "data": {
      "text/plain": [
       "0       0\n",
       "1       0\n",
       "2       0\n",
       "3       0\n",
       "4       3\n",
       "       ..\n",
       "1575    4\n",
       "1576    4\n",
       "1577    4\n",
       "1578    4\n",
       "1579    4\n",
       "Name: Accident, Length: 1580, dtype: int64"
      ]
     },
     "execution_count": 11,
     "metadata": {
      "tags": []
     },
     "output_type": "execute_result"
    }
   ],
   "source": [
    "data['Accident']"
   ]
  },
  {
   "cell_type": "code",
   "execution_count": 12,
   "metadata": {
    "executionInfo": {
     "elapsed": 35264,
     "status": "ok",
     "timestamp": 1611861675839,
     "user": {
      "displayName": "Naga Srinivas Ramanujam Mangena",
      "photoUrl": "",
      "userId": "04219536135155449678"
     },
     "user_tz": 0
    },
    "id": "FHSYQjYNEGMe"
   },
   "outputs": [],
   "source": [
    "data_orig['Accident']= pd.Series([risk_grade[x] for x in data_orig['Accident']], index=data_orig.index)"
   ]
  },
  {
   "cell_type": "code",
   "execution_count": 13,
   "metadata": {
    "colab": {
     "base_uri": "https://localhost:8080/"
    },
    "executionInfo": {
     "elapsed": 35247,
     "status": "ok",
     "timestamp": 1611861675840,
     "user": {
      "displayName": "Naga Srinivas Ramanujam Mangena",
      "photoUrl": "",
      "userId": "04219536135155449678"
     },
     "user_tz": 0
    },
    "id": "yZyED62hEIMX",
    "outputId": "dd299d09-1a28-49ac-ec78-6e581e82871f"
   },
   "outputs": [
    {
     "data": {
      "text/plain": [
       "0      0\n",
       "1      0\n",
       "2      0\n",
       "3      0\n",
       "4      3\n",
       "      ..\n",
       "420    0\n",
       "421    0\n",
       "422    0\n",
       "423    0\n",
       "424    0\n",
       "Name: Accident, Length: 425, dtype: int64"
      ]
     },
     "execution_count": 13,
     "metadata": {
      "tags": []
     },
     "output_type": "execute_result"
    }
   ],
   "source": [
    "data_orig['Accident']"
   ]
  },
  {
   "cell_type": "code",
   "execution_count": 14,
   "metadata": {
    "executionInfo": {
     "elapsed": 35246,
     "status": "ok",
     "timestamp": 1611861675842,
     "user": {
      "displayName": "Naga Srinivas Ramanujam Mangena",
      "photoUrl": "",
      "userId": "04219536135155449678"
     },
     "user_tz": 0
    },
    "id": "aLd0cDHyEqlF"
   },
   "outputs": [],
   "source": [
    "y=data['Accident']\r\n",
    "y_orig=data['Accident']"
   ]
  },
  {
   "cell_type": "code",
   "execution_count": 15,
   "metadata": {
    "executionInfo": {
     "elapsed": 35250,
     "status": "ok",
     "timestamp": 1611861675849,
     "user": {
      "displayName": "Naga Srinivas Ramanujam Mangena",
      "photoUrl": "",
      "userId": "04219536135155449678"
     },
     "user_tz": 0
    },
    "id": "6sodmB7iIDRv"
   },
   "outputs": [],
   "source": [
    "data_x = data.drop(columns ='Accident',axis =1)"
   ]
  },
  {
   "cell_type": "markdown",
   "metadata": {
    "id": "BencEnhQ651Z"
   },
   "source": [
    "## Test train split"
   ]
  },
  {
   "cell_type": "code",
   "execution_count": 16,
   "metadata": {
    "executionInfo": {
     "elapsed": 35249,
     "status": "ok",
     "timestamp": 1611861675851,
     "user": {
      "displayName": "Naga Srinivas Ramanujam Mangena",
      "photoUrl": "",
      "userId": "04219536135155449678"
     },
     "user_tz": 0
    },
    "id": "oi5UktSCIUvD"
   },
   "outputs": [],
   "source": [
    "X_train, X_test, y_train, y_test = train_test_split(\r\n",
    "    data_x, y, \r\n",
    "    test_size=0.2, random_state=1)\r\n"
   ]
  },
  {
   "cell_type": "code",
   "execution_count": 17,
   "metadata": {
    "executionInfo": {
     "elapsed": 35247,
     "status": "ok",
     "timestamp": 1611861675852,
     "user": {
      "displayName": "Naga Srinivas Ramanujam Mangena",
      "photoUrl": "",
      "userId": "04219536135155449678"
     },
     "user_tz": 0
    },
    "id": "gT-FxmbuIUvF"
   },
   "outputs": [],
   "source": [
    "X_train, X_val, y_train, y_val = train_test_split(\r\n",
    "    X_train, y_train, \r\n",
    "    test_size=0.3, random_state=0)"
   ]
  },
  {
   "cell_type": "code",
   "execution_count": 18,
   "metadata": {
    "colab": {
     "base_uri": "https://localhost:8080/"
    },
    "executionInfo": {
     "elapsed": 35237,
     "status": "ok",
     "timestamp": 1611861675859,
     "user": {
      "displayName": "Naga Srinivas Ramanujam Mangena",
      "photoUrl": "",
      "userId": "04219536135155449678"
     },
     "user_tz": 0
    },
    "id": "usMgdJ9znaFC",
    "outputId": "5992c6bb-e7d1-4e66-90b9-adf14dae4369"
   },
   "outputs": [
    {
     "name": "stdout",
     "output_type": "stream",
     "text": [
      "(884, 10) (884,) (380, 10) (380,) (316, 10) (316,)\n"
     ]
    }
   ],
   "source": [
    "print(X_train.shape,y_train.shape,X_val.shape,y_val.shape,X_test.shape,y_test.shape)"
   ]
  },
  {
   "cell_type": "code",
   "execution_count": 19,
   "metadata": {
    "colab": {
     "base_uri": "https://localhost:8080/"
    },
    "executionInfo": {
     "elapsed": 35219,
     "status": "ok",
     "timestamp": 1611861675864,
     "user": {
      "displayName": "Naga Srinivas Ramanujam Mangena",
      "photoUrl": "",
      "userId": "04219536135155449678"
     },
     "user_tz": 0
    },
    "id": "xjnTLdEMg1Ia",
    "outputId": "62b9db55-2690-407c-fdf1-03067dea4ef7"
   },
   "outputs": [
    {
     "name": "stdout",
     "output_type": "stream",
     "text": [
      "(238, 10) (238,) (102, 10) (102,) (85, 10) (85,)\n"
     ]
    }
   ],
   "source": [
    "data_x_orig = data_orig.drop(columns ='Accident',axis =1)\r\n",
    "y_orig=data_orig['Accident']\r\n",
    "X_train_orig, X_test_orig, y_train_orig, y_test_orig = train_test_split(\r\n",
    "    data_x_orig, y_orig, \r\n",
    "    test_size=0.2, random_state=1)\r\n",
    "X_train_orig, X_val_orig, y_train_orig, y_val_orig = train_test_split(\r\n",
    "    X_train_orig, y_train_orig, \r\n",
    "    test_size=0.3, random_state=0)\r\n",
    "print(X_train_orig.shape,y_train_orig.shape,X_val_orig.shape,y_val_orig.shape,X_test_orig.shape,y_test_orig.shape)"
   ]
  },
  {
   "cell_type": "markdown",
   "metadata": {
    "id": "TS2EekSIpstP"
   },
   "source": [
    "# Preprocessing"
   ]
  },
  {
   "cell_type": "markdown",
   "metadata": {
    "id": "Ld1grk_o2wGr"
   },
   "source": [
    "## Text transformation"
   ]
  },
  {
   "cell_type": "code",
   "execution_count": 20,
   "metadata": {
    "colab": {
     "base_uri": "https://localhost:8080/"
    },
    "executionInfo": {
     "elapsed": 36020,
     "status": "ok",
     "timestamp": 1611861676692,
     "user": {
      "displayName": "Naga Srinivas Ramanujam Mangena",
      "photoUrl": "",
      "userId": "04219536135155449678"
     },
     "user_tz": 0
    },
    "id": "IoX0-zebmuNd",
    "outputId": "2cef254a-2368-4cec-ebd8-b5d9a4bf2eb6"
   },
   "outputs": [
    {
     "name": "stdout",
     "output_type": "stream",
     "text": [
      "[nltk_data] Downloading package wordnet to /root/nltk_data...\n",
      "[nltk_data]   Package wordnet is already up-to-date!\n",
      "[nltk_data] Downloading package stopwords to /root/nltk_data...\n",
      "[nltk_data]   Unzipping corpora/stopwords.zip.\n",
      "[nltk_data] Downloading package averaged_perceptron_tagger to\n",
      "[nltk_data]     /root/nltk_data...\n",
      "[nltk_data]   Unzipping taggers/averaged_perceptron_tagger.zip.\n"
     ]
    }
   ],
   "source": [
    "from text_preprocess import * #(custom module)\r\n",
    "import re\r\n",
    "def clean_text(df, col):\r\n",
    "\t#print('--'*30); print('Converting headlines to lower case')\r\n",
    "\tnew_col_name = \"cleaned_\" + str(col)\r\n",
    "\t#print(new_col_name)\r\n",
    "\tdf.new_col_name = df[col].apply(lambda x : x.lower())\r\n",
    "\t#print(df.new_col_name[0])\r\n",
    "\r\n",
    "\t#print('Replacing apostrophes to the standard lexicons')\r\n",
    "\tdf.new_col_name = df.new_col_name.apply(lambda x : replace_words(x))\r\n",
    "\r\n",
    "\t#print('Removing punctuations')\r\n",
    "\tdf.new_col_name = df.new_col_name.apply(lambda x: remove_punctuation(x))\r\n",
    "\r\n",
    "\t#print('Removing Numbers')\r\n",
    "\tdf.new_col_name = df.new_col_name.apply(lambda x : ''.join([i for i in x if not i.isdigit()]))\r\n",
    "\r\n",
    "\t#print('Applying Lemmatizer')\r\n",
    "\tdf.new_col_name = df.new_col_name.apply(lambda x: lem(x))\r\n",
    "\r\n",
    "\t#print('Removing multiple spaces between words')\r\n",
    "\tdf.new_col_name = df.new_col_name.apply(lambda x: re.sub(' +', ' ', x))\r\n",
    "\r\n",
    "\t#print('Removing stopwords')\r\n",
    "\tdf.new_col_name = df.new_col_name.apply(lambda x: remove_stopwords(x))\r\n",
    "\r\n",
    "\t# remove short words (length < 3)\r\n",
    "\t#print('Removing short words')\r\n",
    "\tdf.new_col_name = df.new_col_name.apply(lambda x: ' '.join([w for w in x.split() if len(w)>2]))\r\n",
    "\t#print('--'*30)\r\n",
    "\treturn(df.new_col_name)"
   ]
  },
  {
   "cell_type": "markdown",
   "metadata": {
    "id": "ljkLvzVM21IE"
   },
   "source": [
    "## Date Transformation"
   ]
  },
  {
   "cell_type": "code",
   "execution_count": 21,
   "metadata": {
    "executionInfo": {
     "elapsed": 36018,
     "status": "ok",
     "timestamp": 1611861676693,
     "user": {
      "displayName": "Naga Srinivas Ramanujam Mangena",
      "photoUrl": "",
      "userId": "04219536135155449678"
     },
     "user_tz": 0
    },
    "id": "-51p4Dm_K_4V"
   },
   "outputs": [],
   "source": [
    "from sklearn.base import BaseEstimator,TransformerMixin\r\n",
    "import pandas as pd\r\n",
    "class TemporalVariableEstimator(BaseEstimator, TransformerMixin):\r\n",
    "\r\n",
    "    def __init__(self, variables=None):\r\n",
    "        \r\n",
    "        if not isinstance(variables, list):\r\n",
    "            self.variables = [variables]\r\n",
    "        else:\r\n",
    "            self.variables = variables\r\n",
    "\r\n",
    "    def fit(self, X, y=None):\r\n",
    "        # we need this step to fit the sklearn pipeline\r\n",
    "        return self\r\n",
    "\r\n",
    "    def transform(self, X):\r\n",
    "        X = X.copy()\r\n",
    "\r\n",
    "        X['month'] = pd.DatetimeIndex(X[self.variables]['Date']).month\r\n",
    "        X['year'] = pd.DatetimeIndex(X[self.variables]['Date']).year\r\n",
    "        X['day'] = pd.DatetimeIndex(X[self.variables]['Date']).day\r\n",
    "#        X['dayname'] = pd.DatetimeIndex(X[self.variables]['Date']).day_name()\r\n",
    "        X['weekofyear'] = pd.Int64Index(pd.DatetimeIndex(X[self.variables]['Date']).isocalendar().week)  \r\n",
    "\r\n",
    "        enc_attribs=[\"month\", \"year\", \"day\",\"weekofyear\"]\r\n",
    "        X=X.loc[:,enc_attribs]\r\n",
    "\r\n",
    "        return X"
   ]
  },
  {
   "cell_type": "markdown",
   "metadata": {
    "id": "N7u638N_27fn"
   },
   "source": [
    "## Text tokenization and impute\r\n",
    "\r\n",
    "1.   Risk Category\r\n",
    "2.   Industry\r\n",
    "\r\n"
   ]
  },
  {
   "cell_type": "code",
   "execution_count": 22,
   "metadata": {
    "executionInfo": {
     "elapsed": 36014,
     "status": "ok",
     "timestamp": 1611861676694,
     "user": {
      "displayName": "Naga Srinivas Ramanujam Mangena",
      "photoUrl": "",
      "userId": "04219536135155449678"
     },
     "user_tz": 0
    },
    "id": "QDMQUowUJ0If"
   },
   "outputs": [],
   "source": [
    "from sklearn.base import BaseEstimator,TransformerMixin\r\n",
    "import pickle\r\n",
    "from sklearn.decomposition import PCA\r\n",
    "\r\n",
    "class ImputeEstimator(BaseEstimator, TransformerMixin):\r\n",
    "\r\n",
    "    def __init__(self, variables=None):\r\n",
    "        pass\r\n",
    "    \r\n",
    "    def fit(self, X, y=None):\r\n",
    "        # we need this step to fit the sklearn pipeline\r\n",
    "        return self\r\n",
    "    \r\n",
    "\r\n",
    "    def transform(self, X):\r\n",
    "            X = X.copy()\r\n",
    "            ##print(X.info())\r\n",
    "            ## Lable encoder\r\n",
    "            industry = {'Metals':1,'Mining':2,'Others':99}\r\n",
    "            X['Industry'] = pd.Series([industry[x] for x in X['Industry']], index=X.index)\r\n",
    "\r\n",
    "            #print('Industry Encoded')\r\n",
    "            \r\n",
    "            risk_map = {'\\nNot applicable': 99,\r\n",
    "            'Bees': 1,\r\n",
    "            'Venomous Animals': 1,\r\n",
    "            'Blocking and isolation of energies': 3,\r\n",
    "            'Burn': 3,\r\n",
    "            'Confined space': 3,\r\n",
    "            'Cut': 3,\r\n",
    "            'Machine Protection': 3,\r\n",
    "            'Manual Tools': 3,\r\n",
    "            'Poll': 3,\r\n",
    "            'Projection': 3,\r\n",
    "            'Projection of fragments': 3,\r\n",
    "            'Projection/Burning': 3,\r\n",
    "            'Projection/Choco': 3,\r\n",
    "            'Projection/Manual Tools': 3,\r\n",
    "            'remains of choco': 3,\r\n",
    "            'Suspended Loads': 3,\r\n",
    "            'Fall': 4,\r\n",
    "            'Fall prevention': 4,\r\n",
    "            'Fall prevention (same level)': 4,\r\n",
    "            'Electrical installation': 5,\r\n",
    "            'Electrical Shock': 5,\r\n",
    "            'Plates': 5,\r\n",
    "            'Power lock': 5,\r\n",
    "            'Chemical substances': 6,\r\n",
    "            'Liquid Metal': 7,\r\n",
    "            'Pressed': 8,\r\n",
    "            'Pressurized Systems': 8,\r\n",
    "            'Pressurized Systems / Chemical Substances': 8,\r\n",
    "            'Individual protection equipment': 9,\r\n",
    "            'Traffic': 10,\r\n",
    "            'Vehicles and Mobile Equipment': 11,\r\n",
    "            'Others': 99}\r\n",
    "\r\n",
    "            X['Critical Risk'] = pd.Series([risk_map[x] for x in X['Critical Risk']], index=X.index)\r\n",
    "\r\n",
    " \r\n",
    "            X['Cleaned_Description'] = clean_text(X,\"Description\")\r\n",
    "            X_desc=X['Cleaned_Description']\r\n",
    "           #print(\"Cleaned_Description\",X_desc.head())\r\n",
    "            from tensorflow.keras.preprocessing.text import Tokenizer\r\n",
    "            tokenizer = Tokenizer (num_words = 100)\r\n",
    "            tokenizer.fit_on_texts(list(X_desc))\r\n",
    "            X_desc = tokenizer.texts_to_sequences(X_desc)\r\n",
    "\r\n",
    "            max_len=100\r\n",
    "           #print(\"max_len\",max_len)\r\n",
    "            X_pad = pad_sequences(X_desc, maxlen = max_len)\r\n",
    "            X_final = pd.DataFrame(X_pad)\r\n",
    "\r\n",
    "            riskpred_model = 'predict_risk.pkl'\r\n",
    "            riskpred_model = pickle.load(open(riskpred_model, 'rb'))\r\n",
    "            pca=PCA(n_components=45)\r\n",
    "            X_processed_pca=pca.fit_transform(X_pad)\r\n",
    "            #print(\"predictions\",X[0])\r\n",
    "           #print(\"predictions\",X_processed_pca.shape)\r\n",
    "            X['predicted_risk'] = riskpred_model.predict(X_processed_pca)\r\n",
    "            X['predicted_risk'] = X.apply(lambda x: x['predicted_risk'] if x['Critical Risk']==99 else x['Critical Risk'], axis=1)\r\n",
    "         \r\n",
    "            X_pred_risk = X['predicted_risk'].values\r\n",
    "           #print('predicted  risk values shape1',X_pred_risk.shape)             \r\n",
    "            X_pred_risk = X_pred_risk.reshape(X_pred_risk.shape[0],1)\r\n",
    "\r\n",
    "            #print('Risk Category imputation complete.')\r\n",
    "            #print('predicted  risk shape2',X_pred_risk.shape)\r\n",
    "            pca=PCA(n_components=45)\r\n",
    "            X_processed_pca=pca.fit_transform(X_pad)\r\n",
    "##\r\n",
    "           \r\n",
    "            indpred_model = 'predict_industry.pkl'\r\n",
    "            indpred_model = pickle.load(open(indpred_model, 'rb'))\r\n",
    "            X['predicted_ind'] = indpred_model.predict(X_processed_pca)\r\n",
    "            X['predicted_ind'] = X.apply(lambda x: x['predicted_ind'] if x['Industry']==99 else x['Industry'], axis=1)\r\n",
    "           #print('predicted ind',X['predicted_ind'])\r\n",
    "            #print(\"new\",Y.info())\r\n",
    "           #print(X.tail(20))\r\n",
    "            X_pred_ind = X['predicted_ind'].values\r\n",
    "            X_pred_ind = X_pred_ind.reshape(X_pred_ind.shape[0],1)\r\n",
    "\r\n",
    "            #print('Industry imputation complete.')\r\n",
    "\r\n",
    "           #print('predicted shape',X_pred_ind.shape)\r\n",
    "           ##print('padded X_pad',X_pad.type())\r\n",
    "            X_final['pred_risk'] = X_pred_risk\r\n",
    "            X_final['pred_ind'] = X_pred_ind\r\n",
    "            X = X_final\r\n",
    "           #print(X_final.shape)\r\n",
    "            return X"
   ]
  },
  {
   "cell_type": "markdown",
   "metadata": {
    "id": "l57LmwHf3JqN"
   },
   "source": [
    "## Column Encoder\r\n",
    "\r\n",
    "1. Country\r\n",
    "2. Local\r\n",
    "3. Emp_Type\r\n",
    "4. Potential Accident"
   ]
  },
  {
   "cell_type": "code",
   "execution_count": 23,
   "metadata": {
    "executionInfo": {
     "elapsed": 36014,
     "status": "ok",
     "timestamp": 1611861676698,
     "user": {
      "displayName": "Naga Srinivas Ramanujam Mangena",
      "photoUrl": "",
      "userId": "04219536135155449678"
     },
     "user_tz": 0
    },
    "id": "QSLa-7XKhwrs"
   },
   "outputs": [],
   "source": [
    "from sklearn.base import BaseEstimator,TransformerMixin\r\n",
    "import pandas as pd\r\n",
    "class ColumnsLabelEncoder(BaseEstimator, TransformerMixin):\r\n",
    "      \r\n",
    "    def __init__(self, variables=None):\r\n",
    "        \r\n",
    "        if not isinstance(variables, list):\r\n",
    "            self.variables = [variables]\r\n",
    "        else:\r\n",
    "            self.variables = variables\r\n",
    "\r\n",
    "    def fit(self, X, y=None):\r\n",
    "        # we need this step to fit the sklearn pipeline\r\n",
    "        return self\r\n",
    "\r\n",
    "    def transform(self, X):\r\n",
    "        X = X.copy()\r\n",
    "       \r\n",
    "        country = {'Country_01':1,'Country_02':2,'Country_03':3}\r\n",
    "      \r\n",
    "        local = { 'Local_01': 1,\r\n",
    "                  'Local_02': 2,\r\n",
    "                  'Local_03': 3,\r\n",
    "                  'Local_04': 4,\r\n",
    "                  'Local_05': 5,\r\n",
    "                  'Local_06': 6,\r\n",
    "                  'Local_07': 7,\r\n",
    "                  'Local_08': 8,\r\n",
    "                  'Local_09': 9,\r\n",
    "                  'Local_10': 10,\r\n",
    "                  'Local_11': 11,\r\n",
    "                  'Local_12': 12 }\r\n",
    "\r\n",
    "        emp = {\r\n",
    "                  'Third Party': 1,\r\n",
    "                  'Employee': 2,\r\n",
    "                  'Third Party (Remote)': 3\r\n",
    "        }\r\n",
    "        \r\n",
    "        risk_grade = {'I':1,'II':2,'III':3,'IV':4,'V':5,'VI':6}        \r\n",
    "        \r\n",
    "\r\n",
    "        X['Countries'] = pd.Series([country[x] for x in X['Countries']], index=X.index)\r\n",
    "        #print('Countries Encoded')\r\n",
    "\r\n",
    "        X['Local'] = pd.Series([local[x] for x in X['Local']], index=X.index)\r\n",
    "        #print('Local Encoded')\r\n",
    "\r\n",
    "        X['Emp_Type'] = pd.Series([emp[x] for x in X['Emp_Type']], index=X.index)\r\n",
    "        #print('Emp_type Encoded')\r\n",
    "\r\n",
    "        X['Potential_Accident'] = pd.Series([risk_grade[x] for x in data['Potential_Accident']], index=data.index)\r\n",
    "        #print('Potential Accident Encoded')\r\n",
    "\r\n",
    "        return X"
   ]
  },
  {
   "cell_type": "markdown",
   "metadata": {
    "id": "1glKLdak3oHj"
   },
   "source": [
    "## Pipeline"
   ]
  },
  {
   "cell_type": "code",
   "execution_count": 24,
   "metadata": {
    "executionInfo": {
     "elapsed": 43315,
     "status": "ok",
     "timestamp": 1611861684003,
     "user": {
      "displayName": "Naga Srinivas Ramanujam Mangena",
      "photoUrl": "",
      "userId": "04219536135155449678"
     },
     "user_tz": 0
    },
    "id": "G5Ec2b5opzgV"
   },
   "outputs": [],
   "source": [
    "#Building the Transformation Pipeline\r\n",
    "from sklearn.pipeline import Pipeline\r\n",
    "from  sklearn.preprocessing import StandardScaler,OneHotEncoder,LabelEncoder,OrdinalEncoder\r\n",
    "from sklearn.compose import make_column_transformer\r\n",
    "from sklearn.compose import ColumnTransformer\r\n",
    "from tensorflow.keras.preprocessing.text import Tokenizer\r\n",
    "from sklearn.decomposition import PCA\r\n",
    "import numpy as np\r\n",
    "#import skmice\r\n",
    "dataframe=data\r\n",
    "dataframe_x=dataframe.drop(['Accident'],axis=1)\r\n",
    "\r\n",
    "\r\n",
    "#date pipeline##################################################\r\n",
    "date_attribs=[\"Date\"]\r\n",
    "dataframe_date=dataframe.loc[:,date_attribs]\r\n",
    "##print(\"dataframe_date chk\" ,dataframe_date.head())\r\n",
    "date_pipeline= Pipeline([('date_info_split', TemporalVariableEstimator(date_attribs))])\r\n",
    "dataframe_date_tr=date_pipeline.fit_transform(dataframe_date)\r\n",
    "#print(\"Date Pipeline check\",dataframe_date_tr)\r\n",
    "######################################################################\r\n",
    "\r\n",
    "#OnehotEncoding Pipeline##############################################\r\n",
    "#one_hot_attribs=[\"Local\", \"Industry\", \"Emp_Type\",\"Countries\",\"Potential_Accident\",\"Gender\"]\r\n",
    "one_hot_attribs=[\"Gender\"]\r\n",
    "dataframe_onehot=dataframe.loc[:,one_hot_attribs]\r\n",
    "#print(\"Onehot dataframe chk\",dataframe_onehot.head())\r\n",
    "one_hot_pipeline= Pipeline([('one_hot_encoder',OneHotEncoder(drop='first'))])\r\n",
    "#one_hot_pipeline= Pipeline([('one_hot_encoder',LabelEncoder())])\r\n",
    "dataframe_oh_tr=one_hot_pipeline.fit_transform(dataframe_onehot)\r\n",
    "##print(\"Onehot Pipeline check\",dataframe_oh_tr[0,1])\r\n",
    "\r\n",
    "#Risk Pipeline##############################################\r\n",
    "risk_attribs=['Critical Risk','Industry','Description']\r\n",
    "dataframe_risk_imp=dataframe.loc[:,risk_attribs]\r\n",
    "#print(\"Impute  dataframe chk\",dataframe_risk_imp.head())\r\n",
    "risk_pipeline= Pipeline([('risk_imputer',ImputeEstimator())])\r\n",
    "dataframe_risk_imp_tr=risk_pipeline.fit_transform(dataframe_risk_imp)\r\n",
    "#print(\"Impute Pipeline check\",dataframe_risk_imp_tr[0])\r\n",
    "\r\n",
    "\r\n",
    "#Lable encoder Pipeline##############################################\r\n",
    "le_attribs=['Countries','Local','Emp_Type','Potential_Accident']\r\n",
    "dataframe_le=dataframe.loc[:,le_attribs]\r\n",
    "#print(\"LE  dataframe chk\",dataframe_le.head())\r\n",
    "le_pipeline= Pipeline([('risk_imputer',ColumnsLabelEncoder())])\r\n",
    "dataframe_le_tr=le_pipeline.fit_transform(dataframe_le)\r\n",
    "#print(\"LE Pipeline check\",dataframe_le_tr[0:])"
   ]
  },
  {
   "cell_type": "code",
   "execution_count": 25,
   "metadata": {
    "executionInfo": {
     "elapsed": 43327,
     "status": "ok",
     "timestamp": 1611861684018,
     "user": {
      "displayName": "Naga Srinivas Ramanujam Mangena",
      "photoUrl": "",
      "userId": "04219536135155449678"
     },
     "user_tz": 0
    },
    "id": "zzWuPzmrAtJJ"
   },
   "outputs": [],
   "source": [
    "######################################################################\r\n",
    "full_pipeline=ColumnTransformer([\r\n",
    "                (\"datetransform\",date_pipeline,date_attribs),\r\n",
    "                (\"imputer\",risk_pipeline, risk_attribs),\r\n",
    "                (\"onehotencode\",one_hot_pipeline, one_hot_attribs),\r\n",
    "                (\"le_encode\",le_pipeline, le_attribs)\r\n",
    "])\r\n",
    "#dataframe_x_tr=full_pipeline.fit_transform(dataframe_x)\r\n",
    "#dataframe_x_tr[0,:]\r\n"
   ]
  },
  {
   "cell_type": "markdown",
   "metadata": {
    "id": "lg50qYySsZKL"
   },
   "source": [
    "# LSTM Model"
   ]
  },
  {
   "cell_type": "markdown",
   "metadata": {
    "id": "ioLGjcKdjXHI"
   },
   "source": [
    "## TextEstimator\r\n",
    "Class that Tokenizes and pads the description to 100 characters "
   ]
  },
  {
   "cell_type": "code",
   "execution_count": 26,
   "metadata": {
    "executionInfo": {
     "elapsed": 43335,
     "status": "ok",
     "timestamp": 1611861684030,
     "user": {
      "displayName": "Naga Srinivas Ramanujam Mangena",
      "photoUrl": "",
      "userId": "04219536135155449678"
     },
     "user_tz": 0
    },
    "id": "yj1cGtnvsdUW"
   },
   "outputs": [],
   "source": [
    "from sklearn.base import BaseEstimator,TransformerMixin\r\n",
    "import pickle\r\n",
    "from sklearn.decomposition import PCA\r\n",
    "\r\n",
    "class TextEstimator(BaseEstimator, TransformerMixin):\r\n",
    "\r\n",
    "    def __init__(self, variables=None):\r\n",
    "        pass\r\n",
    "    \r\n",
    "    def fit(self, X, y=None):\r\n",
    "        # we need this step to fit the sklearn pipeline\r\n",
    "        return self\r\n",
    "    \r\n",
    "\r\n",
    "    def transform(self, X):\r\n",
    "            X = X.copy()\r\n",
    "            #print(\"X['Description']:\",X['Description'])\r\n",
    "            X['Cleaned_Description'] = clean_text(X,\"Description\")\r\n",
    "            X_desc=X['Cleaned_Description']\r\n",
    "            #print(\"Cleaned_Description\",X_desc.head())\r\n",
    "            tokenizer = Tokenizer (num_words = 2000)\r\n",
    "            tokenizer.fit_on_texts(list(X_desc))\r\n",
    "            #print (\"#############tokenizer.word_index\",tokenizer.word_index)\r\n",
    "            X_desc = tokenizer.texts_to_sequences(X_desc)\r\n",
    "            #print(\"Tokenized\",X_desc)\r\n",
    "            max_len=100\r\n",
    "            #print(\"max_len\",max_len)\r\n",
    "            X_pad = pad_sequences(X_desc, maxlen = max_len)\r\n",
    "            X = pd.DataFrame(X_pad)\r\n",
    "            #print(\"X.shape **********\",X.shape)\r\n",
    "            #print(X.head(2))\r\n",
    "            return X"
   ]
  },
  {
   "cell_type": "code",
   "execution_count": 44,
   "metadata": {
    "colab": {
     "base_uri": "https://localhost:8080/"
    },
    "executionInfo": {
     "elapsed": 693,
     "status": "ok",
     "timestamp": 1611862493253,
     "user": {
      "displayName": "Naga Srinivas Ramanujam Mangena",
      "photoUrl": "",
      "userId": "04219536135155449678"
     },
     "user_tz": 0
    },
    "id": "YdhaLzEy566L",
    "outputId": "7904ab13-a149-4a4f-ffe1-28d3a357eacc"
   },
   "outputs": [
    {
     "name": "stdout",
     "output_type": "stream",
     "text": [
      "text  dataframe chk                                          Description\n",
      "0  While removing the drill rod of the Jumbo 08 f...\n",
      "1  During the activation of a sodium sulphide pum...\n"
     ]
    }
   ],
   "source": [
    "#testing the text Pipeline##############################################\r\n",
    "text_attribs=['Description']\r\n",
    "dataframe_text=data.loc[:,text_attribs][0:2]\r\n",
    "print(\"text  dataframe chk\",dataframe_text.head())\r\n",
    "text_pipeline= Pipeline([('text pipeline',TextEstimator())])\r\n",
    "#dataframe_text_tr=text_pipeline.fit_transform(dataframe_text)\r\n",
    "#print(\"Text Pipeline check\",dataframe_text_tr)"
   ]
  },
  {
   "cell_type": "markdown",
   "metadata": {
    "id": "ITEvwBFJjybK"
   },
   "source": [
    "## OnlyImputeEstimator\r\n",
    "class that imputes the Industry and critical risk based on the description "
   ]
  },
  {
   "cell_type": "code",
   "execution_count": 27,
   "metadata": {
    "executionInfo": {
     "elapsed": 43332,
     "status": "ok",
     "timestamp": 1611861684032,
     "user": {
      "displayName": "Naga Srinivas Ramanujam Mangena",
      "photoUrl": "",
      "userId": "04219536135155449678"
     },
     "user_tz": 0
    },
    "id": "z_Ir3C1Mti62"
   },
   "outputs": [],
   "source": [
    "from sklearn.base import BaseEstimator,TransformerMixin\r\n",
    "import pickle\r\n",
    "from sklearn.decomposition import PCA\r\n",
    "\r\n",
    "class OnlyImputeEstimator(BaseEstimator, TransformerMixin):\r\n",
    "\r\n",
    "    def __init__(self, variables=None):\r\n",
    "        pass\r\n",
    "    \r\n",
    "    def fit(self, X, y=None):\r\n",
    "        # we need this step to fit the sklearn pipeline\r\n",
    "        return self\r\n",
    "    \r\n",
    "\r\n",
    "    def transform(self, X):\r\n",
    "            X = X.copy()\r\n",
    "            ##print(X.info())\r\n",
    "            ## Lable encoder\r\n",
    "            industry = {'Metals':1,'Mining':2,'Others':99}\r\n",
    "            X['Industry'] = pd.Series([industry[x] for x in X['Industry']], index=X.index)\r\n",
    "\r\n",
    "            #print('Industry Encoded')\r\n",
    "            \r\n",
    "            risk_map = {'\\nNot applicable': 99,\r\n",
    "            'Bees': 1,\r\n",
    "            'Venomous Animals': 1,\r\n",
    "            'Blocking and isolation of energies': 3,\r\n",
    "            'Burn': 3,\r\n",
    "            'Confined space': 3,\r\n",
    "            'Cut': 3,\r\n",
    "            'Machine Protection': 3,\r\n",
    "            'Manual Tools': 3,\r\n",
    "            'Poll': 3,\r\n",
    "            'Projection': 3,\r\n",
    "            'Projection of fragments': 3,\r\n",
    "            'Projection/Burning': 3,\r\n",
    "            'Projection/Choco': 3,\r\n",
    "            'Projection/Manual Tools': 3,\r\n",
    "            'remains of choco': 3,\r\n",
    "            'Suspended Loads': 3,\r\n",
    "            'Fall': 4,\r\n",
    "            'Fall prevention': 4,\r\n",
    "            'Fall prevention (same level)': 4,\r\n",
    "            'Electrical installation': 5,\r\n",
    "            'Electrical Shock': 5,\r\n",
    "            'Plates': 5,\r\n",
    "            'Power lock': 5,\r\n",
    "            'Chemical substances': 6,\r\n",
    "            'Liquid Metal': 7,\r\n",
    "            'Pressed': 8,\r\n",
    "            'Pressurized Systems': 8,\r\n",
    "            'Pressurized Systems / Chemical Substances': 8,\r\n",
    "            'Individual protection equipment': 9,\r\n",
    "            'Traffic': 10,\r\n",
    "            'Vehicles and Mobile Equipment': 11,\r\n",
    "            'Others': 99}\r\n",
    "\r\n",
    "            X['Critical Risk'] = pd.Series([risk_map[x] for x in X['Critical Risk']], index=X.index)\r\n",
    "\r\n",
    "            #print('Critical Risk Encoded')\r\n",
    "\r\n",
    "            #Y = X.copy()\r\n",
    "           #print(\"X['Description']:\",X['Description'])\r\n",
    "            #print(\"pd.DatetimeIndex(X):\",pd.DatetimeIndex(X[self.variables]['Data']))\r\n",
    "            X['Cleaned_Description'] = clean_text(X,\"Description\")\r\n",
    "            X_desc=X['Cleaned_Description']\r\n",
    "           #print(\"Cleaned_Description\",X_desc.head())\r\n",
    "            tokenizer = Tokenizer (num_words = 100)\r\n",
    "            tokenizer.fit_on_texts(list(X_desc))\r\n",
    "            X_desc = tokenizer.texts_to_sequences(X_desc)\r\n",
    "            #print('Cleaned text Tokenized.')\r\n",
    "\r\n",
    "           #print(\"Tokenized\",X_desc)\r\n",
    "            #max_len=max( X['cleaned_Description'].apply(lambda x: len(x.split(' '))))\r\n",
    "            max_len=100\r\n",
    "           #print(\"max_len\",max_len)\r\n",
    "            X_pad = pad_sequences(X_desc, maxlen = max_len)\r\n",
    "            X_final = pd.DataFrame(X_pad)\r\n",
    "  #         #print(\"padded\",X_pad[0,:])\r\n",
    "            #print(text_encoded.head())\r\n",
    "            #X = X[X['Critical Risk'] == 99]\r\n",
    "            #print(X.shape)\r\n",
    "            riskpred_model = 'predict_risk.pkl'\r\n",
    "            riskpred_model = pickle.load(open(riskpred_model, 'rb'))\r\n",
    "            pca=PCA(n_components=45)\r\n",
    "            X_processed_pca=pca.fit_transform(X_pad)\r\n",
    "            #print(\"predictions\",X[0])\r\n",
    "           #print(\"predictions\",X_processed_pca.shape)\r\n",
    "            X['predicted_risk'] = riskpred_model.predict(X_processed_pca)\r\n",
    "            X['predicted_risk'] = X.apply(lambda x: x['predicted_risk'] if x['Critical Risk']==99 else x['Critical Risk'], axis=1)\r\n",
    "            #print(\"new\",Y.info())\r\n",
    "           #print(X.head())\r\n",
    "          # #print('predicted  risk shape1',X_pred_risk.shape)            \r\n",
    "            X_pred_risk = X['predicted_risk'].values\r\n",
    "           #print('predicted  risk values shape1',X_pred_risk.shape)             \r\n",
    "            #X_pred_risk = X_pred_risk.reshape(X_pred_risk.shape[0],1)\r\n",
    "\r\n",
    "            print('Risk Category imputation complete.')\r\n",
    "            #print('predicted  risk shape2',X_pred_risk.shape)\r\n",
    "            pca=PCA(n_components=45)\r\n",
    "            X_processed_pca=pca.fit_transform(X_pad)\r\n",
    "##\r\n",
    "           \r\n",
    "            indpred_model = 'predict_industry.pkl'\r\n",
    "            indpred_model = pickle.load(open(indpred_model, 'rb'))\r\n",
    "            X['predicted_ind'] = indpred_model.predict(X_processed_pca)\r\n",
    "            X['predicted_ind'] = X.apply(lambda x: x['predicted_ind'] if x['Industry']==99 else x['Industry'], axis=1)\r\n",
    "           #print('predicted ind',X['predicted_ind'])\r\n",
    "            #print(\"new\",Y.info())\r\n",
    "           #print(X.tail(20))\r\n",
    "            X_pred_ind = X['predicted_ind'].values\r\n",
    "            #X_pred_ind = X_pred_ind.reshape(X_pred_ind.shape[0],1)\r\n",
    "\r\n",
    "            #print('Industry imputation complete.')\r\n",
    "\r\n",
    "           #print('predicted shape',X_pred_ind.shape)\r\n",
    "           ##print('padded X_pad',X_pad.type())\r\n",
    "            X_final=pd.DataFrame()\r\n",
    "            #print('X_pred_risk shape',X_pred_risk.shape)\r\n",
    "            #print('X_pred_ind shape',X_pred_ind.shape)\r\n",
    "            X_final['pred_risk'] = X_pred_risk\r\n",
    "            X_final['pred_ind'] = X_pred_ind\r\n",
    "            X = X_final\r\n",
    "           #print(X_final.shape)\r\n",
    "            return X"
   ]
  },
  {
   "cell_type": "markdown",
   "metadata": {
    "id": "LCWIQLN4khYZ"
   },
   "source": [
    "## Non text pipeline\r\n",
    "pipeline that preprocesses all the columns except description - performs - date column transformation, Imputation of Risk and Industry, one ot encodes the gender columns and label encodes all other categorical columns"
   ]
  },
  {
   "cell_type": "code",
   "execution_count": 29,
   "metadata": {
    "executionInfo": {
     "elapsed": 541,
     "status": "ok",
     "timestamp": 1611861813758,
     "user": {
      "displayName": "Naga Srinivas Ramanujam Mangena",
      "photoUrl": "",
      "userId": "04219536135155449678"
     },
     "user_tz": 0
    },
    "id": "oiAXVpgXc1yB"
   },
   "outputs": [],
   "source": [
    "#Testing the OnlyImpue Estimator Pipeline##############################################\r\n",
    "impute_attribs=['Critical Risk','Industry','Description']\r\n",
    "dataframe_risk_imp=dataframe.loc[:,impute_attribs]\r\n",
    "impute_pipeline= Pipeline([('imputer',OnlyImputeEstimator())])\r\n",
    "#dataframe_risk_imp_tr=impute_pipeline.fit_transform(dataframe_risk_imp)\r\n",
    "#print(dataframe_risk_imp_tr)"
   ]
  },
  {
   "cell_type": "code",
   "execution_count": 30,
   "metadata": {
    "executionInfo": {
     "elapsed": 355,
     "status": "ok",
     "timestamp": 1611861814986,
     "user": {
      "displayName": "Naga Srinivas Ramanujam Mangena",
      "photoUrl": "",
      "userId": "04219536135155449678"
     },
     "user_tz": 0
    },
    "id": "hCM59F8EtFI1"
   },
   "outputs": [],
   "source": [
    "######################################################################\r\n",
    "all_attribs=date_attribs+impute_attribs+one_hot_attribs+le_attribs\r\n",
    "non_text_pipeline=ColumnTransformer([\r\n",
    "                (\"datetransform\",date_pipeline,date_attribs),\r\n",
    "                (\"imputer\",impute_pipeline, impute_attribs),\r\n",
    "                (\"onehotencode\",one_hot_pipeline, one_hot_attribs),\r\n",
    "                (\"le_encode\",le_pipeline, le_attribs)\r\n",
    "])\r\n"
   ]
  },
  {
   "cell_type": "markdown",
   "metadata": {
    "id": "g9pK7ivClLlO"
   },
   "source": [
    "## Creating the embedding matrix"
   ]
  },
  {
   "cell_type": "code",
   "execution_count": 31,
   "metadata": {
    "executionInfo": {
     "elapsed": 616,
     "status": "ok",
     "timestamp": 1611861821197,
     "user": {
      "displayName": "Naga Srinivas Ramanujam Mangena",
      "photoUrl": "",
      "userId": "04219536135155449678"
     },
     "user_tz": 0
    },
    "id": "kDzrS-oYTYdA"
   },
   "outputs": [],
   "source": [
    "max_features = 10000\r\n",
    "maxlen = 300\r\n",
    "embedding_size = 300"
   ]
  },
  {
   "cell_type": "code",
   "execution_count": 32,
   "metadata": {
    "executionInfo": {
     "elapsed": 4227,
     "status": "ok",
     "timestamp": 1611861826073,
     "user": {
      "displayName": "Naga Srinivas Ramanujam Mangena",
      "photoUrl": "",
      "userId": "04219536135155449678"
     },
     "user_tz": 0
    },
    "id": "LhtQrJMnT4HE"
   },
   "outputs": [],
   "source": [
    "tokenizer = Tokenizer(num_words = max_features)\r\n",
    "tokenizer.fit_on_texts(list(clean_text(data,\"Description\")))"
   ]
  },
  {
   "cell_type": "code",
   "execution_count": 33,
   "metadata": {
    "executionInfo": {
     "elapsed": 7528,
     "status": "ok",
     "timestamp": 1611861830233,
     "user": {
      "displayName": "Naga Srinivas Ramanujam Mangena",
      "photoUrl": "",
      "userId": "04219536135155449678"
     },
     "user_tz": 0
    },
    "id": "fsZlNMhGVbdY"
   },
   "outputs": [],
   "source": [
    "data['Cleaned_Description'] = clean_text(data,\"Description\")"
   ]
  },
  {
   "cell_type": "code",
   "execution_count": 34,
   "metadata": {
    "executionInfo": {
     "elapsed": 6853,
     "status": "ok",
     "timestamp": 1611861830582,
     "user": {
      "displayName": "Naga Srinivas Ramanujam Mangena",
      "photoUrl": "",
      "userId": "04219536135155449678"
     },
     "user_tz": 0
    },
    "id": "Mdl3PONUVce7"
   },
   "outputs": [],
   "source": [
    "data_orig['Cleaned_Description'] = clean_text(data_orig,\"Description\")"
   ]
  },
  {
   "cell_type": "code",
   "execution_count": 37,
   "metadata": {
    "colab": {
     "base_uri": "https://localhost:8080/"
    },
    "executionInfo": {
     "elapsed": 588,
     "status": "ok",
     "timestamp": 1611862266623,
     "user": {
      "displayName": "Naga Srinivas Ramanujam Mangena",
      "photoUrl": "",
      "userId": "04219536135155449678"
     },
     "user_tz": 0
    },
    "id": "JaHaYkZ6WGYK",
    "outputId": "2b0e5da1-e1b2-40cb-bfa3-1e99e4aceedb"
   },
   "outputs": [
    {
     "name": "stdout",
     "output_type": "stream",
     "text": [
      "Number of Samples: 1580\n",
      "Number of Labels: 1580\n",
      "\n",
      "First headline:\n",
      "[   0    0    0    0    0    0    0    0    0    0    0    0    0    0\n",
      "    0    0    0    0    0    0    0    0    0    0    0    0    0    0\n",
      "    0    0    0    0    0    0    0    0    0    0    0    0    0    0\n",
      "    0    0    0    0    0    0    0    0    0    0    0    0    0    0\n",
      "    0    0    0    0    0    0    0    0    0    0    0    0    0    0\n",
      "    0    0    0    0    0    0    0    0    0    0    0    0    0    0\n",
      "    0    0    0    0    0    0    0    0    0    0    0    0    0    0\n",
      "    0    0    0    0    0    0    0    0    0    0    0    0    0    0\n",
      "    0    0    0    0    0    0    0    0    0    0    0    0    0    0\n",
      "    0    0    0    0    0    0    0    0    0    0    0    0    0    0\n",
      "    0    0    0    0    0    0    0    0    0    0    0    0    0    0\n",
      "    0    0    0    0    0    0    0    0    0    0    0    0    0    0\n",
      "    0    0    0    0    0    0    0    0    0    0    0    0    0    0\n",
      "    0    0    0    0    0    0    0    0    0    0    0    0    0    0\n",
      "    0    0    0    0    0    0    0    0    0    0    0    0    0    0\n",
      "    0    0    0    0    0    0    0    0    0    0    0    0    0    0\n",
      "    0    0    0    0    0    0    0    0    0    0    0    0    0    0\n",
      "    0    0    0    0    0    0    0    0    0    0    0    0    0    0\n",
      "    0    0    0    0    0    0    0    0    0    0    0  130   61   96\n",
      "  276   49  343  353  664   24  629 1736 1737  189 1573   32   24   22\n",
      "   59   61   14  387    2   62 1738  189    8   62  131   79   24 1739\n",
      "   18   32   73   62  456  276]\n",
      "\n",
      "Label of the first headline: 0\n"
     ]
    }
   ],
   "source": [
    "X_orig = tokenizer.texts_to_sequences(data['Cleaned_Description'])\r\n",
    "X_orig = pad_sequences(X_orig, maxlen = maxlen)\r\n",
    "y_orig = np.asarray(data['Accident'])\r\n",
    "\r\n",
    "print(f'Number of Samples: {len(X_orig)}')\r\n",
    "print(f'Number of Labels: {len(y_orig)}')\r\n",
    "print(f'\\nFirst headline:\\n{X_orig[0]}\\n\\nLabel of the first headline: {y_orig[0]}')"
   ]
  },
  {
   "cell_type": "code",
   "execution_count": null,
   "metadata": {
    "id": "PaRg91JPWbBR"
   },
   "outputs": [],
   "source": [
    "# Reserve padding (indexed zero)\r\n",
    "w2i = tokenizer.word_index\r\n",
    "vocab_size = len(w2i) + 1\r\n",
    "print(f'Number of unique tokens: {vocab_size}')"
   ]
  },
  {
   "cell_type": "code",
   "execution_count": 36,
   "metadata": {
    "colab": {
     "base_uri": "https://localhost:8080/"
    },
    "executionInfo": {
     "elapsed": 28045,
     "status": "ok",
     "timestamp": 1611861858956,
     "user": {
      "displayName": "Naga Srinivas Ramanujam Mangena",
      "photoUrl": "",
      "userId": "04219536135155449678"
     },
     "user_tz": 0
    },
    "id": "x8y1NQx3_CtB",
    "outputId": "cc42a56e-b63b-477c-9593-5d07311ca107"
   },
   "outputs": [
    {
     "name": "stdout",
     "output_type": "stream",
     "text": [
      "Found 400000 word vectors.\n"
     ]
    }
   ],
   "source": [
    "embeddings_index = {}\r\n",
    "f = open('/content/drive/MyDrive/Colab Notebooks/Deep Learning/NLP/glove.6B.300d.txt')\r\n",
    "for line in f:\r\n",
    "    values = line.split()\r\n",
    "    word = values[0]\r\n",
    "    coefs = np.asarray(values[1:], dtype='float32')\r\n",
    "    embeddings_index[word] = coefs\r\n",
    "f.close()\r\n",
    "\r\n",
    "print('Found %s word vectors.' % len(embeddings_index))"
   ]
  },
  {
   "cell_type": "code",
   "execution_count": 39,
   "metadata": {
    "executionInfo": {
     "elapsed": 537,
     "status": "ok",
     "timestamp": 1611862279785,
     "user": {
      "displayName": "Naga Srinivas Ramanujam Mangena",
      "photoUrl": "",
      "userId": "04219536135155449678"
     },
     "user_tz": 0
    },
    "id": "0zqy0V0zcBCt"
   },
   "outputs": [],
   "source": [
    "embedding_matrix = np.zeros((len(tokenizer.word_index) + 1, maxlen))\r\n",
    "for word, i in tokenizer.word_index.items():\r\n",
    "    embedding_vector = embeddings_index.get(word)\r\n",
    "    if embedding_vector is not None:\r\n",
    "        # words not found in embedding index will be all-zeros.\r\n",
    "        embedding_matrix[i] = embedding_vector"
   ]
  },
  {
   "cell_type": "code",
   "execution_count": 40,
   "metadata": {
    "colab": {
     "base_uri": "https://localhost:8080/"
    },
    "executionInfo": {
     "elapsed": 766,
     "status": "ok",
     "timestamp": 1611862281257,
     "user": {
      "displayName": "Naga Srinivas Ramanujam Mangena",
      "photoUrl": "",
      "userId": "04219536135155449678"
     },
     "user_tz": 0
    },
    "id": "hDGiJnepcCia",
    "outputId": "bac28e04-0347-4b35-e1ac-659592019a27"
   },
   "outputs": [
    {
     "data": {
      "text/plain": [
       "(2745, 300)"
      ]
     },
     "execution_count": 40,
     "metadata": {
      "tags": []
     },
     "output_type": "execute_result"
    }
   ],
   "source": [
    "embedding_matrix.shape"
   ]
  },
  {
   "cell_type": "code",
   "execution_count": 41,
   "metadata": {
    "colab": {
     "base_uri": "https://localhost:8080/"
    },
    "executionInfo": {
     "elapsed": 6323,
     "status": "ok",
     "timestamp": 1611862288768,
     "user": {
      "displayName": "Naga Srinivas Ramanujam Mangena",
      "photoUrl": "",
      "userId": "04219536135155449678"
     },
     "user_tz": 0
    },
    "id": "oF7XFY5sAOfr",
    "outputId": "d472e504-a404-4f97-c7ac-3aa1735d90c6"
   },
   "outputs": [
    {
     "name": "stdout",
     "output_type": "stream",
     "text": [
      "WARNING:tensorflow:Layer lstm will not use cuDNN kernel since it doesn't meet the cuDNN kernel criteria. It will use generic GPU kernel as fallback when running on GPU\n",
      "WARNING:tensorflow:Layer lstm will not use cuDNN kernel since it doesn't meet the cuDNN kernel criteria. It will use generic GPU kernel as fallback when running on GPU\n",
      "WARNING:tensorflow:Layer lstm will not use cuDNN kernel since it doesn't meet the cuDNN kernel criteria. It will use generic GPU kernel as fallback when running on GPU\n"
     ]
    }
   ],
   "source": [
    "from tensorflow.keras.models import Sequential\r\n",
    "from tensorflow.keras.layers import Dense, Embedding, LSTM, SpatialDropout1D,Bidirectional,Flatten,Dropout\r\n",
    "from tensorflow.keras.initializers import Constant\r\n",
    "\r\n",
    "num_words = len(tokenizer.word_index) + 1\r\n",
    "embed_dim = 300\r\n",
    "lstm_out = 196\r\n",
    "vocabSize=20000\r\n",
    "\r\n",
    "model = Sequential()\r\n",
    "model.add(Embedding(num_words, embedding_size, weights = [embedding_matrix], input_length = maxlen, trainable = False))\r\n",
    "#model.add(SpatialDropout1D(0.3))\r\n",
    "model.add(Dense(64,activation='tanh'))\r\n",
    "model.add(Bidirectional(LSTM(lstm_out, dropout=0.2, recurrent_dropout=0.2)))\r\n",
    "#model.add(Dense(126,activation='tanh'))\r\n",
    "#model.add(Dropout(0.2))\r\n",
    "model.add(Dense(10,activation='tanh'))\r\n",
    "##model.add(Dropout(0.4))\r\n",
    "model.add(Flatten())\r\n",
    "model.add(Dense(5,activation='softmax'))"
   ]
  },
  {
   "cell_type": "code",
   "execution_count": 42,
   "metadata": {
    "colab": {
     "base_uri": "https://localhost:8080/"
    },
    "executionInfo": {
     "elapsed": 3600,
     "status": "ok",
     "timestamp": 1611862288771,
     "user": {
      "displayName": "Naga Srinivas Ramanujam Mangena",
      "photoUrl": "",
      "userId": "04219536135155449678"
     },
     "user_tz": 0
    },
    "id": "GsRi2w2dVkCu",
    "outputId": "5e6c8900-f627-47d2-f978-069864ded88b"
   },
   "outputs": [
    {
     "name": "stdout",
     "output_type": "stream",
     "text": [
      "Model: \"sequential\"\n",
      "_________________________________________________________________\n",
      "Layer (type)                 Output Shape              Param #   \n",
      "=================================================================\n",
      "embedding (Embedding)        (None, 300, 300)          823500    \n",
      "_________________________________________________________________\n",
      "dense (Dense)                (None, 300, 64)           19264     \n",
      "_________________________________________________________________\n",
      "bidirectional (Bidirectional (None, 392)               409248    \n",
      "_________________________________________________________________\n",
      "dense_1 (Dense)              (None, 10)                3930      \n",
      "_________________________________________________________________\n",
      "flatten (Flatten)            (None, 10)                0         \n",
      "_________________________________________________________________\n",
      "dense_2 (Dense)              (None, 5)                 55        \n",
      "=================================================================\n",
      "Total params: 1,255,997\n",
      "Trainable params: 432,497\n",
      "Non-trainable params: 823,500\n",
      "_________________________________________________________________\n",
      "None\n"
     ]
    }
   ],
   "source": [
    "model.compile(loss = 'sparse_categorical_crossentropy', optimizer='adam',metrics = ['accuracy'])\r\n",
    "print(model.summary())"
   ]
  },
  {
   "cell_type": "code",
   "execution_count": 45,
   "metadata": {
    "colab": {
     "base_uri": "https://localhost:8080/"
    },
    "executionInfo": {
     "elapsed": 1351,
     "status": "ok",
     "timestamp": 1611862500852,
     "user": {
      "displayName": "Naga Srinivas Ramanujam Mangena",
      "photoUrl": "",
      "userId": "04219536135155449678"
     },
     "user_tz": 0
    },
    "id": "yT3QpOJpXW7a",
    "outputId": "9eefecf7-9a11-4105-e9c1-b9c6e827b51e"
   },
   "outputs": [
    {
     "name": "stdout",
     "output_type": "stream",
     "text": [
      "(238, 100)\n",
      "(102, 100)\n"
     ]
    }
   ],
   "source": [
    "X_train_orig_text=text_pipeline.fit_transform(X_train_orig)\r\n",
    "print(X_train_orig_text.shape)\r\n",
    "X_val_orig_text=text_pipeline.fit_transform(X_val_orig)\r\n",
    "print(X_val_orig_text.shape)\r\n",
    "X_test_orig_text=text_pipeline.fit_transform(X_test_orig)"
   ]
  },
  {
   "cell_type": "code",
   "execution_count": 46,
   "metadata": {
    "executionInfo": {
     "elapsed": 4284,
     "status": "ok",
     "timestamp": 1611862508075,
     "user": {
      "displayName": "Naga Srinivas Ramanujam Mangena",
      "photoUrl": "",
      "userId": "04219536135155449678"
     },
     "user_tz": 0
    },
    "id": "Kw__59hBYM8y"
   },
   "outputs": [],
   "source": [
    "X_train_text=text_pipeline.fit_transform(X_train)\r\n",
    "X_val_text=text_pipeline.fit_transform(X_val)\r\n",
    "X_test_text=text_pipeline.fit_transform(X_test)"
   ]
  },
  {
   "cell_type": "code",
   "execution_count": 47,
   "metadata": {
    "colab": {
     "base_uri": "https://localhost:8080/"
    },
    "executionInfo": {
     "elapsed": 54882,
     "status": "ok",
     "timestamp": 1611862564388,
     "user": {
      "displayName": "Naga Srinivas Ramanujam Mangena",
      "photoUrl": "",
      "userId": "04219536135155449678"
     },
     "user_tz": 0
    },
    "id": "MD1SgwNR3qfb",
    "outputId": "32cf9a60-5149-4576-f44b-ad53379973a8"
   },
   "outputs": [
    {
     "name": "stdout",
     "output_type": "stream",
     "text": [
      "Epoch 1/10\n",
      "WARNING:tensorflow:Model was constructed with shape (None, 300) for input KerasTensor(type_spec=TensorSpec(shape=(None, 300), dtype=tf.float32, name='embedding_input'), name='embedding_input', description=\"created by layer 'embedding_input'\"), but it was called on an input with incompatible shape (None, 100).\n",
      "WARNING:tensorflow:Model was constructed with shape (None, 300) for input KerasTensor(type_spec=TensorSpec(shape=(None, 300), dtype=tf.float32, name='embedding_input'), name='embedding_input', description=\"created by layer 'embedding_input'\"), but it was called on an input with incompatible shape (None, 100).\n",
      "8/8 [==============================] - ETA: 0s - loss: 1.3944 - accuracy: 0.4910WARNING:tensorflow:Model was constructed with shape (None, 300) for input KerasTensor(type_spec=TensorSpec(shape=(None, 300), dtype=tf.float32, name='embedding_input'), name='embedding_input', description=\"created by layer 'embedding_input'\"), but it was called on an input with incompatible shape (None, 100).\n",
      "8/8 [==============================] - 12s 813ms/step - loss: 1.3728 - accuracy: 0.5083 - val_loss: 1.0210 - val_accuracy: 0.7549\n",
      "\n",
      "Epoch 00001: val_loss improved from inf to 1.02103, saving model to lstm_model_pred.h5\n",
      "Epoch 2/10\n",
      "8/8 [==============================] - 6s 735ms/step - loss: 0.9433 - accuracy: 0.7288 - val_loss: 0.9114 - val_accuracy: 0.7549\n",
      "\n",
      "Epoch 00002: val_loss improved from 1.02103 to 0.91140, saving model to lstm_model_pred.h5\n",
      "Epoch 3/10\n",
      "8/8 [==============================] - 6s 726ms/step - loss: 0.9622 - accuracy: 0.7042 - val_loss: 0.9085 - val_accuracy: 0.7549\n",
      "\n",
      "Epoch 00003: val_loss improved from 0.91140 to 0.90846, saving model to lstm_model_pred.h5\n",
      "Epoch 4/10\n",
      "8/8 [==============================] - 6s 753ms/step - loss: 0.8580 - accuracy: 0.7547 - val_loss: 0.9029 - val_accuracy: 0.7549\n",
      "\n",
      "Epoch 00004: val_loss improved from 0.90846 to 0.90286, saving model to lstm_model_pred.h5\n",
      "Epoch 5/10\n",
      "8/8 [==============================] - 6s 757ms/step - loss: 0.8394 - accuracy: 0.7579 - val_loss: 0.9014 - val_accuracy: 0.7549\n",
      "\n",
      "Epoch 00005: val_loss improved from 0.90286 to 0.90135, saving model to lstm_model_pred.h5\n",
      "Epoch 6/10\n",
      "8/8 [==============================] - 6s 740ms/step - loss: 0.8300 - accuracy: 0.7666 - val_loss: 0.9003 - val_accuracy: 0.7549\n",
      "\n",
      "Epoch 00006: val_loss improved from 0.90135 to 0.90027, saving model to lstm_model_pred.h5\n",
      "Epoch 7/10\n",
      "8/8 [==============================] - 6s 736ms/step - loss: 0.8763 - accuracy: 0.7414 - val_loss: 0.9004 - val_accuracy: 0.7549\n",
      "\n",
      "Epoch 00007: val_loss did not improve from 0.90027\n",
      "Epoch 8/10\n",
      "8/8 [==============================] - 6s 727ms/step - loss: 0.9110 - accuracy: 0.7338 - val_loss: 0.9019 - val_accuracy: 0.7549\n",
      "\n",
      "Epoch 00008: val_loss did not improve from 0.90027\n"
     ]
    }
   ],
   "source": [
    "# Use earlystopping\r\n",
    "import tensorflow\r\n",
    "from tensorflow.keras.callbacks import EarlyStopping, ModelCheckpoint,ReduceLROnPlateau\r\n",
    "#callback = tensorflow.keras.callbacks.EarlyStopping(monitor='accuracy', patience=5, min_delta=0.01)\r\n",
    "batch_size=32\r\n",
    "es=tensorflow.keras.callbacks.EarlyStopping(monitor='val_loss', patience=3, min_delta=0.01)\r\n",
    "mc = ModelCheckpoint('lstm_model_pred.h5'\r\n",
    "                , monitor = 'val_loss'\r\n",
    "                , mode = 'min', save_best_only = True, verbose = 1) \r\n",
    "lr_r = ReduceLROnPlateau(monitor = 'val_loss', factor = 0.01, patience = 5)  \r\n",
    "callbacks = [es, mc, lr_r  ]\r\n",
    "\r\n",
    "# Fit the model\r\n",
    "history=model.fit(X_train_orig_text,y_train_orig, validation_data=(X_val_orig_text, y_val_orig), epochs=10, batch_size=batch_size, callbacks=callbacks)"
   ]
  },
  {
   "cell_type": "code",
   "execution_count": 48,
   "metadata": {
    "colab": {
     "base_uri": "https://localhost:8080/",
     "height": 545
    },
    "executionInfo": {
     "elapsed": 44030,
     "status": "ok",
     "timestamp": 1611862564675,
     "user": {
      "displayName": "Naga Srinivas Ramanujam Mangena",
      "photoUrl": "",
      "userId": "04219536135155449678"
     },
     "user_tz": 0
    },
    "id": "eVMbYMzYNNpI",
    "outputId": "4ef5e730-13de-4743-9751-f888ae47cf3e"
   },
   "outputs": [
    {
     "data": {
      "image/png": "[encoded data removed]",
      "text/plain": [
       "<Figure size 432x288 with 1 Axes>"
      ]
     },
     "metadata": {
      "needs_background": "light",
      "tags": []
     },
     "output_type": "display_data"
    },
    {
     "data": {
      "image/png": "[encoded data removed]",
      "text/plain": [
       "<Figure size 432x288 with 1 Axes>"
      ]
     },
     "metadata": {
      "needs_background": "light",
      "tags": []
     },
     "output_type": "display_data"
    }
   ],
   "source": [
    "def graph_plots(history, string):\r\n",
    "  plt.plot(history.history[string])\r\n",
    "  plt.plot(history.history['val_'+string])\r\n",
    "  plt.xlabel(\"Epochs\")\r\n",
    "  plt.ylabel(string)\r\n",
    "  plt.legend([string, 'val_'+string])\r\n",
    "  plt.show()\r\n",
    "  \r\n",
    "graph_plots(history, \"accuracy\")\r\n",
    "graph_plots(history, \"loss\")"
   ]
  },
  {
   "cell_type": "markdown",
   "metadata": {
    "id": "rRcETiP6lzld"
   },
   "source": [
    "## Exporting LSTM best model and weights"
   ]
  },
  {
   "cell_type": "code",
   "execution_count": 49,
   "metadata": {
    "colab": {
     "base_uri": "https://localhost:8080/"
    },
    "executionInfo": {
     "elapsed": 43611,
     "status": "ok",
     "timestamp": 1611862567487,
     "user": {
      "displayName": "Naga Srinivas Ramanujam Mangena",
      "photoUrl": "",
      "userId": "04219536135155449678"
     },
     "user_tz": 0
    },
    "id": "J4HQp5SMW5fJ",
    "outputId": "14aaa982-2045-4938-dde1-0e4f0be4c5e3"
   },
   "outputs": [
    {
     "name": "stdout",
     "output_type": "stream",
     "text": [
      "Requirement already satisfied: h5py in /usr/local/lib/python3.6/dist-packages (2.10.0)\n",
      "Requirement already satisfied: numpy>=1.7 in /usr/local/lib/python3.6/dist-packages (from h5py) (1.19.5)\n",
      "Requirement already satisfied: six in /usr/local/lib/python3.6/dist-packages (from h5py) (1.15.0)\n"
     ]
    }
   ],
   "source": [
    "! pip install h5py"
   ]
  },
  {
   "cell_type": "code",
   "execution_count": 50,
   "metadata": {
    "colab": {
     "base_uri": "https://localhost:8080/"
    },
    "executionInfo": {
     "elapsed": 43204,
     "status": "ok",
     "timestamp": 1611862568274,
     "user": {
      "displayName": "Naga Srinivas Ramanujam Mangena",
      "photoUrl": "",
      "userId": "04219536135155449678"
     },
     "user_tz": 0
    },
    "id": "8nWkAqOhXLTV",
    "outputId": "c96b92df-d9b0-4ea5-8a20-b89e3d3fae42"
   },
   "outputs": [
    {
     "name": "stdout",
     "output_type": "stream",
     "text": [
      "Saved lstm_pred_model to disk\n"
     ]
    }
   ],
   "source": [
    "# serialize lstm_pred_model to JSON\r\n",
    "lstm_pred_model=model\r\n",
    "lstm_pred_model_json = lstm_pred_model.to_json()\r\n",
    "with open(\"lstm_pred_model.json\", \"w\") as json_file:\r\n",
    "    json_file.write(lstm_pred_model_json)\r\n",
    "# serialize weights to HDF5\r\n",
    "lstm_pred_model.save_weights(\"lstm_pred_model.h5\")\r\n",
    "print(\"Saved lstm_pred_model to disk\")"
   ]
  },
  {
   "cell_type": "markdown",
   "metadata": {
    "id": "_Os1AlNumNHC"
   },
   "source": [
    "## Testing loaded LSTM model"
   ]
  },
  {
   "cell_type": "code",
   "execution_count": 51,
   "metadata": {
    "colab": {
     "base_uri": "https://localhost:8080/"
    },
    "executionInfo": {
     "elapsed": 42559,
     "status": "ok",
     "timestamp": 1611862568680,
     "user": {
      "displayName": "Naga Srinivas Ramanujam Mangena",
      "photoUrl": "",
      "userId": "04219536135155449678"
     },
     "user_tz": 0
    },
    "id": "Kx_pSnBbXbI1",
    "outputId": "d1e2b429-0765-4f77-eb46-68acd6e8c4e8"
   },
   "outputs": [
    {
     "name": "stdout",
     "output_type": "stream",
     "text": [
      "WARNING:tensorflow:Layer lstm will not use cuDNN kernel since it doesn't meet the cuDNN kernel criteria. It will use generic GPU kernel as fallback when running on GPU\n",
      "WARNING:tensorflow:Layer lstm will not use cuDNN kernel since it doesn't meet the cuDNN kernel criteria. It will use generic GPU kernel as fallback when running on GPU\n",
      "WARNING:tensorflow:Layer lstm will not use cuDNN kernel since it doesn't meet the cuDNN kernel criteria. It will use generic GPU kernel as fallback when running on GPU\n",
      "Loaded lstm_pred_model from disk\n"
     ]
    }
   ],
   "source": [
    "# load json and create lstm_pred_model\r\n",
    "from keras.models import model_from_json\r\n",
    "json_file = open('lstm_pred_model.json', 'r')\r\n",
    "loaded_lstm_pred_model_json = json_file.read()\r\n",
    "json_file.close()\r\n",
    "loaded_lstm_pred_model = model_from_json(loaded_lstm_pred_model_json)\r\n",
    "# load weights into new lstm_pred_model\r\n",
    "loaded_lstm_pred_model.load_weights(\"lstm_pred_model.h5\")\r\n",
    "print(\"Loaded lstm_pred_model from disk\")"
   ]
  },
  {
   "cell_type": "code",
   "execution_count": 52,
   "metadata": {
    "colab": {
     "base_uri": "https://localhost:8080/"
    },
    "executionInfo": {
     "elapsed": 63066,
     "status": "ok",
     "timestamp": 1611862590928,
     "user": {
      "displayName": "Naga Srinivas Ramanujam Mangena",
      "photoUrl": "",
      "userId": "04219536135155449678"
     },
     "user_tz": 0
    },
    "id": "KXUfBD3O3zV7",
    "outputId": "a3d468b1-a99f-4e14-960a-82500866c786"
   },
   "outputs": [
    {
     "name": "stdout",
     "output_type": "stream",
     "text": [
      "WARNING:tensorflow:Model was constructed with shape (None, 300) for input KerasTensor(type_spec=TensorSpec(shape=(None, 300), dtype=tf.float32, name='embedding_input'), name='embedding_input', description=\"created by layer 'embedding_input'\"), but it was called on an input with incompatible shape (1, 100).\n"
     ]
    }
   ],
   "source": [
    "from sklearn.metrics import classification_report\r\n",
    "y_predict= loaded_lstm_pred_model.predict(X_test_text,batch_size=1)"
   ]
  },
  {
   "cell_type": "code",
   "execution_count": 53,
   "metadata": {
    "colab": {
     "base_uri": "https://localhost:8080/"
    },
    "executionInfo": {
     "elapsed": 62159,
     "status": "ok",
     "timestamp": 1611862590929,
     "user": {
      "displayName": "Naga Srinivas Ramanujam Mangena",
      "photoUrl": "",
      "userId": "04219536135155449678"
     },
     "user_tz": 0
    },
    "id": "rIXhzOui5W49",
    "outputId": "6f99b326-c07c-4acd-a067-2992884d1f2c"
   },
   "outputs": [
    {
     "data": {
      "text/plain": [
       "array([[0.7360856 , 0.09914375, 0.06995252, 0.08446618, 0.01035205],\n",
       "       [0.73584485, 0.09891737, 0.07022069, 0.08457354, 0.01044356],\n",
       "       [0.7401639 , 0.0984124 , 0.06672731, 0.08471232, 0.00998401],\n",
       "       ...,\n",
       "       [0.73862255, 0.09871414, 0.0679304 , 0.08461495, 0.01011797],\n",
       "       [0.73705816, 0.09858814, 0.0692891 , 0.08469748, 0.01036709],\n",
       "       [0.7353539 , 0.09921527, 0.07054844, 0.08445185, 0.01043059]],\n",
       "      dtype=float32)"
      ]
     },
     "execution_count": 53,
     "metadata": {
      "tags": []
     },
     "output_type": "execute_result"
    }
   ],
   "source": [
    "y_predict"
   ]
  },
  {
   "cell_type": "code",
   "execution_count": 54,
   "metadata": {
    "executionInfo": {
     "elapsed": 797,
     "status": "ok",
     "timestamp": 1611862652999,
     "user": {
      "displayName": "Naga Srinivas Ramanujam Mangena",
      "photoUrl": "",
      "userId": "04219536135155449678"
     },
     "user_tz": 0
    },
    "id": "SCYoPlOOLjHk"
   },
   "outputs": [],
   "source": [
    "from sklearn.base import BaseEstimator,TransformerMixin\r\n",
    "import pickle\r\n",
    "from sklearn.decomposition import PCA\r\n",
    "\r\n",
    "class LstmModelPredictions(BaseEstimator, TransformerMixin):\r\n",
    "\r\n",
    "    def __init__(self, variables=None):\r\n",
    "        pass\r\n",
    "    \r\n",
    "    def fit(self, X, y=None):\r\n",
    "        # we need this step to fit the sklearn pipeline\r\n",
    "        return self\r\n",
    "    \r\n",
    "\r\n",
    "    def transform(self, X):\r\n",
    "            X = X.copy()\r\n",
    "            #print(\"X['Description']:\",X['Description'])\r\n",
    "            X['Cleaned_Description'] = clean_text(X,\"Description\")\r\n",
    "            X_desc=X['Cleaned_Description']\r\n",
    "            #print(\"Cleaned_Description\",X_desc.head())\r\n",
    "            tokenizer = Tokenizer (num_words = 2000)\r\n",
    "            tokenizer.fit_on_texts(list(X_desc))\r\n",
    "            #print (\"#############tokenizer.word_index\",tokenizer.word_index)\r\n",
    "            X_desc = tokenizer.texts_to_sequences(X_desc)\r\n",
    "            #print(\"Tokenized\",X_desc)\r\n",
    "            max_len=100\r\n",
    "            #print(\"max_len\",max_len)\r\n",
    "            X_pad = pad_sequences(X_desc, maxlen = max_len)\r\n",
    "            #Import the lstm pred model\r\n",
    "            from keras.models import model_from_json\r\n",
    "            json_file = open('lstm_pred_model.json', 'r')\r\n",
    "            loaded_lstm_pred_model_json = json_file.read()\r\n",
    "            json_file.close()\r\n",
    "            loaded_lstm_pred_model = model_from_json(loaded_lstm_pred_model_json)\r\n",
    "            # load weights into new lstm_pred_model\r\n",
    "            loaded_lstm_pred_model.load_weights(\"lstm_pred_model.h5\")\r\n",
    "            print(\"Loaded lstm_pred_model from disk\")\r\n",
    "            lstm_predictions = loaded_lstm_pred_model.predict(X_pad)\r\n",
    "            X = pd.DataFrame(lstm_predictions)\r\n",
    "            #print(\"X.shape **********\",X.shape)\r\n",
    "            #print(X.head(2))\r\n",
    "            return X"
   ]
  },
  {
   "cell_type": "code",
   "execution_count": 55,
   "metadata": {
    "colab": {
     "base_uri": "https://localhost:8080/"
    },
    "executionInfo": {
     "elapsed": 8209,
     "status": "ok",
     "timestamp": 1611862663112,
     "user": {
      "displayName": "Naga Srinivas Ramanujam Mangena",
      "photoUrl": "",
      "userId": "04219536135155449678"
     },
     "user_tz": 0
    },
    "id": "Av76vuV1LqH-",
    "outputId": "c5e9170d-ab54-43f9-eceb-543bcd776cbf"
   },
   "outputs": [
    {
     "name": "stdout",
     "output_type": "stream",
     "text": [
      "WARNING:tensorflow:Layer lstm will not use cuDNN kernel since it doesn't meet the cuDNN kernel criteria. It will use generic GPU kernel as fallback when running on GPU\n",
      "WARNING:tensorflow:Layer lstm will not use cuDNN kernel since it doesn't meet the cuDNN kernel criteria. It will use generic GPU kernel as fallback when running on GPU\n",
      "WARNING:tensorflow:Layer lstm will not use cuDNN kernel since it doesn't meet the cuDNN kernel criteria. It will use generic GPU kernel as fallback when running on GPU\n",
      "Loaded lstm_pred_model from disk\n",
      "WARNING:tensorflow:Model was constructed with shape (None, 300) for input KerasTensor(type_spec=TensorSpec(shape=(None, 300), dtype=tf.float32, name='embedding_input'), name='embedding_input', description=\"created by layer 'embedding_input'\"), but it was called on an input with incompatible shape (None, 100).\n"
     ]
    }
   ],
   "source": [
    "#LSTM Preds Pipeline##############################################\r\n",
    "lstm_attribs=['Description']\r\n",
    "df_lstm_preds=dataframe.loc[:,lstm_attribs]\r\n",
    "lstm_preds_pipeline= Pipeline([('Get LSTM Model predictions',LstmModelPredictions())])\r\n",
    "df_lstm_preds_tr=lstm_preds_pipeline.fit_transform(df_lstm_preds)\r\n",
    "#print(df_lstm_preds_tr)"
   ]
  },
  {
   "cell_type": "code",
   "execution_count": 57,
   "metadata": {
    "executionInfo": {
     "elapsed": 546,
     "status": "ok",
     "timestamp": 1611862736604,
     "user": {
      "displayName": "Naga Srinivas Ramanujam Mangena",
      "photoUrl": "",
      "userId": "04219536135155449678"
     },
     "user_tz": 0
    },
    "id": "jBUmSr1mZNL_"
   },
   "outputs": [],
   "source": [
    "lstm_full_pipeline=ColumnTransformer([\r\n",
    "                (\"datetransform\",date_pipeline,date_attribs),\r\n",
    "                (\"imputer\",risk_pipeline, risk_attribs),\r\n",
    "                (\"onehotencode\",one_hot_pipeline, one_hot_attribs),\r\n",
    "                (\"le_encode\",le_pipeline, le_attribs),\r\n",
    "                (\"LSTM prediction\",lstm_preds_pipeline, ['Description']),\r\n",
    " ])"
   ]
  },
  {
   "cell_type": "code",
   "execution_count": 58,
   "metadata": {
    "colab": {
     "base_uri": "https://localhost:8080/"
    },
    "executionInfo": {
     "elapsed": 13777,
     "status": "ok",
     "timestamp": 1611862759533,
     "user": {
      "displayName": "Naga Srinivas Ramanujam Mangena",
      "photoUrl": "",
      "userId": "04219536135155449678"
     },
     "user_tz": 0
    },
    "id": "noE3cRZpZmqI",
    "outputId": "3325efc6-ae55-48c0-ac6b-0712265124a5"
   },
   "outputs": [
    {
     "name": "stdout",
     "output_type": "stream",
     "text": [
      "WARNING:tensorflow:Layer lstm will not use cuDNN kernel since it doesn't meet the cuDNN kernel criteria. It will use generic GPU kernel as fallback when running on GPU\n",
      "WARNING:tensorflow:Layer lstm will not use cuDNN kernel since it doesn't meet the cuDNN kernel criteria. It will use generic GPU kernel as fallback when running on GPU\n",
      "WARNING:tensorflow:Layer lstm will not use cuDNN kernel since it doesn't meet the cuDNN kernel criteria. It will use generic GPU kernel as fallback when running on GPU\n",
      "Loaded lstm_pred_model from disk\n",
      "WARNING:tensorflow:Model was constructed with shape (None, 300) for input KerasTensor(type_spec=TensorSpec(shape=(None, 300), dtype=tf.float32, name='embedding_input'), name='embedding_input', description=\"created by layer 'embedding_input'\"), but it was called on an input with incompatible shape (None, 100).\n",
      "WARNING:tensorflow:Layer lstm will not use cuDNN kernel since it doesn't meet the cuDNN kernel criteria. It will use generic GPU kernel as fallback when running on GPU\n",
      "WARNING:tensorflow:Layer lstm will not use cuDNN kernel since it doesn't meet the cuDNN kernel criteria. It will use generic GPU kernel as fallback when running on GPU\n",
      "WARNING:tensorflow:Layer lstm will not use cuDNN kernel since it doesn't meet the cuDNN kernel criteria. It will use generic GPU kernel as fallback when running on GPU\n",
      "Loaded lstm_pred_model from disk\n",
      "WARNING:tensorflow:Model was constructed with shape (None, 300) for input KerasTensor(type_spec=TensorSpec(shape=(None, 300), dtype=tf.float32, name='embedding_input'), name='embedding_input', description=\"created by layer 'embedding_input'\"), but it was called on an input with incompatible shape (None, 100).\n",
      "WARNING:tensorflow:Layer lstm will not use cuDNN kernel since it doesn't meet the cuDNN kernel criteria. It will use generic GPU kernel as fallback when running on GPU\n",
      "WARNING:tensorflow:Layer lstm will not use cuDNN kernel since it doesn't meet the cuDNN kernel criteria. It will use generic GPU kernel as fallback when running on GPU\n",
      "WARNING:tensorflow:Layer lstm will not use cuDNN kernel since it doesn't meet the cuDNN kernel criteria. It will use generic GPU kernel as fallback when running on GPU\n",
      "Loaded lstm_pred_model from disk\n",
      "WARNING:tensorflow:Model was constructed with shape (None, 300) for input KerasTensor(type_spec=TensorSpec(shape=(None, 300), dtype=tf.float32, name='embedding_input'), name='embedding_input', description=\"created by layer 'embedding_input'\"), but it was called on an input with incompatible shape (None, 100).\n"
     ]
    }
   ],
   "source": [
    "#LSTM full Pipeline##############################################\r\n",
    "X_train_tr=lstm_full_pipeline.fit_transform(X_train)\r\n",
    "X_val_tr=lstm_full_pipeline.fit_transform(X_val)\r\n",
    "X_test_tr=lstm_full_pipeline.fit_transform(X_test)"
   ]
  },
  {
   "cell_type": "code",
   "execution_count": 59,
   "metadata": {
    "colab": {
     "base_uri": "https://localhost:8080/"
    },
    "executionInfo": {
     "elapsed": 10775,
     "status": "ok",
     "timestamp": 1611862759542,
     "user": {
      "displayName": "Naga Srinivas Ramanujam Mangena",
      "photoUrl": "",
      "userId": "04219536135155449678"
     },
     "user_tz": 0
    },
    "id": "uHj_2AtOWetY",
    "outputId": "b50aa81e-4944-4f52-e5a8-fb0f69f80efc"
   },
   "outputs": [
    {
     "data": {
      "text/plain": [
       "(884, 116)"
      ]
     },
     "execution_count": 59,
     "metadata": {
      "tags": []
     },
     "output_type": "execute_result"
    }
   ],
   "source": [
    "X_train_tr.shape"
   ]
  },
  {
   "cell_type": "code",
   "execution_count": 60,
   "metadata": {
    "colab": {
     "base_uri": "https://localhost:8080/",
     "height": 407
    },
    "executionInfo": {
     "elapsed": 9901,
     "status": "ok",
     "timestamp": 1611862759545,
     "user": {
      "displayName": "Naga Srinivas Ramanujam Mangena",
      "photoUrl": "",
      "userId": "04219536135155449678"
     },
     "user_tz": 0
    },
    "id": "4yKUMBmwZ2jb",
    "outputId": "fbb8d5ee-0b03-4b23-caa5-d8302e6366ef"
   },
   "outputs": [
    {
     "data": {
      "text/html": [
       "<div>\n",
       "<style scoped>\n",
       "    .dataframe tbody tr th:only-of-type {\n",
       "        vertical-align: middle;\n",
       "    }\n",
       "\n",
       "    .dataframe tbody tr th {\n",
       "        vertical-align: top;\n",
       "    }\n",
       "\n",
       "    .dataframe thead th {\n",
       "        text-align: right;\n",
       "    }\n",
       "</style>\n",
       "<table border=\"1\" class=\"dataframe\">\n",
       "  <thead>\n",
       "    <tr style=\"text-align: right;\">\n",
       "      <th></th>\n",
       "      <th>Unnamed: 0</th>\n",
       "      <th>Date</th>\n",
       "      <th>Countries</th>\n",
       "      <th>Local</th>\n",
       "      <th>Industry</th>\n",
       "      <th>Potential_Accident</th>\n",
       "      <th>Gender</th>\n",
       "      <th>Emp_Type</th>\n",
       "      <th>Critical Risk</th>\n",
       "      <th>Description</th>\n",
       "    </tr>\n",
       "  </thead>\n",
       "  <tbody>\n",
       "    <tr>\n",
       "      <th>277</th>\n",
       "      <td>277</td>\n",
       "      <td>2016-12-23 00:00:00</td>\n",
       "      <td>Country_01</td>\n",
       "      <td>Local_04</td>\n",
       "      <td>Mining</td>\n",
       "      <td>IV</td>\n",
       "      <td>Male</td>\n",
       "      <td>Third Party</td>\n",
       "      <td>Others</td>\n",
       "      <td>When performing the movement of the bar to mak...</td>\n",
       "    </tr>\n",
       "    <tr>\n",
       "      <th>1312</th>\n",
       "      <td>1312</td>\n",
       "      <td>2017-03-31 00:00:00</td>\n",
       "      <td>Country_01</td>\n",
       "      <td>Local_03</td>\n",
       "      <td>Mining</td>\n",
       "      <td>V</td>\n",
       "      <td>Male</td>\n",
       "      <td>Third Party</td>\n",
       "      <td>Plates</td>\n",
       "      <td>During the withdrawal of the metal form suppor...</td>\n",
       "    </tr>\n",
       "    <tr>\n",
       "      <th>886</th>\n",
       "      <td>886</td>\n",
       "      <td>2017-03-25 00:00:00</td>\n",
       "      <td>Country_01</td>\n",
       "      <td>Local_01</td>\n",
       "      <td>Mining</td>\n",
       "      <td>IV</td>\n",
       "      <td>Male</td>\n",
       "      <td>Third Party</td>\n",
       "      <td>Manual Tools</td>\n",
       "      <td>During the withdrawal the Kelly bar (conductiv...</td>\n",
       "    </tr>\n",
       "    <tr>\n",
       "      <th>357</th>\n",
       "      <td>357</td>\n",
       "      <td>2017-03-18 00:00:00</td>\n",
       "      <td>Country_01</td>\n",
       "      <td>Local_03</td>\n",
       "      <td>Mining</td>\n",
       "      <td>V</td>\n",
       "      <td>Male</td>\n",
       "      <td>Third Party (Remote)</td>\n",
       "      <td>Power lock</td>\n",
       "      <td>During the activity of changing conveyor belt ...</td>\n",
       "    </tr>\n",
       "    <tr>\n",
       "      <th>1141</th>\n",
       "      <td>1141</td>\n",
       "      <td>2016-06-08 00:00:00</td>\n",
       "      <td>Country_02</td>\n",
       "      <td>Local_08</td>\n",
       "      <td>Mining</td>\n",
       "      <td>IV</td>\n",
       "      <td>Male</td>\n",
       "      <td>Third Party</td>\n",
       "      <td>Fall prevention</td>\n",
       "      <td>During the change of rim position 1 of the Jum...</td>\n",
       "    </tr>\n",
       "    <tr>\n",
       "      <th>...</th>\n",
       "      <td>...</td>\n",
       "      <td>...</td>\n",
       "      <td>...</td>\n",
       "      <td>...</td>\n",
       "      <td>...</td>\n",
       "      <td>...</td>\n",
       "      <td>...</td>\n",
       "      <td>...</td>\n",
       "      <td>...</td>\n",
       "      <td>...</td>\n",
       "    </tr>\n",
       "    <tr>\n",
       "      <th>1487</th>\n",
       "      <td>1487</td>\n",
       "      <td>2017-03-10 00:00:00</td>\n",
       "      <td>Country_01</td>\n",
       "      <td>Local_01</td>\n",
       "      <td>Mining</td>\n",
       "      <td>V</td>\n",
       "      <td>Male</td>\n",
       "      <td>Third Party</td>\n",
       "      <td>Suspended Loads</td>\n",
       "      <td>When the mechanical technician proceeded to pe...</td>\n",
       "    </tr>\n",
       "    <tr>\n",
       "      <th>501</th>\n",
       "      <td>501</td>\n",
       "      <td>2017-05-19 00:00:00</td>\n",
       "      <td>Country_01</td>\n",
       "      <td>Local_02</td>\n",
       "      <td>Mining</td>\n",
       "      <td>III</td>\n",
       "      <td>Male</td>\n",
       "      <td>Employee</td>\n",
       "      <td>Power lock</td>\n",
       "      <td>The worker Manuel was making the disconnection...</td>\n",
       "    </tr>\n",
       "    <tr>\n",
       "      <th>542</th>\n",
       "      <td>542</td>\n",
       "      <td>2017-06-22 00:00:00</td>\n",
       "      <td>Country_01</td>\n",
       "      <td>Local_01</td>\n",
       "      <td>Mining</td>\n",
       "      <td>III</td>\n",
       "      <td>Male</td>\n",
       "      <td>Employee</td>\n",
       "      <td>Others</td>\n",
       "      <td>The industrial cleaning worker Cristian was pe...</td>\n",
       "    </tr>\n",
       "    <tr>\n",
       "      <th>978</th>\n",
       "      <td>978</td>\n",
       "      <td>2017-01-07 00:00:00</td>\n",
       "      <td>Country_01</td>\n",
       "      <td>Local_05</td>\n",
       "      <td>Metals</td>\n",
       "      <td>III</td>\n",
       "      <td>Male</td>\n",
       "      <td>Employee</td>\n",
       "      <td>Cut</td>\n",
       "      <td>At 14: 55h on 27 September, a worker from Conf...</td>\n",
       "    </tr>\n",
       "    <tr>\n",
       "      <th>1445</th>\n",
       "      <td>1445</td>\n",
       "      <td>2016-12-30 00:00:00</td>\n",
       "      <td>Country_01</td>\n",
       "      <td>Local_03</td>\n",
       "      <td>Mining</td>\n",
       "      <td>V</td>\n",
       "      <td>Male</td>\n",
       "      <td>Third Party</td>\n",
       "      <td>Traffic</td>\n",
       "      <td>During the maintenance work of the vertical pu...</td>\n",
       "    </tr>\n",
       "  </tbody>\n",
       "</table>\n",
       "<p>884 rows × 10 columns</p>\n",
       "</div>"
      ],
      "text/plain": [
       "      Unnamed: 0  ...                                        Description\n",
       "277          277  ...  When performing the movement of the bar to mak...\n",
       "1312        1312  ...  During the withdrawal of the metal form suppor...\n",
       "886          886  ...  During the withdrawal the Kelly bar (conductiv...\n",
       "357          357  ...  During the activity of changing conveyor belt ...\n",
       "1141        1141  ...  During the change of rim position 1 of the Jum...\n",
       "...          ...  ...                                                ...\n",
       "1487        1487  ...  When the mechanical technician proceeded to pe...\n",
       "501          501  ...  The worker Manuel was making the disconnection...\n",
       "542          542  ...  The industrial cleaning worker Cristian was pe...\n",
       "978          978  ...  At 14: 55h on 27 September, a worker from Conf...\n",
       "1445        1445  ...  During the maintenance work of the vertical pu...\n",
       "\n",
       "[884 rows x 10 columns]"
      ]
     },
     "execution_count": 60,
     "metadata": {
      "tags": []
     },
     "output_type": "execute_result"
    }
   ],
   "source": [
    "X_train"
   ]
  },
  {
   "cell_type": "markdown",
   "metadata": {
    "id": "ap2OSw7LnCZ1"
   },
   "source": [
    "# Comparing LSTM+ Machine learning classifiers"
   ]
  },
  {
   "cell_type": "code",
   "execution_count": 61,
   "metadata": {
    "colab": {
     "base_uri": "https://localhost:8080/"
    },
    "executionInfo": {
     "elapsed": 19895,
     "status": "ok",
     "timestamp": 1611862776169,
     "user": {
      "displayName": "Naga Srinivas Ramanujam Mangena",
      "photoUrl": "",
      "userId": "04219536135155449678"
     },
     "user_tz": 0
    },
    "id": "SMvjarCKaRt8",
    "outputId": "117d5dee-2409-46f6-826a-18d5726a58b2"
   },
   "outputs": [
    {
     "name": "stdout",
     "output_type": "stream",
     "text": [
      "BR: 0.634617 (0.020034)\n",
      "XGB: 0.661762 (0.027796)\n",
      "RF: 0.618817 (0.051833)\n",
      "CART: 0.583719 (0.036442)\n",
      "GB: 0.666301 (0.026594)\n",
      "SVM: 0.186640 (0.017744)\n",
      "NB: 0.427562 (0.021757)\n"
     ]
    }
   ],
   "source": [
    "# Compare Algorithms for full data\r\n",
    "import pandas\r\n",
    "import matplotlib.pyplot as plt\r\n",
    "from sklearn import model_selection\r\n",
    "from sklearn.ensemble import BaggingClassifier\r\n",
    "from sklearn.tree import DecisionTreeClassifier\r\n",
    "from sklearn.ensemble import GradientBoostingClassifier\r\n",
    "from sklearn.ensemble import RandomForestClassifier\r\n",
    "from sklearn.naive_bayes import GaussianNB\r\n",
    "\r\n",
    "from sklearn.svm import SVC\r\n",
    "import xgboost as xgb\r\n",
    "# prepare configuration for cross validation test harness\r\n",
    "seed = 42\r\n",
    "# prepare models\r\n",
    "models = []\r\n",
    "models.append(('BR', BaggingClassifier()))\r\n",
    "models.append(('XGB', xgb.XGBClassifier()))\r\n",
    "models.append(('RF', RandomForestClassifier()))\r\n",
    "models.append(('CART', DecisionTreeClassifier()))\r\n",
    "models.append(('GB', GradientBoostingClassifier()))\r\n",
    "models.append(('SVM', SVC(kernel='rbf')))\r\n",
    "models.append(('NB',GaussianNB()))\r\n",
    "# evaluate each model in turn\r\n",
    "results = []\r\n",
    "names = []\r\n",
    "scoring = 'accuracy'\r\n",
    "for name, model in models:\r\n",
    "\tkfold = model_selection.KFold(n_splits=5, random_state=seed)\r\n",
    "\tcv_results = model_selection.cross_val_score(model, X_train_tr, y_train, cv=kfold, scoring=scoring)\r\n",
    "\tresults.append(cv_results)\r\n",
    "\tnames.append(name)\r\n",
    "\tmsg = \"%s: %f (%f)\" % (name, cv_results.mean(), cv_results.std())\r\n",
    "\tprint(msg)"
   ]
  },
  {
   "cell_type": "code",
   "execution_count": 62,
   "metadata": {
    "colab": {
     "base_uri": "https://localhost:8080/",
     "height": 510
    },
    "executionInfo": {
     "elapsed": 17567,
     "status": "ok",
     "timestamp": 1611862776173,
     "user": {
      "displayName": "Naga Srinivas Ramanujam Mangena",
      "photoUrl": "",
      "userId": "04219536135155449678"
     },
     "user_tz": 0
    },
    "id": "vTkiARtLbmWm",
    "outputId": "9e84d263-7f56-4bde-a0b7-b2911b062c65"
   },
   "outputs": [
    {
     "data": {
      "image/png": "[encoded data removed]",
      "text/plain": [
       "<Figure size 720x540 with 1 Axes>"
      ]
     },
     "metadata": {
      "needs_background": "light",
      "tags": []
     },
     "output_type": "display_data"
    }
   ],
   "source": [
    "# boxplot algorithm comparison\r\n",
    "fig = plt.figure(figsize=(10,7.5))\r\n",
    "fig.suptitle('Machine learning algorithm comparison for training data (Non-text columns + LSTM on Description)')\r\n",
    "ax = fig.add_subplot(111)\r\n",
    "plt.boxplot(results)\r\n",
    "ax.set_xticklabels(names)\r\n",
    "plt.show()"
   ]
  },
  {
   "cell_type": "markdown",
   "metadata": {
    "id": "cDZkN87STur8"
   },
   "source": [
    "# LSTM +XGBoost"
   ]
  },
  {
   "cell_type": "code",
   "execution_count": 63,
   "metadata": {
    "executionInfo": {
     "elapsed": 813,
     "status": "ok",
     "timestamp": 1611862832938,
     "user": {
      "displayName": "Naga Srinivas Ramanujam Mangena",
      "photoUrl": "",
      "userId": "04219536135155449678"
     },
     "user_tz": 0
    },
    "id": "2lKKOiOObWTk"
   },
   "outputs": [],
   "source": [
    "# Hyper Parameter Tuning for full data\r\n",
    "from sklearn.pipeline import Pipeline\r\n",
    "from sklearn.model_selection import GridSearchCV\r\n",
    "from sklearn.ensemble import RandomForestClassifier\r\n",
    "seed=42\r\n",
    "xgb_pipe_steps = [('lstm_full_pipeline',lstm_full_pipeline),\r\n",
    "                  ('scaler',StandardScaler()),\r\n",
    "                 ('XGB', xgb.XGBClassifier(random_state=seed ))\r\n",
    "            ]\r\n",
    "\r\n",
    "check_params= {\r\n",
    "    'XGB__max_depth': [6,7], \r\n",
    "    'XGB__min_child_weight' : [2,3],\r\n",
    "    'XGB__n_estimators' : [100],\r\n",
    "    'XGB__eta' : [0.003],\r\n",
    "    'XGB__learning_rate' : [0.04,0.05],\r\n",
    "}\r\n",
    "xgb_pipeline = Pipeline(xgb_pipe_steps)"
   ]
  },
  {
   "cell_type": "code",
   "execution_count": 64,
   "metadata": {
    "colab": {
     "base_uri": "https://localhost:8080/",
     "height": 1000,
     "referenced_widgets": [
      "eae1710ff61c47e291e2c479b10450c1",
      "10ad3f4131684eec87a39874fb0c833b",
      "f5284102d116430aab14fd23bd1763fc",
      "07a728a12c6e4f5baf4056f442513518",
      "ee5eb8319088478bbdcc03f67870cfa6",
      "84737ffcd6e142449ca1aae1b8d7dc53",
      "96b3da4fdfc54b55a86d43ebc471b3c3",
      "c0de8882a0874fc79632655a58228700"
     ]
    },
    "executionInfo": {
     "elapsed": 311638,
     "status": "ok",
     "timestamp": 1611863146451,
     "user": {
      "displayName": "Naga Srinivas Ramanujam Mangena",
      "photoUrl": "",
      "userId": "04219536135155449678"
     },
     "user_tz": 0
    },
    "id": "q6Cx0IkYbWT0",
    "outputId": "1ff5e6d2-d859-4f61-f281-73ce1bdf6de9"
   },
   "outputs": [
    {
     "name": "stdout",
     "output_type": "stream",
     "text": [
      "Start Fitting Training Data\n"
     ]
    },
    {
     "data": {
      "application/vnd.jupyter.widget-view+json": {
       "model_id": "eae1710ff61c47e291e2c479b10450c1",
       "version_major": 2,
       "version_minor": 0
      },
      "text/plain": [
       "HBox(children=(FloatProgress(value=0.0, max=1.0), HTML(value='')))"
      ]
     },
     "metadata": {
      "tags": []
     },
     "output_type": "display_data"
    },
    {
     "name": "stdout",
     "output_type": "stream",
     "text": [
      "WARNING:tensorflow:Layer lstm will not use cuDNN kernel since it doesn't meet the cuDNN kernel criteria. It will use generic GPU kernel as fallback when running on GPU\n",
      "WARNING:tensorflow:Layer lstm will not use cuDNN kernel since it doesn't meet the cuDNN kernel criteria. It will use generic GPU kernel as fallback when running on GPU\n",
      "WARNING:tensorflow:Layer lstm will not use cuDNN kernel since it doesn't meet the cuDNN kernel criteria. It will use generic GPU kernel as fallback when running on GPU\n",
      "Loaded lstm_pred_model from disk\n",
      "WARNING:tensorflow:Model was constructed with shape (None, 300) for input KerasTensor(type_spec=TensorSpec(shape=(None, 300), dtype=tf.float32, name='embedding_input'), name='embedding_input', description=\"created by layer 'embedding_input'\"), but it was called on an input with incompatible shape (None, 100).\n",
      "WARNING:tensorflow:Layer lstm will not use cuDNN kernel since it doesn't meet the cuDNN kernel criteria. It will use generic GPU kernel as fallback when running on GPU\n",
      "WARNING:tensorflow:Layer lstm will not use cuDNN kernel since it doesn't meet the cuDNN kernel criteria. It will use generic GPU kernel as fallback when running on GPU\n",
      "WARNING:tensorflow:Layer lstm will not use cuDNN kernel since it doesn't meet the cuDNN kernel criteria. It will use generic GPU kernel as fallback when running on GPU\n",
      "Loaded lstm_pred_model from disk\n",
      "WARNING:tensorflow:Model was constructed with shape (None, 300) for input KerasTensor(type_spec=TensorSpec(shape=(None, 300), dtype=tf.float32, name='embedding_input'), name='embedding_input', description=\"created by layer 'embedding_input'\"), but it was called on an input with incompatible shape (None, 100).\n",
      "WARNING:tensorflow:Layer lstm will not use cuDNN kernel since it doesn't meet the cuDNN kernel criteria. It will use generic GPU kernel as fallback when running on GPU\n",
      "WARNING:tensorflow:Layer lstm will not use cuDNN kernel since it doesn't meet the cuDNN kernel criteria. It will use generic GPU kernel as fallback when running on GPU\n",
      "WARNING:tensorflow:Layer lstm will not use cuDNN kernel since it doesn't meet the cuDNN kernel criteria. It will use generic GPU kernel as fallback when running on GPU\n",
      "Loaded lstm_pred_model from disk\n",
      "WARNING:tensorflow:Model was constructed with shape (None, 300) for input KerasTensor(type_spec=TensorSpec(shape=(None, 300), dtype=tf.float32, name='embedding_input'), name='embedding_input', description=\"created by layer 'embedding_input'\"), but it was called on an input with incompatible shape (None, 100).\n",
      "WARNING:tensorflow:Layer lstm will not use cuDNN kernel since it doesn't meet the cuDNN kernel criteria. It will use generic GPU kernel as fallback when running on GPU\n",
      "WARNING:tensorflow:Layer lstm will not use cuDNN kernel since it doesn't meet the cuDNN kernel criteria. It will use generic GPU kernel as fallback when running on GPU\n",
      "WARNING:tensorflow:Layer lstm will not use cuDNN kernel since it doesn't meet the cuDNN kernel criteria. It will use generic GPU kernel as fallback when running on GPU\n",
      "Loaded lstm_pred_model from disk\n",
      "WARNING:tensorflow:Model was constructed with shape (None, 300) for input KerasTensor(type_spec=TensorSpec(shape=(None, 300), dtype=tf.float32, name='embedding_input'), name='embedding_input', description=\"created by layer 'embedding_input'\"), but it was called on an input with incompatible shape (None, 100).\n",
      "WARNING:tensorflow:Layer lstm will not use cuDNN kernel since it doesn't meet the cuDNN kernel criteria. It will use generic GPU kernel as fallback when running on GPU\n",
      "WARNING:tensorflow:Layer lstm will not use cuDNN kernel since it doesn't meet the cuDNN kernel criteria. It will use generic GPU kernel as fallback when running on GPU\n",
      "WARNING:tensorflow:Layer lstm will not use cuDNN kernel since it doesn't meet the cuDNN kernel criteria. It will use generic GPU kernel as fallback when running on GPU\n",
      "Loaded lstm_pred_model from disk\n",
      "WARNING:tensorflow:Model was constructed with shape (None, 300) for input KerasTensor(type_spec=TensorSpec(shape=(None, 300), dtype=tf.float32, name='embedding_input'), name='embedding_input', description=\"created by layer 'embedding_input'\"), but it was called on an input with incompatible shape (None, 100).\n",
      "WARNING:tensorflow:Layer lstm will not use cuDNN kernel since it doesn't meet the cuDNN kernel criteria. It will use generic GPU kernel as fallback when running on GPU\n",
      "WARNING:tensorflow:Layer lstm will not use cuDNN kernel since it doesn't meet the cuDNN kernel criteria. It will use generic GPU kernel as fallback when running on GPU\n",
      "WARNING:tensorflow:Layer lstm will not use cuDNN kernel since it doesn't meet the cuDNN kernel criteria. It will use generic GPU kernel as fallback when running on GPU\n",
      "Loaded lstm_pred_model from disk\n",
      "WARNING:tensorflow:Model was constructed with shape (None, 300) for input KerasTensor(type_spec=TensorSpec(shape=(None, 300), dtype=tf.float32, name='embedding_input'), name='embedding_input', description=\"created by layer 'embedding_input'\"), but it was called on an input with incompatible shape (None, 100).\n",
      "WARNING:tensorflow:Layer lstm will not use cuDNN kernel since it doesn't meet the cuDNN kernel criteria. It will use generic GPU kernel as fallback when running on GPU\n",
      "WARNING:tensorflow:Layer lstm will not use cuDNN kernel since it doesn't meet the cuDNN kernel criteria. It will use generic GPU kernel as fallback when running on GPU\n",
      "WARNING:tensorflow:Layer lstm will not use cuDNN kernel since it doesn't meet the cuDNN kernel criteria. It will use generic GPU kernel as fallback when running on GPU\n",
      "Loaded lstm_pred_model from disk\n",
      "WARNING:tensorflow:Model was constructed with shape (None, 300) for input KerasTensor(type_spec=TensorSpec(shape=(None, 300), dtype=tf.float32, name='embedding_input'), name='embedding_input', description=\"created by layer 'embedding_input'\"), but it was called on an input with incompatible shape (None, 100).\n",
      "WARNING:tensorflow:Layer lstm will not use cuDNN kernel since it doesn't meet the cuDNN kernel criteria. It will use generic GPU kernel as fallback when running on GPU\n",
      "WARNING:tensorflow:Layer lstm will not use cuDNN kernel since it doesn't meet the cuDNN kernel criteria. It will use generic GPU kernel as fallback when running on GPU\n",
      "WARNING:tensorflow:Layer lstm will not use cuDNN kernel since it doesn't meet the cuDNN kernel criteria. It will use generic GPU kernel as fallback when running on GPU\n",
      "Loaded lstm_pred_model from disk\n",
      "WARNING:tensorflow:Model was constructed with shape (None, 300) for input KerasTensor(type_spec=TensorSpec(shape=(None, 300), dtype=tf.float32, name='embedding_input'), name='embedding_input', description=\"created by layer 'embedding_input'\"), but it was called on an input with incompatible shape (None, 100).\n",
      "WARNING:tensorflow:Layer lstm will not use cuDNN kernel since it doesn't meet the cuDNN kernel criteria. It will use generic GPU kernel as fallback when running on GPU\n",
      "WARNING:tensorflow:Layer lstm will not use cuDNN kernel since it doesn't meet the cuDNN kernel criteria. It will use generic GPU kernel as fallback when running on GPU\n",
      "WARNING:tensorflow:Layer lstm will not use cuDNN kernel since it doesn't meet the cuDNN kernel criteria. It will use generic GPU kernel as fallback when running on GPU\n",
      "Loaded lstm_pred_model from disk\n",
      "WARNING:tensorflow:Model was constructed with shape (None, 300) for input KerasTensor(type_spec=TensorSpec(shape=(None, 300), dtype=tf.float32, name='embedding_input'), name='embedding_input', description=\"created by layer 'embedding_input'\"), but it was called on an input with incompatible shape (None, 100).\n",
      "WARNING:tensorflow:Layer lstm will not use cuDNN kernel since it doesn't meet the cuDNN kernel criteria. It will use generic GPU kernel as fallback when running on GPU\n",
      "WARNING:tensorflow:Layer lstm will not use cuDNN kernel since it doesn't meet the cuDNN kernel criteria. It will use generic GPU kernel as fallback when running on GPU\n",
      "WARNING:tensorflow:Layer lstm will not use cuDNN kernel since it doesn't meet the cuDNN kernel criteria. It will use generic GPU kernel as fallback when running on GPU\n",
      "Loaded lstm_pred_model from disk\n",
      "WARNING:tensorflow:Model was constructed with shape (None, 300) for input KerasTensor(type_spec=TensorSpec(shape=(None, 300), dtype=tf.float32, name='embedding_input'), name='embedding_input', description=\"created by layer 'embedding_input'\"), but it was called on an input with incompatible shape (None, 100).\n",
      "WARNING:tensorflow:Layer lstm will not use cuDNN kernel since it doesn't meet the cuDNN kernel criteria. It will use generic GPU kernel as fallback when running on GPU\n",
      "WARNING:tensorflow:Layer lstm will not use cuDNN kernel since it doesn't meet the cuDNN kernel criteria. It will use generic GPU kernel as fallback when running on GPU\n",
      "WARNING:tensorflow:Layer lstm will not use cuDNN kernel since it doesn't meet the cuDNN kernel criteria. It will use generic GPU kernel as fallback when running on GPU\n",
      "Loaded lstm_pred_model from disk\n",
      "WARNING:tensorflow:Model was constructed with shape (None, 300) for input KerasTensor(type_spec=TensorSpec(shape=(None, 300), dtype=tf.float32, name='embedding_input'), name='embedding_input', description=\"created by layer 'embedding_input'\"), but it was called on an input with incompatible shape (None, 100).\n",
      "WARNING:tensorflow:Layer lstm will not use cuDNN kernel since it doesn't meet the cuDNN kernel criteria. It will use generic GPU kernel as fallback when running on GPU\n",
      "WARNING:tensorflow:Layer lstm will not use cuDNN kernel since it doesn't meet the cuDNN kernel criteria. It will use generic GPU kernel as fallback when running on GPU\n",
      "WARNING:tensorflow:Layer lstm will not use cuDNN kernel since it doesn't meet the cuDNN kernel criteria. It will use generic GPU kernel as fallback when running on GPU\n",
      "Loaded lstm_pred_model from disk\n",
      "WARNING:tensorflow:Model was constructed with shape (None, 300) for input KerasTensor(type_spec=TensorSpec(shape=(None, 300), dtype=tf.float32, name='embedding_input'), name='embedding_input', description=\"created by layer 'embedding_input'\"), but it was called on an input with incompatible shape (None, 100).\n",
      "WARNING:tensorflow:Layer lstm will not use cuDNN kernel since it doesn't meet the cuDNN kernel criteria. It will use generic GPU kernel as fallback when running on GPU\n",
      "WARNING:tensorflow:Layer lstm will not use cuDNN kernel since it doesn't meet the cuDNN kernel criteria. It will use generic GPU kernel as fallback when running on GPU\n",
      "WARNING:tensorflow:Layer lstm will not use cuDNN kernel since it doesn't meet the cuDNN kernel criteria. It will use generic GPU kernel as fallback when running on GPU\n",
      "Loaded lstm_pred_model from disk\n",
      "WARNING:tensorflow:Model was constructed with shape (None, 300) for input KerasTensor(type_spec=TensorSpec(shape=(None, 300), dtype=tf.float32, name='embedding_input'), name='embedding_input', description=\"created by layer 'embedding_input'\"), but it was called on an input with incompatible shape (None, 100).\n",
      "WARNING:tensorflow:Layer lstm will not use cuDNN kernel since it doesn't meet the cuDNN kernel criteria. It will use generic GPU kernel as fallback when running on GPU\n",
      "WARNING:tensorflow:Layer lstm will not use cuDNN kernel since it doesn't meet the cuDNN kernel criteria. It will use generic GPU kernel as fallback when running on GPU\n",
      "WARNING:tensorflow:Layer lstm will not use cuDNN kernel since it doesn't meet the cuDNN kernel criteria. It will use generic GPU kernel as fallback when running on GPU\n",
      "Loaded lstm_pred_model from disk\n",
      "WARNING:tensorflow:Model was constructed with shape (None, 300) for input KerasTensor(type_spec=TensorSpec(shape=(None, 300), dtype=tf.float32, name='embedding_input'), name='embedding_input', description=\"created by layer 'embedding_input'\"), but it was called on an input with incompatible shape (None, 100).\n",
      "WARNING:tensorflow:Layer lstm will not use cuDNN kernel since it doesn't meet the cuDNN kernel criteria. It will use generic GPU kernel as fallback when running on GPU\n",
      "WARNING:tensorflow:Layer lstm will not use cuDNN kernel since it doesn't meet the cuDNN kernel criteria. It will use generic GPU kernel as fallback when running on GPU\n",
      "WARNING:tensorflow:Layer lstm will not use cuDNN kernel since it doesn't meet the cuDNN kernel criteria. It will use generic GPU kernel as fallback when running on GPU\n",
      "Loaded lstm_pred_model from disk\n",
      "WARNING:tensorflow:Model was constructed with shape (None, 300) for input KerasTensor(type_spec=TensorSpec(shape=(None, 300), dtype=tf.float32, name='embedding_input'), name='embedding_input', description=\"created by layer 'embedding_input'\"), but it was called on an input with incompatible shape (None, 100).\n",
      "WARNING:tensorflow:Layer lstm will not use cuDNN kernel since it doesn't meet the cuDNN kernel criteria. It will use generic GPU kernel as fallback when running on GPU\n",
      "WARNING:tensorflow:Layer lstm will not use cuDNN kernel since it doesn't meet the cuDNN kernel criteria. It will use generic GPU kernel as fallback when running on GPU\n",
      "WARNING:tensorflow:Layer lstm will not use cuDNN kernel since it doesn't meet the cuDNN kernel criteria. It will use generic GPU kernel as fallback when running on GPU\n",
      "Loaded lstm_pred_model from disk\n",
      "WARNING:tensorflow:Model was constructed with shape (None, 300) for input KerasTensor(type_spec=TensorSpec(shape=(None, 300), dtype=tf.float32, name='embedding_input'), name='embedding_input', description=\"created by layer 'embedding_input'\"), but it was called on an input with incompatible shape (None, 100).\n",
      "WARNING:tensorflow:Layer lstm will not use cuDNN kernel since it doesn't meet the cuDNN kernel criteria. It will use generic GPU kernel as fallback when running on GPU\n",
      "WARNING:tensorflow:Layer lstm will not use cuDNN kernel since it doesn't meet the cuDNN kernel criteria. It will use generic GPU kernel as fallback when running on GPU\n",
      "WARNING:tensorflow:Layer lstm will not use cuDNN kernel since it doesn't meet the cuDNN kernel criteria. It will use generic GPU kernel as fallback when running on GPU\n",
      "Loaded lstm_pred_model from disk\n",
      "WARNING:tensorflow:Model was constructed with shape (None, 300) for input KerasTensor(type_spec=TensorSpec(shape=(None, 300), dtype=tf.float32, name='embedding_input'), name='embedding_input', description=\"created by layer 'embedding_input'\"), but it was called on an input with incompatible shape (None, 100).\n",
      "WARNING:tensorflow:Layer lstm will not use cuDNN kernel since it doesn't meet the cuDNN kernel criteria. It will use generic GPU kernel as fallback when running on GPU\n",
      "WARNING:tensorflow:Layer lstm will not use cuDNN kernel since it doesn't meet the cuDNN kernel criteria. It will use generic GPU kernel as fallback when running on GPU\n",
      "WARNING:tensorflow:Layer lstm will not use cuDNN kernel since it doesn't meet the cuDNN kernel criteria. It will use generic GPU kernel as fallback when running on GPU\n",
      "Loaded lstm_pred_model from disk\n",
      "WARNING:tensorflow:Model was constructed with shape (None, 300) for input KerasTensor(type_spec=TensorSpec(shape=(None, 300), dtype=tf.float32, name='embedding_input'), name='embedding_input', description=\"created by layer 'embedding_input'\"), but it was called on an input with incompatible shape (None, 100).\n",
      "WARNING:tensorflow:Layer lstm will not use cuDNN kernel since it doesn't meet the cuDNN kernel criteria. It will use generic GPU kernel as fallback when running on GPU\n",
      "WARNING:tensorflow:Layer lstm will not use cuDNN kernel since it doesn't meet the cuDNN kernel criteria. It will use generic GPU kernel as fallback when running on GPU\n",
      "WARNING:tensorflow:Layer lstm will not use cuDNN kernel since it doesn't meet the cuDNN kernel criteria. It will use generic GPU kernel as fallback when running on GPU\n",
      "Loaded lstm_pred_model from disk\n",
      "WARNING:tensorflow:Model was constructed with shape (None, 300) for input KerasTensor(type_spec=TensorSpec(shape=(None, 300), dtype=tf.float32, name='embedding_input'), name='embedding_input', description=\"created by layer 'embedding_input'\"), but it was called on an input with incompatible shape (None, 100).\n",
      "WARNING:tensorflow:Layer lstm will not use cuDNN kernel since it doesn't meet the cuDNN kernel criteria. It will use generic GPU kernel as fallback when running on GPU\n",
      "WARNING:tensorflow:Layer lstm will not use cuDNN kernel since it doesn't meet the cuDNN kernel criteria. It will use generic GPU kernel as fallback when running on GPU\n",
      "WARNING:tensorflow:Layer lstm will not use cuDNN kernel since it doesn't meet the cuDNN kernel criteria. It will use generic GPU kernel as fallback when running on GPU\n",
      "Loaded lstm_pred_model from disk\n",
      "WARNING:tensorflow:Model was constructed with shape (None, 300) for input KerasTensor(type_spec=TensorSpec(shape=(None, 300), dtype=tf.float32, name='embedding_input'), name='embedding_input', description=\"created by layer 'embedding_input'\"), but it was called on an input with incompatible shape (None, 100).\n",
      "WARNING:tensorflow:Layer lstm will not use cuDNN kernel since it doesn't meet the cuDNN kernel criteria. It will use generic GPU kernel as fallback when running on GPU\n",
      "WARNING:tensorflow:Layer lstm will not use cuDNN kernel since it doesn't meet the cuDNN kernel criteria. It will use generic GPU kernel as fallback when running on GPU\n",
      "WARNING:tensorflow:Layer lstm will not use cuDNN kernel since it doesn't meet the cuDNN kernel criteria. It will use generic GPU kernel as fallback when running on GPU\n",
      "Loaded lstm_pred_model from disk\n",
      "WARNING:tensorflow:Model was constructed with shape (None, 300) for input KerasTensor(type_spec=TensorSpec(shape=(None, 300), dtype=tf.float32, name='embedding_input'), name='embedding_input', description=\"created by layer 'embedding_input'\"), but it was called on an input with incompatible shape (None, 100).\n",
      "WARNING:tensorflow:Layer lstm will not use cuDNN kernel since it doesn't meet the cuDNN kernel criteria. It will use generic GPU kernel as fallback when running on GPU\n",
      "WARNING:tensorflow:Layer lstm will not use cuDNN kernel since it doesn't meet the cuDNN kernel criteria. It will use generic GPU kernel as fallback when running on GPU\n",
      "WARNING:tensorflow:Layer lstm will not use cuDNN kernel since it doesn't meet the cuDNN kernel criteria. It will use generic GPU kernel as fallback when running on GPU\n",
      "Loaded lstm_pred_model from disk\n",
      "WARNING:tensorflow:Model was constructed with shape (None, 300) for input KerasTensor(type_spec=TensorSpec(shape=(None, 300), dtype=tf.float32, name='embedding_input'), name='embedding_input', description=\"created by layer 'embedding_input'\"), but it was called on an input with incompatible shape (None, 100).\n",
      "WARNING:tensorflow:Layer lstm will not use cuDNN kernel since it doesn't meet the cuDNN kernel criteria. It will use generic GPU kernel as fallback when running on GPU\n",
      "WARNING:tensorflow:Layer lstm will not use cuDNN kernel since it doesn't meet the cuDNN kernel criteria. It will use generic GPU kernel as fallback when running on GPU\n",
      "WARNING:tensorflow:Layer lstm will not use cuDNN kernel since it doesn't meet the cuDNN kernel criteria. It will use generic GPU kernel as fallback when running on GPU\n",
      "Loaded lstm_pred_model from disk\n",
      "WARNING:tensorflow:Model was constructed with shape (None, 300) for input KerasTensor(type_spec=TensorSpec(shape=(None, 300), dtype=tf.float32, name='embedding_input'), name='embedding_input', description=\"created by layer 'embedding_input'\"), but it was called on an input with incompatible shape (None, 100).\n",
      "WARNING:tensorflow:Layer lstm will not use cuDNN kernel since it doesn't meet the cuDNN kernel criteria. It will use generic GPU kernel as fallback when running on GPU\n",
      "WARNING:tensorflow:Layer lstm will not use cuDNN kernel since it doesn't meet the cuDNN kernel criteria. It will use generic GPU kernel as fallback when running on GPU\n",
      "WARNING:tensorflow:Layer lstm will not use cuDNN kernel since it doesn't meet the cuDNN kernel criteria. It will use generic GPU kernel as fallback when running on GPU\n",
      "Loaded lstm_pred_model from disk\n",
      "WARNING:tensorflow:Model was constructed with shape (None, 300) for input KerasTensor(type_spec=TensorSpec(shape=(None, 300), dtype=tf.float32, name='embedding_input'), name='embedding_input', description=\"created by layer 'embedding_input'\"), but it was called on an input with incompatible shape (None, 100).\n",
      "WARNING:tensorflow:Layer lstm will not use cuDNN kernel since it doesn't meet the cuDNN kernel criteria. It will use generic GPU kernel as fallback when running on GPU\n",
      "WARNING:tensorflow:Layer lstm will not use cuDNN kernel since it doesn't meet the cuDNN kernel criteria. It will use generic GPU kernel as fallback when running on GPU\n",
      "WARNING:tensorflow:Layer lstm will not use cuDNN kernel since it doesn't meet the cuDNN kernel criteria. It will use generic GPU kernel as fallback when running on GPU\n",
      "Loaded lstm_pred_model from disk\n",
      "WARNING:tensorflow:Model was constructed with shape (None, 300) for input KerasTensor(type_spec=TensorSpec(shape=(None, 300), dtype=tf.float32, name='embedding_input'), name='embedding_input', description=\"created by layer 'embedding_input'\"), but it was called on an input with incompatible shape (None, 100).\n",
      "WARNING:tensorflow:Layer lstm will not use cuDNN kernel since it doesn't meet the cuDNN kernel criteria. It will use generic GPU kernel as fallback when running on GPU\n",
      "WARNING:tensorflow:Layer lstm will not use cuDNN kernel since it doesn't meet the cuDNN kernel criteria. It will use generic GPU kernel as fallback when running on GPU\n",
      "WARNING:tensorflow:Layer lstm will not use cuDNN kernel since it doesn't meet the cuDNN kernel criteria. It will use generic GPU kernel as fallback when running on GPU\n",
      "Loaded lstm_pred_model from disk\n",
      "WARNING:tensorflow:Model was constructed with shape (None, 300) for input KerasTensor(type_spec=TensorSpec(shape=(None, 300), dtype=tf.float32, name='embedding_input'), name='embedding_input', description=\"created by layer 'embedding_input'\"), but it was called on an input with incompatible shape (None, 100).\n",
      "WARNING:tensorflow:Layer lstm will not use cuDNN kernel since it doesn't meet the cuDNN kernel criteria. It will use generic GPU kernel as fallback when running on GPU\n",
      "WARNING:tensorflow:Layer lstm will not use cuDNN kernel since it doesn't meet the cuDNN kernel criteria. It will use generic GPU kernel as fallback when running on GPU\n",
      "WARNING:tensorflow:Layer lstm will not use cuDNN kernel since it doesn't meet the cuDNN kernel criteria. It will use generic GPU kernel as fallback when running on GPU\n",
      "Loaded lstm_pred_model from disk\n",
      "WARNING:tensorflow:Model was constructed with shape (None, 300) for input KerasTensor(type_spec=TensorSpec(shape=(None, 300), dtype=tf.float32, name='embedding_input'), name='embedding_input', description=\"created by layer 'embedding_input'\"), but it was called on an input with incompatible shape (None, 100).\n",
      "WARNING:tensorflow:Layer lstm will not use cuDNN kernel since it doesn't meet the cuDNN kernel criteria. It will use generic GPU kernel as fallback when running on GPU\n",
      "WARNING:tensorflow:Layer lstm will not use cuDNN kernel since it doesn't meet the cuDNN kernel criteria. It will use generic GPU kernel as fallback when running on GPU\n",
      "WARNING:tensorflow:Layer lstm will not use cuDNN kernel since it doesn't meet the cuDNN kernel criteria. It will use generic GPU kernel as fallback when running on GPU\n",
      "Loaded lstm_pred_model from disk\n",
      "WARNING:tensorflow:Model was constructed with shape (None, 300) for input KerasTensor(type_spec=TensorSpec(shape=(None, 300), dtype=tf.float32, name='embedding_input'), name='embedding_input', description=\"created by layer 'embedding_input'\"), but it was called on an input with incompatible shape (None, 100).\n",
      "WARNING:tensorflow:Layer lstm will not use cuDNN kernel since it doesn't meet the cuDNN kernel criteria. It will use generic GPU kernel as fallback when running on GPU\n",
      "WARNING:tensorflow:Layer lstm will not use cuDNN kernel since it doesn't meet the cuDNN kernel criteria. It will use generic GPU kernel as fallback when running on GPU\n",
      "WARNING:tensorflow:Layer lstm will not use cuDNN kernel since it doesn't meet the cuDNN kernel criteria. It will use generic GPU kernel as fallback when running on GPU\n",
      "Loaded lstm_pred_model from disk\n",
      "WARNING:tensorflow:Model was constructed with shape (None, 300) for input KerasTensor(type_spec=TensorSpec(shape=(None, 300), dtype=tf.float32, name='embedding_input'), name='embedding_input', description=\"created by layer 'embedding_input'\"), but it was called on an input with incompatible shape (None, 100).\n",
      "WARNING:tensorflow:Layer lstm will not use cuDNN kernel since it doesn't meet the cuDNN kernel criteria. It will use generic GPU kernel as fallback when running on GPU\n",
      "WARNING:tensorflow:Layer lstm will not use cuDNN kernel since it doesn't meet the cuDNN kernel criteria. It will use generic GPU kernel as fallback when running on GPU\n",
      "WARNING:tensorflow:Layer lstm will not use cuDNN kernel since it doesn't meet the cuDNN kernel criteria. It will use generic GPU kernel as fallback when running on GPU\n",
      "Loaded lstm_pred_model from disk\n",
      "WARNING:tensorflow:Model was constructed with shape (None, 300) for input KerasTensor(type_spec=TensorSpec(shape=(None, 300), dtype=tf.float32, name='embedding_input'), name='embedding_input', description=\"created by layer 'embedding_input'\"), but it was called on an input with incompatible shape (None, 100).\n",
      "WARNING:tensorflow:Layer lstm will not use cuDNN kernel since it doesn't meet the cuDNN kernel criteria. It will use generic GPU kernel as fallback when running on GPU\n",
      "WARNING:tensorflow:Layer lstm will not use cuDNN kernel since it doesn't meet the cuDNN kernel criteria. It will use generic GPU kernel as fallback when running on GPU\n",
      "WARNING:tensorflow:Layer lstm will not use cuDNN kernel since it doesn't meet the cuDNN kernel criteria. It will use generic GPU kernel as fallback when running on GPU\n",
      "Loaded lstm_pred_model from disk\n",
      "WARNING:tensorflow:Model was constructed with shape (None, 300) for input KerasTensor(type_spec=TensorSpec(shape=(None, 300), dtype=tf.float32, name='embedding_input'), name='embedding_input', description=\"created by layer 'embedding_input'\"), but it was called on an input with incompatible shape (None, 100).\n",
      "WARNING:tensorflow:Layer lstm will not use cuDNN kernel since it doesn't meet the cuDNN kernel criteria. It will use generic GPU kernel as fallback when running on GPU\n",
      "WARNING:tensorflow:Layer lstm will not use cuDNN kernel since it doesn't meet the cuDNN kernel criteria. It will use generic GPU kernel as fallback when running on GPU\n",
      "WARNING:tensorflow:Layer lstm will not use cuDNN kernel since it doesn't meet the cuDNN kernel criteria. It will use generic GPU kernel as fallback when running on GPU\n",
      "Loaded lstm_pred_model from disk\n",
      "WARNING:tensorflow:Model was constructed with shape (None, 300) for input KerasTensor(type_spec=TensorSpec(shape=(None, 300), dtype=tf.float32, name='embedding_input'), name='embedding_input', description=\"created by layer 'embedding_input'\"), but it was called on an input with incompatible shape (None, 100).\n",
      "WARNING:tensorflow:Layer lstm will not use cuDNN kernel since it doesn't meet the cuDNN kernel criteria. It will use generic GPU kernel as fallback when running on GPU\n",
      "WARNING:tensorflow:Layer lstm will not use cuDNN kernel since it doesn't meet the cuDNN kernel criteria. It will use generic GPU kernel as fallback when running on GPU\n",
      "WARNING:tensorflow:Layer lstm will not use cuDNN kernel since it doesn't meet the cuDNN kernel criteria. It will use generic GPU kernel as fallback when running on GPU\n",
      "Loaded lstm_pred_model from disk\n",
      "WARNING:tensorflow:Model was constructed with shape (None, 300) for input KerasTensor(type_spec=TensorSpec(shape=(None, 300), dtype=tf.float32, name='embedding_input'), name='embedding_input', description=\"created by layer 'embedding_input'\"), but it was called on an input with incompatible shape (None, 100).\n",
      "WARNING:tensorflow:Layer lstm will not use cuDNN kernel since it doesn't meet the cuDNN kernel criteria. It will use generic GPU kernel as fallback when running on GPU\n",
      "WARNING:tensorflow:Layer lstm will not use cuDNN kernel since it doesn't meet the cuDNN kernel criteria. It will use generic GPU kernel as fallback when running on GPU\n",
      "WARNING:tensorflow:Layer lstm will not use cuDNN kernel since it doesn't meet the cuDNN kernel criteria. It will use generic GPU kernel as fallback when running on GPU\n",
      "Loaded lstm_pred_model from disk\n",
      "WARNING:tensorflow:Model was constructed with shape (None, 300) for input KerasTensor(type_spec=TensorSpec(shape=(None, 300), dtype=tf.float32, name='embedding_input'), name='embedding_input', description=\"created by layer 'embedding_input'\"), but it was called on an input with incompatible shape (None, 100).\n",
      "WARNING:tensorflow:Layer lstm will not use cuDNN kernel since it doesn't meet the cuDNN kernel criteria. It will use generic GPU kernel as fallback when running on GPU\n",
      "WARNING:tensorflow:Layer lstm will not use cuDNN kernel since it doesn't meet the cuDNN kernel criteria. It will use generic GPU kernel as fallback when running on GPU\n",
      "WARNING:tensorflow:Layer lstm will not use cuDNN kernel since it doesn't meet the cuDNN kernel criteria. It will use generic GPU kernel as fallback when running on GPU\n",
      "Loaded lstm_pred_model from disk\n",
      "WARNING:tensorflow:Model was constructed with shape (None, 300) for input KerasTensor(type_spec=TensorSpec(shape=(None, 300), dtype=tf.float32, name='embedding_input'), name='embedding_input', description=\"created by layer 'embedding_input'\"), but it was called on an input with incompatible shape (None, 100).\n",
      "WARNING:tensorflow:Layer lstm will not use cuDNN kernel since it doesn't meet the cuDNN kernel criteria. It will use generic GPU kernel as fallback when running on GPU\n",
      "WARNING:tensorflow:Layer lstm will not use cuDNN kernel since it doesn't meet the cuDNN kernel criteria. It will use generic GPU kernel as fallback when running on GPU\n",
      "WARNING:tensorflow:Layer lstm will not use cuDNN kernel since it doesn't meet the cuDNN kernel criteria. It will use generic GPU kernel as fallback when running on GPU\n",
      "Loaded lstm_pred_model from disk\n",
      "WARNING:tensorflow:Model was constructed with shape (None, 300) for input KerasTensor(type_spec=TensorSpec(shape=(None, 300), dtype=tf.float32, name='embedding_input'), name='embedding_input', description=\"created by layer 'embedding_input'\"), but it was called on an input with incompatible shape (None, 100).\n",
      "WARNING:tensorflow:Layer lstm will not use cuDNN kernel since it doesn't meet the cuDNN kernel criteria. It will use generic GPU kernel as fallback when running on GPU\n",
      "WARNING:tensorflow:Layer lstm will not use cuDNN kernel since it doesn't meet the cuDNN kernel criteria. It will use generic GPU kernel as fallback when running on GPU\n",
      "WARNING:tensorflow:Layer lstm will not use cuDNN kernel since it doesn't meet the cuDNN kernel criteria. It will use generic GPU kernel as fallback when running on GPU\n",
      "Loaded lstm_pred_model from disk\n",
      "WARNING:tensorflow:Model was constructed with shape (None, 300) for input KerasTensor(type_spec=TensorSpec(shape=(None, 300), dtype=tf.float32, name='embedding_input'), name='embedding_input', description=\"created by layer 'embedding_input'\"), but it was called on an input with incompatible shape (None, 100).\n",
      "WARNING:tensorflow:Layer lstm will not use cuDNN kernel since it doesn't meet the cuDNN kernel criteria. It will use generic GPU kernel as fallback when running on GPU\n",
      "WARNING:tensorflow:Layer lstm will not use cuDNN kernel since it doesn't meet the cuDNN kernel criteria. It will use generic GPU kernel as fallback when running on GPU\n",
      "WARNING:tensorflow:Layer lstm will not use cuDNN kernel since it doesn't meet the cuDNN kernel criteria. It will use generic GPU kernel as fallback when running on GPU\n",
      "Loaded lstm_pred_model from disk\n",
      "WARNING:tensorflow:Model was constructed with shape (None, 300) for input KerasTensor(type_spec=TensorSpec(shape=(None, 300), dtype=tf.float32, name='embedding_input'), name='embedding_input', description=\"created by layer 'embedding_input'\"), but it was called on an input with incompatible shape (None, 100).\n",
      "WARNING:tensorflow:Layer lstm will not use cuDNN kernel since it doesn't meet the cuDNN kernel criteria. It will use generic GPU kernel as fallback when running on GPU\n",
      "WARNING:tensorflow:Layer lstm will not use cuDNN kernel since it doesn't meet the cuDNN kernel criteria. It will use generic GPU kernel as fallback when running on GPU\n",
      "WARNING:tensorflow:Layer lstm will not use cuDNN kernel since it doesn't meet the cuDNN kernel criteria. It will use generic GPU kernel as fallback when running on GPU\n",
      "Loaded lstm_pred_model from disk\n",
      "WARNING:tensorflow:Model was constructed with shape (None, 300) for input KerasTensor(type_spec=TensorSpec(shape=(None, 300), dtype=tf.float32, name='embedding_input'), name='embedding_input', description=\"created by layer 'embedding_input'\"), but it was called on an input with incompatible shape (None, 100).\n",
      "WARNING:tensorflow:Layer lstm will not use cuDNN kernel since it doesn't meet the cuDNN kernel criteria. It will use generic GPU kernel as fallback when running on GPU\n",
      "WARNING:tensorflow:Layer lstm will not use cuDNN kernel since it doesn't meet the cuDNN kernel criteria. It will use generic GPU kernel as fallback when running on GPU\n",
      "WARNING:tensorflow:Layer lstm will not use cuDNN kernel since it doesn't meet the cuDNN kernel criteria. It will use generic GPU kernel as fallback when running on GPU\n",
      "Loaded lstm_pred_model from disk\n",
      "WARNING:tensorflow:Model was constructed with shape (None, 300) for input KerasTensor(type_spec=TensorSpec(shape=(None, 300), dtype=tf.float32, name='embedding_input'), name='embedding_input', description=\"created by layer 'embedding_input'\"), but it was called on an input with incompatible shape (None, 100).\n",
      "WARNING:tensorflow:Layer lstm will not use cuDNN kernel since it doesn't meet the cuDNN kernel criteria. It will use generic GPU kernel as fallback when running on GPU\n",
      "WARNING:tensorflow:Layer lstm will not use cuDNN kernel since it doesn't meet the cuDNN kernel criteria. It will use generic GPU kernel as fallback when running on GPU\n",
      "WARNING:tensorflow:Layer lstm will not use cuDNN kernel since it doesn't meet the cuDNN kernel criteria. It will use generic GPU kernel as fallback when running on GPU\n",
      "Loaded lstm_pred_model from disk\n",
      "WARNING:tensorflow:Model was constructed with shape (None, 300) for input KerasTensor(type_spec=TensorSpec(shape=(None, 300), dtype=tf.float32, name='embedding_input'), name='embedding_input', description=\"created by layer 'embedding_input'\"), but it was called on an input with incompatible shape (None, 100).\n",
      "WARNING:tensorflow:Layer lstm will not use cuDNN kernel since it doesn't meet the cuDNN kernel criteria. It will use generic GPU kernel as fallback when running on GPU\n",
      "WARNING:tensorflow:Layer lstm will not use cuDNN kernel since it doesn't meet the cuDNN kernel criteria. It will use generic GPU kernel as fallback when running on GPU\n",
      "WARNING:tensorflow:Layer lstm will not use cuDNN kernel since it doesn't meet the cuDNN kernel criteria. It will use generic GPU kernel as fallback when running on GPU\n",
      "Loaded lstm_pred_model from disk\n",
      "WARNING:tensorflow:Model was constructed with shape (None, 300) for input KerasTensor(type_spec=TensorSpec(shape=(None, 300), dtype=tf.float32, name='embedding_input'), name='embedding_input', description=\"created by layer 'embedding_input'\"), but it was called on an input with incompatible shape (None, 100).\n",
      "WARNING:tensorflow:Layer lstm will not use cuDNN kernel since it doesn't meet the cuDNN kernel criteria. It will use generic GPU kernel as fallback when running on GPU\n",
      "WARNING:tensorflow:Layer lstm will not use cuDNN kernel since it doesn't meet the cuDNN kernel criteria. It will use generic GPU kernel as fallback when running on GPU\n",
      "WARNING:tensorflow:Layer lstm will not use cuDNN kernel since it doesn't meet the cuDNN kernel criteria. It will use generic GPU kernel as fallback when running on GPU\n",
      "Loaded lstm_pred_model from disk\n",
      "WARNING:tensorflow:Model was constructed with shape (None, 300) for input KerasTensor(type_spec=TensorSpec(shape=(None, 300), dtype=tf.float32, name='embedding_input'), name='embedding_input', description=\"created by layer 'embedding_input'\"), but it was called on an input with incompatible shape (None, 100).\n",
      "WARNING:tensorflow:Layer lstm will not use cuDNN kernel since it doesn't meet the cuDNN kernel criteria. It will use generic GPU kernel as fallback when running on GPU\n",
      "WARNING:tensorflow:Layer lstm will not use cuDNN kernel since it doesn't meet the cuDNN kernel criteria. It will use generic GPU kernel as fallback when running on GPU\n",
      "WARNING:tensorflow:Layer lstm will not use cuDNN kernel since it doesn't meet the cuDNN kernel criteria. It will use generic GPU kernel as fallback when running on GPU\n",
      "Loaded lstm_pred_model from disk\n",
      "WARNING:tensorflow:Model was constructed with shape (None, 300) for input KerasTensor(type_spec=TensorSpec(shape=(None, 300), dtype=tf.float32, name='embedding_input'), name='embedding_input', description=\"created by layer 'embedding_input'\"), but it was called on an input with incompatible shape (None, 100).\n",
      "WARNING:tensorflow:Layer lstm will not use cuDNN kernel since it doesn't meet the cuDNN kernel criteria. It will use generic GPU kernel as fallback when running on GPU\n",
      "WARNING:tensorflow:Layer lstm will not use cuDNN kernel since it doesn't meet the cuDNN kernel criteria. It will use generic GPU kernel as fallback when running on GPU\n",
      "WARNING:tensorflow:Layer lstm will not use cuDNN kernel since it doesn't meet the cuDNN kernel criteria. It will use generic GPU kernel as fallback when running on GPU\n",
      "Loaded lstm_pred_model from disk\n",
      "WARNING:tensorflow:Model was constructed with shape (None, 300) for input KerasTensor(type_spec=TensorSpec(shape=(None, 300), dtype=tf.float32, name='embedding_input'), name='embedding_input', description=\"created by layer 'embedding_input'\"), but it was called on an input with incompatible shape (None, 100).\n",
      "WARNING:tensorflow:Layer lstm will not use cuDNN kernel since it doesn't meet the cuDNN kernel criteria. It will use generic GPU kernel as fallback when running on GPU\n",
      "WARNING:tensorflow:Layer lstm will not use cuDNN kernel since it doesn't meet the cuDNN kernel criteria. It will use generic GPU kernel as fallback when running on GPU\n",
      "WARNING:tensorflow:Layer lstm will not use cuDNN kernel since it doesn't meet the cuDNN kernel criteria. It will use generic GPU kernel as fallback when running on GPU\n",
      "Loaded lstm_pred_model from disk\n",
      "WARNING:tensorflow:Model was constructed with shape (None, 300) for input KerasTensor(type_spec=TensorSpec(shape=(None, 300), dtype=tf.float32, name='embedding_input'), name='embedding_input', description=\"created by layer 'embedding_input'\"), but it was called on an input with incompatible shape (None, 100).\n",
      "WARNING:tensorflow:Layer lstm will not use cuDNN kernel since it doesn't meet the cuDNN kernel criteria. It will use generic GPU kernel as fallback when running on GPU\n",
      "WARNING:tensorflow:Layer lstm will not use cuDNN kernel since it doesn't meet the cuDNN kernel criteria. It will use generic GPU kernel as fallback when running on GPU\n",
      "WARNING:tensorflow:Layer lstm will not use cuDNN kernel since it doesn't meet the cuDNN kernel criteria. It will use generic GPU kernel as fallback when running on GPU\n",
      "Loaded lstm_pred_model from disk\n",
      "WARNING:tensorflow:Model was constructed with shape (None, 300) for input KerasTensor(type_spec=TensorSpec(shape=(None, 300), dtype=tf.float32, name='embedding_input'), name='embedding_input', description=\"created by layer 'embedding_input'\"), but it was called on an input with incompatible shape (None, 100).\n",
      "WARNING:tensorflow:Layer lstm will not use cuDNN kernel since it doesn't meet the cuDNN kernel criteria. It will use generic GPU kernel as fallback when running on GPU\n",
      "WARNING:tensorflow:Layer lstm will not use cuDNN kernel since it doesn't meet the cuDNN kernel criteria. It will use generic GPU kernel as fallback when running on GPU\n",
      "WARNING:tensorflow:Layer lstm will not use cuDNN kernel since it doesn't meet the cuDNN kernel criteria. It will use generic GPU kernel as fallback when running on GPU\n",
      "Loaded lstm_pred_model from disk\n",
      "WARNING:tensorflow:Model was constructed with shape (None, 300) for input KerasTensor(type_spec=TensorSpec(shape=(None, 300), dtype=tf.float32, name='embedding_input'), name='embedding_input', description=\"created by layer 'embedding_input'\"), but it was called on an input with incompatible shape (None, 100).\n",
      "WARNING:tensorflow:Layer lstm will not use cuDNN kernel since it doesn't meet the cuDNN kernel criteria. It will use generic GPU kernel as fallback when running on GPU\n",
      "WARNING:tensorflow:Layer lstm will not use cuDNN kernel since it doesn't meet the cuDNN kernel criteria. It will use generic GPU kernel as fallback when running on GPU\n",
      "WARNING:tensorflow:Layer lstm will not use cuDNN kernel since it doesn't meet the cuDNN kernel criteria. It will use generic GPU kernel as fallback when running on GPU\n",
      "Loaded lstm_pred_model from disk\n",
      "WARNING:tensorflow:Model was constructed with shape (None, 300) for input KerasTensor(type_spec=TensorSpec(shape=(None, 300), dtype=tf.float32, name='embedding_input'), name='embedding_input', description=\"created by layer 'embedding_input'\"), but it was called on an input with incompatible shape (None, 100).\n",
      "WARNING:tensorflow:Layer lstm will not use cuDNN kernel since it doesn't meet the cuDNN kernel criteria. It will use generic GPU kernel as fallback when running on GPU\n",
      "WARNING:tensorflow:Layer lstm will not use cuDNN kernel since it doesn't meet the cuDNN kernel criteria. It will use generic GPU kernel as fallback when running on GPU\n",
      "WARNING:tensorflow:Layer lstm will not use cuDNN kernel since it doesn't meet the cuDNN kernel criteria. It will use generic GPU kernel as fallback when running on GPU\n",
      "Loaded lstm_pred_model from disk\n",
      "WARNING:tensorflow:Model was constructed with shape (None, 300) for input KerasTensor(type_spec=TensorSpec(shape=(None, 300), dtype=tf.float32, name='embedding_input'), name='embedding_input', description=\"created by layer 'embedding_input'\"), but it was called on an input with incompatible shape (None, 100).\n",
      "WARNING:tensorflow:Layer lstm will not use cuDNN kernel since it doesn't meet the cuDNN kernel criteria. It will use generic GPU kernel as fallback when running on GPU\n",
      "WARNING:tensorflow:Layer lstm will not use cuDNN kernel since it doesn't meet the cuDNN kernel criteria. It will use generic GPU kernel as fallback when running on GPU\n",
      "WARNING:tensorflow:Layer lstm will not use cuDNN kernel since it doesn't meet the cuDNN kernel criteria. It will use generic GPU kernel as fallback when running on GPU\n",
      "Loaded lstm_pred_model from disk\n",
      "WARNING:tensorflow:Model was constructed with shape (None, 300) for input KerasTensor(type_spec=TensorSpec(shape=(None, 300), dtype=tf.float32, name='embedding_input'), name='embedding_input', description=\"created by layer 'embedding_input'\"), but it was called on an input with incompatible shape (None, 100).\n",
      "WARNING:tensorflow:Layer lstm will not use cuDNN kernel since it doesn't meet the cuDNN kernel criteria. It will use generic GPU kernel as fallback when running on GPU\n",
      "WARNING:tensorflow:Layer lstm will not use cuDNN kernel since it doesn't meet the cuDNN kernel criteria. It will use generic GPU kernel as fallback when running on GPU\n",
      "WARNING:tensorflow:Layer lstm will not use cuDNN kernel since it doesn't meet the cuDNN kernel criteria. It will use generic GPU kernel as fallback when running on GPU\n",
      "Loaded lstm_pred_model from disk\n",
      "WARNING:tensorflow:Model was constructed with shape (None, 300) for input KerasTensor(type_spec=TensorSpec(shape=(None, 300), dtype=tf.float32, name='embedding_input'), name='embedding_input', description=\"created by layer 'embedding_input'\"), but it was called on an input with incompatible shape (None, 100).\n",
      "WARNING:tensorflow:Layer lstm will not use cuDNN kernel since it doesn't meet the cuDNN kernel criteria. It will use generic GPU kernel as fallback when running on GPU\n",
      "WARNING:tensorflow:Layer lstm will not use cuDNN kernel since it doesn't meet the cuDNN kernel criteria. It will use generic GPU kernel as fallback when running on GPU\n",
      "WARNING:tensorflow:Layer lstm will not use cuDNN kernel since it doesn't meet the cuDNN kernel criteria. It will use generic GPU kernel as fallback when running on GPU\n",
      "Loaded lstm_pred_model from disk\n",
      "WARNING:tensorflow:Model was constructed with shape (None, 300) for input KerasTensor(type_spec=TensorSpec(shape=(None, 300), dtype=tf.float32, name='embedding_input'), name='embedding_input', description=\"created by layer 'embedding_input'\"), but it was called on an input with incompatible shape (None, 100).\n",
      "WARNING:tensorflow:Layer lstm will not use cuDNN kernel since it doesn't meet the cuDNN kernel criteria. It will use generic GPU kernel as fallback when running on GPU\n",
      "WARNING:tensorflow:Layer lstm will not use cuDNN kernel since it doesn't meet the cuDNN kernel criteria. It will use generic GPU kernel as fallback when running on GPU\n",
      "WARNING:tensorflow:Layer lstm will not use cuDNN kernel since it doesn't meet the cuDNN kernel criteria. It will use generic GPU kernel as fallback when running on GPU\n",
      "Loaded lstm_pred_model from disk\n",
      "WARNING:tensorflow:Model was constructed with shape (None, 300) for input KerasTensor(type_spec=TensorSpec(shape=(None, 300), dtype=tf.float32, name='embedding_input'), name='embedding_input', description=\"created by layer 'embedding_input'\"), but it was called on an input with incompatible shape (None, 100).\n",
      "WARNING:tensorflow:Layer lstm will not use cuDNN kernel since it doesn't meet the cuDNN kernel criteria. It will use generic GPU kernel as fallback when running on GPU\n",
      "WARNING:tensorflow:Layer lstm will not use cuDNN kernel since it doesn't meet the cuDNN kernel criteria. It will use generic GPU kernel as fallback when running on GPU\n",
      "WARNING:tensorflow:Layer lstm will not use cuDNN kernel since it doesn't meet the cuDNN kernel criteria. It will use generic GPU kernel as fallback when running on GPU\n",
      "Loaded lstm_pred_model from disk\n",
      "WARNING:tensorflow:Model was constructed with shape (None, 300) for input KerasTensor(type_spec=TensorSpec(shape=(None, 300), dtype=tf.float32, name='embedding_input'), name='embedding_input', description=\"created by layer 'embedding_input'\"), but it was called on an input with incompatible shape (None, 100).\n",
      "WARNING:tensorflow:Layer lstm will not use cuDNN kernel since it doesn't meet the cuDNN kernel criteria. It will use generic GPU kernel as fallback when running on GPU\n",
      "WARNING:tensorflow:Layer lstm will not use cuDNN kernel since it doesn't meet the cuDNN kernel criteria. It will use generic GPU kernel as fallback when running on GPU\n",
      "WARNING:tensorflow:Layer lstm will not use cuDNN kernel since it doesn't meet the cuDNN kernel criteria. It will use generic GPU kernel as fallback when running on GPU\n",
      "Loaded lstm_pred_model from disk\n",
      "WARNING:tensorflow:Model was constructed with shape (None, 300) for input KerasTensor(type_spec=TensorSpec(shape=(None, 300), dtype=tf.float32, name='embedding_input'), name='embedding_input', description=\"created by layer 'embedding_input'\"), but it was called on an input with incompatible shape (None, 100).\n",
      "WARNING:tensorflow:Layer lstm will not use cuDNN kernel since it doesn't meet the cuDNN kernel criteria. It will use generic GPU kernel as fallback when running on GPU\n",
      "WARNING:tensorflow:Layer lstm will not use cuDNN kernel since it doesn't meet the cuDNN kernel criteria. It will use generic GPU kernel as fallback when running on GPU\n",
      "WARNING:tensorflow:Layer lstm will not use cuDNN kernel since it doesn't meet the cuDNN kernel criteria. It will use generic GPU kernel as fallback when running on GPU\n",
      "Loaded lstm_pred_model from disk\n",
      "WARNING:tensorflow:Model was constructed with shape (None, 300) for input KerasTensor(type_spec=TensorSpec(shape=(None, 300), dtype=tf.float32, name='embedding_input'), name='embedding_input', description=\"created by layer 'embedding_input'\"), but it was called on an input with incompatible shape (None, 100).\n",
      "WARNING:tensorflow:Layer lstm will not use cuDNN kernel since it doesn't meet the cuDNN kernel criteria. It will use generic GPU kernel as fallback when running on GPU\n",
      "WARNING:tensorflow:Layer lstm will not use cuDNN kernel since it doesn't meet the cuDNN kernel criteria. It will use generic GPU kernel as fallback when running on GPU\n",
      "WARNING:tensorflow:Layer lstm will not use cuDNN kernel since it doesn't meet the cuDNN kernel criteria. It will use generic GPU kernel as fallback when running on GPU\n",
      "Loaded lstm_pred_model from disk\n",
      "WARNING:tensorflow:Model was constructed with shape (None, 300) for input KerasTensor(type_spec=TensorSpec(shape=(None, 300), dtype=tf.float32, name='embedding_input'), name='embedding_input', description=\"created by layer 'embedding_input'\"), but it was called on an input with incompatible shape (None, 100).\n",
      "WARNING:tensorflow:Layer lstm will not use cuDNN kernel since it doesn't meet the cuDNN kernel criteria. It will use generic GPU kernel as fallback when running on GPU\n",
      "WARNING:tensorflow:Layer lstm will not use cuDNN kernel since it doesn't meet the cuDNN kernel criteria. It will use generic GPU kernel as fallback when running on GPU\n",
      "WARNING:tensorflow:Layer lstm will not use cuDNN kernel since it doesn't meet the cuDNN kernel criteria. It will use generic GPU kernel as fallback when running on GPU\n",
      "Loaded lstm_pred_model from disk\n",
      "WARNING:tensorflow:Model was constructed with shape (None, 300) for input KerasTensor(type_spec=TensorSpec(shape=(None, 300), dtype=tf.float32, name='embedding_input'), name='embedding_input', description=\"created by layer 'embedding_input'\"), but it was called on an input with incompatible shape (None, 100).\n",
      "WARNING:tensorflow:Layer lstm will not use cuDNN kernel since it doesn't meet the cuDNN kernel criteria. It will use generic GPU kernel as fallback when running on GPU\n",
      "WARNING:tensorflow:Layer lstm will not use cuDNN kernel since it doesn't meet the cuDNN kernel criteria. It will use generic GPU kernel as fallback when running on GPU\n",
      "WARNING:tensorflow:Layer lstm will not use cuDNN kernel since it doesn't meet the cuDNN kernel criteria. It will use generic GPU kernel as fallback when running on GPU\n",
      "Loaded lstm_pred_model from disk\n",
      "WARNING:tensorflow:Model was constructed with shape (None, 300) for input KerasTensor(type_spec=TensorSpec(shape=(None, 300), dtype=tf.float32, name='embedding_input'), name='embedding_input', description=\"created by layer 'embedding_input'\"), but it was called on an input with incompatible shape (None, 100).\n",
      "WARNING:tensorflow:Layer lstm will not use cuDNN kernel since it doesn't meet the cuDNN kernel criteria. It will use generic GPU kernel as fallback when running on GPU\n",
      "WARNING:tensorflow:Layer lstm will not use cuDNN kernel since it doesn't meet the cuDNN kernel criteria. It will use generic GPU kernel as fallback when running on GPU\n",
      "WARNING:tensorflow:Layer lstm will not use cuDNN kernel since it doesn't meet the cuDNN kernel criteria. It will use generic GPU kernel as fallback when running on GPU\n",
      "Loaded lstm_pred_model from disk\n",
      "WARNING:tensorflow:Model was constructed with shape (None, 300) for input KerasTensor(type_spec=TensorSpec(shape=(None, 300), dtype=tf.float32, name='embedding_input'), name='embedding_input', description=\"created by layer 'embedding_input'\"), but it was called on an input with incompatible shape (None, 100).\n",
      "WARNING:tensorflow:Layer lstm will not use cuDNN kernel since it doesn't meet the cuDNN kernel criteria. It will use generic GPU kernel as fallback when running on GPU\n",
      "WARNING:tensorflow:Layer lstm will not use cuDNN kernel since it doesn't meet the cuDNN kernel criteria. It will use generic GPU kernel as fallback when running on GPU\n",
      "WARNING:tensorflow:Layer lstm will not use cuDNN kernel since it doesn't meet the cuDNN kernel criteria. It will use generic GPU kernel as fallback when running on GPU\n",
      "Loaded lstm_pred_model from disk\n",
      "WARNING:tensorflow:Model was constructed with shape (None, 300) for input KerasTensor(type_spec=TensorSpec(shape=(None, 300), dtype=tf.float32, name='embedding_input'), name='embedding_input', description=\"created by layer 'embedding_input'\"), but it was called on an input with incompatible shape (None, 100).\n",
      "WARNING:tensorflow:Layer lstm will not use cuDNN kernel since it doesn't meet the cuDNN kernel criteria. It will use generic GPU kernel as fallback when running on GPU\n",
      "WARNING:tensorflow:Layer lstm will not use cuDNN kernel since it doesn't meet the cuDNN kernel criteria. It will use generic GPU kernel as fallback when running on GPU\n",
      "WARNING:tensorflow:Layer lstm will not use cuDNN kernel since it doesn't meet the cuDNN kernel criteria. It will use generic GPU kernel as fallback when running on GPU\n",
      "Loaded lstm_pred_model from disk\n",
      "WARNING:tensorflow:Model was constructed with shape (None, 300) for input KerasTensor(type_spec=TensorSpec(shape=(None, 300), dtype=tf.float32, name='embedding_input'), name='embedding_input', description=\"created by layer 'embedding_input'\"), but it was called on an input with incompatible shape (None, 100).\n",
      "WARNING:tensorflow:Layer lstm will not use cuDNN kernel since it doesn't meet the cuDNN kernel criteria. It will use generic GPU kernel as fallback when running on GPU\n",
      "WARNING:tensorflow:Layer lstm will not use cuDNN kernel since it doesn't meet the cuDNN kernel criteria. It will use generic GPU kernel as fallback when running on GPU\n",
      "WARNING:tensorflow:Layer lstm will not use cuDNN kernel since it doesn't meet the cuDNN kernel criteria. It will use generic GPU kernel as fallback when running on GPU\n",
      "Loaded lstm_pred_model from disk\n",
      "WARNING:tensorflow:Model was constructed with shape (None, 300) for input KerasTensor(type_spec=TensorSpec(shape=(None, 300), dtype=tf.float32, name='embedding_input'), name='embedding_input', description=\"created by layer 'embedding_input'\"), but it was called on an input with incompatible shape (None, 100).\n",
      "WARNING:tensorflow:Layer lstm will not use cuDNN kernel since it doesn't meet the cuDNN kernel criteria. It will use generic GPU kernel as fallback when running on GPU\n",
      "WARNING:tensorflow:Layer lstm will not use cuDNN kernel since it doesn't meet the cuDNN kernel criteria. It will use generic GPU kernel as fallback when running on GPU\n",
      "WARNING:tensorflow:Layer lstm will not use cuDNN kernel since it doesn't meet the cuDNN kernel criteria. It will use generic GPU kernel as fallback when running on GPU\n",
      "Loaded lstm_pred_model from disk\n",
      "WARNING:tensorflow:Model was constructed with shape (None, 300) for input KerasTensor(type_spec=TensorSpec(shape=(None, 300), dtype=tf.float32, name='embedding_input'), name='embedding_input', description=\"created by layer 'embedding_input'\"), but it was called on an input with incompatible shape (None, 100).\n",
      "WARNING:tensorflow:Layer lstm will not use cuDNN kernel since it doesn't meet the cuDNN kernel criteria. It will use generic GPU kernel as fallback when running on GPU\n",
      "WARNING:tensorflow:Layer lstm will not use cuDNN kernel since it doesn't meet the cuDNN kernel criteria. It will use generic GPU kernel as fallback when running on GPU\n",
      "WARNING:tensorflow:Layer lstm will not use cuDNN kernel since it doesn't meet the cuDNN kernel criteria. It will use generic GPU kernel as fallback when running on GPU\n",
      "Loaded lstm_pred_model from disk\n",
      "WARNING:tensorflow:Model was constructed with shape (None, 300) for input KerasTensor(type_spec=TensorSpec(shape=(None, 300), dtype=tf.float32, name='embedding_input'), name='embedding_input', description=\"created by layer 'embedding_input'\"), but it was called on an input with incompatible shape (None, 100).\n",
      "score for 4 fold CV := 0.69\n",
      "!!!!!!!! Best-Fit Parameters From Training Data !!!!!!!!!!!!!!\n",
      "{'XGB__eta': 0.003, 'XGB__learning_rate': 0.05, 'XGB__max_depth': 7, 'XGB__min_child_weight': 3, 'XGB__n_estimators': 100}\n",
      "LSTM+ XGB Best Model : Pipeline(memory=None,\n",
      "         steps=[('lstm_full_pipeline',\n",
      "                 ColumnTransformer(n_jobs=None, remainder='drop',\n",
      "                                   sparse_threshold=0.3,\n",
      "                                   transformer_weights=None,\n",
      "                                   transformers=[('datetransform',\n",
      "                                                  Pipeline(memory=None,\n",
      "                                                           steps=[('date_info_split',\n",
      "                                                                   TemporalVariableEstimator(variables=['Date']))],\n",
      "                                                           verbose=False),\n",
      "                                                  ['Date']),\n",
      "                                                 ('imputer',\n",
      "                                                  Pipeline(memory=None,\n",
      "                                                           steps=[('risk_imputer',\n",
      "                                                                   I...\n",
      "                 XGBClassifier(base_score=0.5, booster='gbtree',\n",
      "                               colsample_bylevel=1, colsample_bynode=1,\n",
      "                               colsample_bytree=1, eta=0.003, gamma=0,\n",
      "                               learning_rate=0.05, max_delta_step=0,\n",
      "                               max_depth=7, min_child_weight=3, missing=None,\n",
      "                               n_estimators=100, n_jobs=1, nthread=None,\n",
      "                               objective='multi:softprob', random_state=42,\n",
      "                               reg_alpha=0, reg_lambda=1, scale_pos_weight=1,\n",
      "                               seed=None, silent=None, subsample=1,\n",
      "                               verbosity=1))],\n",
      "         verbose=False)\n",
      "\n",
      "out of the loop\n"
     ]
    }
   ],
   "source": [
    "from tqdm import tqdm_notebook as tqdm\r\n",
    "from sklearn.model_selection import GridSearchCV\r\n",
    "import warnings\r\n",
    "warnings.filterwarnings(\"ignore\")\r\n",
    "\r\n",
    "\r\n",
    "print (\"Start Fitting Training Data\")\r\n",
    "for cv in tqdm(range(4,5)):\r\n",
    "    create_grid = GridSearchCV(xgb_pipeline, param_grid=check_params, cv=cv)\r\n",
    "    create_grid.fit(X_train, y_train)\r\n",
    "    print (\"score for %d fold CV := %3.2f\" %(cv, create_grid.score(X_val, y_val)))\r\n",
    "    print (\"!!!!!!!! Best-Fit Parameters From Training Data !!!!!!!!!!!!!!\")\r\n",
    "    print (create_grid.best_params_)\r\n",
    "    lstm_xgb_best_model=create_grid.best_estimator_\r\n",
    "    print(\"LSTM+ XGB Best Model :\",lstm_xgb_best_model)\r\n",
    "  \r\n",
    "\r\n",
    "print (\"out of the loop\")"
   ]
  },
  {
   "cell_type": "markdown",
   "metadata": {
    "id": "1aPeF59Fndtv"
   },
   "source": [
    "## Export best model to pickle"
   ]
  },
  {
   "cell_type": "code",
   "execution_count": 65,
   "metadata": {
    "executionInfo": {
     "elapsed": 306817,
     "status": "ok",
     "timestamp": 1611863146464,
     "user": {
      "displayName": "Naga Srinivas Ramanujam Mangena",
      "photoUrl": "",
      "userId": "04219536135155449678"
     },
     "user_tz": 0
    },
    "id": "oI3-PEVt6ZOQ"
   },
   "outputs": [],
   "source": [
    "import pickle\r\n",
    "from pickle import dump\r\n",
    "dump(lstm_xgb_best_model, open('lstm_xgb_lstm_full_model.pkl', 'wb'))"
   ]
  },
  {
   "cell_type": "markdown",
   "metadata": {
    "id": "_EyoyNchnjar"
   },
   "source": [
    "## Test loaded model"
   ]
  },
  {
   "cell_type": "code",
   "execution_count": 66,
   "metadata": {
    "colab": {
     "base_uri": "https://localhost:8080/"
    },
    "executionInfo": {
     "elapsed": 308725,
     "status": "ok",
     "timestamp": 1611863149360,
     "user": {
      "displayName": "Naga Srinivas Ramanujam Mangena",
      "photoUrl": "",
      "userId": "04219536135155449678"
     },
     "user_tz": 0
    },
    "id": "HK3EtJJDXXAh",
    "outputId": "37a6eea0-2b63-4c28-d85e-f312959ac60f"
   },
   "outputs": [
    {
     "name": "stdout",
     "output_type": "stream",
     "text": [
      "(316, 10)\n",
      "WARNING:tensorflow:Layer lstm will not use cuDNN kernel since it doesn't meet the cuDNN kernel criteria. It will use generic GPU kernel as fallback when running on GPU\n",
      "WARNING:tensorflow:Layer lstm will not use cuDNN kernel since it doesn't meet the cuDNN kernel criteria. It will use generic GPU kernel as fallback when running on GPU\n",
      "WARNING:tensorflow:Layer lstm will not use cuDNN kernel since it doesn't meet the cuDNN kernel criteria. It will use generic GPU kernel as fallback when running on GPU\n",
      "Loaded lstm_pred_model from disk\n",
      "WARNING:tensorflow:Model was constructed with shape (None, 300) for input KerasTensor(type_spec=TensorSpec(shape=(None, 300), dtype=tf.float32, name='embedding_input'), name='embedding_input', description=\"created by layer 'embedding_input'\"), but it was called on an input with incompatible shape (None, 100).\n",
      "[2 3 4 0 0 4 0 2 3 1 0 0 4 4 3 3 0 1 2 0 4 0 3 3 0 3 4 4 0 3 0 0 3 3 1 2 1\n",
      " 0 2 3 3 1 1 1 2 3 4 4 4 1 0 1 3 4 0 4 1 4 0 3 3 4 1 4 4 4 4 4 0 2 1 3 3 3\n",
      " 3 1 4 4 2 4 4 0 3 3 1 3 2 1 3 3 0 1 3 3 4 0 3 1 1 0 1 2 1 0 3 4 1 3 2 3 0\n",
      " 4 2 0 4 4 3 2 2 4 3 3 1 3 3 0 3 3 0 1 3 0 1 4 0 4 1 4 3 2 0 3 4 3 0 4 2 0\n",
      " 3 0 4 3 0 3 3 3 3 0 1 3 2 1 3 3 1 4 3 3 3 1 2 2 3 1 2 0 3 4 3 3 4 4 4 2 4\n",
      " 4 3 4 4 4 2 0 2 1 3 0 0 3 3 0 2 1 1 2 2 0 1 2 4 3 4 2 1 0 1 2 4 0 2 4 4 3\n",
      " 2 3 4 1 4 0 0 1 0 2 2 1 3 4 4 1 4 3 3 1 3 3 3 0 3 3 4 3 4 3 3 4 4 4 2 4 3\n",
      " 4 2 0 1 2 2 3 1 0 3 4 4 0 3 2 4 3 3 4 3 1 1 4 4 0 4 3 4 0 4 0 3 2 4 2 3 4\n",
      " 1 1 3 3 2 1 2 2 2 0 3 4 4 4 3 0 3 3 4 1]\n"
     ]
    }
   ],
   "source": [
    "print(X_test.shape)\r\n",
    "# X_test_tr=lstm_full_pipeline.fit_transform(X_test)\r\n",
    "lstm_pred_model = pickle.load(open('lstm_xgb_lstm_full_model.pkl', 'rb'))\r\n",
    "lstm_pred = lstm_pred_model.predict(X_test)\r\n",
    "print(lstm_pred)"
   ]
  },
  {
   "cell_type": "code",
   "execution_count": 67,
   "metadata": {
    "colab": {
     "base_uri": "https://localhost:8080/"
    },
    "executionInfo": {
     "elapsed": 309800,
     "status": "ok",
     "timestamp": 1611863152577,
     "user": {
      "displayName": "Naga Srinivas Ramanujam Mangena",
      "photoUrl": "",
      "userId": "04219536135155449678"
     },
     "user_tz": 0
    },
    "id": "CiVBnXg3f7Rz",
    "outputId": "dd7ef37e-4486-4b41-d15a-39c05be271fa"
   },
   "outputs": [
    {
     "name": "stdout",
     "output_type": "stream",
     "text": [
      "WARNING:tensorflow:Layer lstm will not use cuDNN kernel since it doesn't meet the cuDNN kernel criteria. It will use generic GPU kernel as fallback when running on GPU\n",
      "WARNING:tensorflow:Layer lstm will not use cuDNN kernel since it doesn't meet the cuDNN kernel criteria. It will use generic GPU kernel as fallback when running on GPU\n",
      "WARNING:tensorflow:Layer lstm will not use cuDNN kernel since it doesn't meet the cuDNN kernel criteria. It will use generic GPU kernel as fallback when running on GPU\n",
      "Loaded lstm_pred_model from disk\n",
      "WARNING:tensorflow:Model was constructed with shape (None, 300) for input KerasTensor(type_spec=TensorSpec(shape=(None, 300), dtype=tf.float32, name='embedding_input'), name='embedding_input', description=\"created by layer 'embedding_input'\"), but it was called on an input with incompatible shape (None, 100).\n"
     ]
    }
   ],
   "source": [
    "lstm_pred_model = pickle.load(open('lstm_xgb_lstm_full_model.pkl', 'rb'))\r\n",
    "lstm_pred = lstm_pred_model.predict(X_test)  "
   ]
  },
  {
   "cell_type": "code",
   "execution_count": 68,
   "metadata": {
    "colab": {
     "base_uri": "https://localhost:8080/"
    },
    "executionInfo": {
     "elapsed": 308954,
     "status": "ok",
     "timestamp": 1611863152583,
     "user": {
      "displayName": "Naga Srinivas Ramanujam Mangena",
      "photoUrl": "",
      "userId": "04219536135155449678"
     },
     "user_tz": 0
    },
    "id": "Dla5FjGOf8Lm",
    "outputId": "05de1cae-a46c-4158-a60d-c4545ef17bab"
   },
   "outputs": [
    {
     "name": "stdout",
     "output_type": "stream",
     "text": [
      "Pipeline(memory=None,\n",
      "         steps=[('lstm_full_pipeline',\n",
      "                 ColumnTransformer(n_jobs=None, remainder='drop',\n",
      "                                   sparse_threshold=0.3,\n",
      "                                   transformer_weights=None,\n",
      "                                   transformers=[('datetransform',\n",
      "                                                  Pipeline(memory=None,\n",
      "                                                           steps=[('date_info_split',\n",
      "                                                                   TemporalVariableEstimator(variables=['Date']))],\n",
      "                                                           verbose=False),\n",
      "                                                  ['Date']),\n",
      "                                                 ('imputer',\n",
      "                                                  Pipeline(memory=None,\n",
      "                                                           steps=[('risk_imputer',\n",
      "                                                                   I...\n",
      "                 XGBClassifier(base_score=0.5, booster='gbtree',\n",
      "                               colsample_bylevel=1, colsample_bynode=1,\n",
      "                               colsample_bytree=1, eta=0.003, gamma=0,\n",
      "                               learning_rate=0.05, max_delta_step=0,\n",
      "                               max_depth=7, min_child_weight=3, missing=nan,\n",
      "                               n_estimators=100, n_jobs=1, nthread=None,\n",
      "                               objective='multi:softprob', random_state=42,\n",
      "                               reg_alpha=0, reg_lambda=1, scale_pos_weight=1,\n",
      "                               seed=None, silent=None, subsample=1,\n",
      "                               verbosity=1))],\n",
      "         verbose=False)\n"
     ]
    }
   ],
   "source": [
    "import pickle\r\n",
    "lstm_pred_model = pickle.load(open('lstm_xgb_lstm_full_model.pkl', 'rb'))\r\n",
    "#lstm_pred = lstm_pred_model.predict(X_test)\r\n",
    "print(lstm_pred_model)"
   ]
  },
  {
   "cell_type": "code",
   "execution_count": 69,
   "metadata": {
    "colab": {
     "base_uri": "https://localhost:8080/"
    },
    "executionInfo": {
     "elapsed": 306497,
     "status": "ok",
     "timestamp": 1611863152592,
     "user": {
      "displayName": "Naga Srinivas Ramanujam Mangena",
      "photoUrl": "",
      "userId": "04219536135155449678"
     },
     "user_tz": 0
    },
    "id": "W_yTjTaa1xzp",
    "outputId": "1ce6c262-fa81-4447-891c-1fc951e1075f"
   },
   "outputs": [
    {
     "name": "stdout",
     "output_type": "stream",
     "text": [
      "0.6645569620253164\n"
     ]
    }
   ],
   "source": [
    "print(accuracy_score(y_test,lstm_pred))"
   ]
  },
  {
   "cell_type": "markdown",
   "metadata": {
    "id": "l_hc3ZCFT9R3"
   },
   "source": [
    "# LSTM+ XGBoost classification report"
   ]
  },
  {
   "cell_type": "code",
   "execution_count": 70,
   "metadata": {
    "colab": {
     "base_uri": "https://localhost:8080/"
    },
    "executionInfo": {
     "elapsed": 306998,
     "status": "ok",
     "timestamp": 1611863155412,
     "user": {
      "displayName": "Naga Srinivas Ramanujam Mangena",
      "photoUrl": "",
      "userId": "04219536135155449678"
     },
     "user_tz": 0
    },
    "id": "pBQbiyUh_Cwo",
    "outputId": "290df4bf-f859-42ff-da3b-cee2b4815b1d"
   },
   "outputs": [
    {
     "name": "stdout",
     "output_type": "stream",
     "text": [
      "WARNING:tensorflow:Layer lstm will not use cuDNN kernel since it doesn't meet the cuDNN kernel criteria. It will use generic GPU kernel as fallback when running on GPU\n",
      "WARNING:tensorflow:Layer lstm will not use cuDNN kernel since it doesn't meet the cuDNN kernel criteria. It will use generic GPU kernel as fallback when running on GPU\n",
      "WARNING:tensorflow:Layer lstm will not use cuDNN kernel since it doesn't meet the cuDNN kernel criteria. It will use generic GPU kernel as fallback when running on GPU\n",
      "Loaded lstm_pred_model from disk\n",
      "WARNING:tensorflow:Model was constructed with shape (None, 300) for input KerasTensor(type_spec=TensorSpec(shape=(None, 300), dtype=tf.float32, name='embedding_input'), name='embedding_input', description=\"created by layer 'embedding_input'\"), but it was called on an input with incompatible shape (None, 100).\n",
      "              precision    recall  f1-score   support\n",
      "\n",
      "           0       0.76      0.59      0.66        70\n",
      "           1       0.67      0.49      0.56        68\n",
      "           2       0.48      0.47      0.47        45\n",
      "           3       0.50      0.72      0.59        64\n",
      "           4       0.90      1.00      0.95        69\n",
      "\n",
      "    accuracy                           0.66       316\n",
      "   macro avg       0.66      0.65      0.65       316\n",
      "weighted avg       0.68      0.66      0.66       316\n",
      "\n"
     ]
    }
   ],
   "source": [
    "from sklearn.metrics import classification_report\r\n",
    "print (classification_report(y_test, lstm_pred_model.predict(X_test)))"
   ]
  }
 ],
 "metadata": {
  "accelerator": "GPU",
  "colab": {
   "collapsed_sections": [],
   "name": "CapstoneProject_Chatbot_Pipeline_LSTM.ipynb",
   "provenance": []
  },
  "kernelspec": {
   "display_name": "Python 3",
   "language": "python",
   "name": "python3"
  },
  "language_info": {
   "codemirror_mode": {
    "name": "ipython",
    "version": 3
   },
   "file_extension": ".py",
   "mimetype": "text/x-python",
   "name": "python",
   "nbconvert_exporter": "python",
   "pygments_lexer": "ipython3",
   "version": "3.8.5"
  },
  "widgets": {
   "application/vnd.jupyter.widget-state+json": {
    "07a728a12c6e4f5baf4056f442513518": {
     "model_module": "@jupyter-widgets/controls",
     "model_name": "HTMLModel",
     "state": {
      "_dom_classes": [],
      "_model_module": "@jupyter-widgets/controls",
      "_model_module_version": "1.5.0",
      "_model_name": "HTMLModel",
      "_view_count": null,
      "_view_module": "@jupyter-widgets/controls",
      "_view_module_version": "1.5.0",
      "_view_name": "HTMLView",
      "description": "",
      "description_tooltip": null,
      "layout": "IPY_MODEL_c0de8882a0874fc79632655a58228700",
      "placeholder": "​",
      "style": "IPY_MODEL_96b3da4fdfc54b55a86d43ebc471b3c3",
      "value": " 1/1 [05:10&lt;00:00, 310.69s/it]"
     }
    },
    "10ad3f4131684eec87a39874fb0c833b": {
     "model_module": "@jupyter-widgets/base",
     "model_name": "LayoutModel",
     "state": {
      "_model_module": "@jupyter-widgets/base",
      "_model_module_version": "1.2.0",
      "_model_name": "LayoutModel",
      "_view_count": null,
      "_view_module": "@jupyter-widgets/base",
      "_view_module_version": "1.2.0",
      "_view_name": "LayoutView",
      "align_content": null,
      "align_items": null,
      "align_self": null,
      "border": null,
      "bottom": null,
      "display": null,
      "flex": null,
      "flex_flow": null,
      "grid_area": null,
      "grid_auto_columns": null,
      "grid_auto_flow": null,
      "grid_auto_rows": null,
      "grid_column": null,
      "grid_gap": null,
      "grid_row": null,
      "grid_template_areas": null,
      "grid_template_columns": null,
      "grid_template_rows": null,
      "height": null,
      "justify_content": null,
      "justify_items": null,
      "left": null,
      "margin": null,
      "max_height": null,
      "max_width": null,
      "min_height": null,
      "min_width": null,
      "object_fit": null,
      "object_position": null,
      "order": null,
      "overflow": null,
      "overflow_x": null,
      "overflow_y": null,
      "padding": null,
      "right": null,
      "top": null,
      "visibility": null,
      "width": null
     }
    },
    "84737ffcd6e142449ca1aae1b8d7dc53": {
     "model_module": "@jupyter-widgets/base",
     "model_name": "LayoutModel",
     "state": {
      "_model_module": "@jupyter-widgets/base",
      "_model_module_version": "1.2.0",
      "_model_name": "LayoutModel",
      "_view_count": null,
      "_view_module": "@jupyter-widgets/base",
      "_view_module_version": "1.2.0",
      "_view_name": "LayoutView",
      "align_content": null,
      "align_items": null,
      "align_self": null,
      "border": null,
      "bottom": null,
      "display": null,
      "flex": null,
      "flex_flow": null,
      "grid_area": null,
      "grid_auto_columns": null,
      "grid_auto_flow": null,
      "grid_auto_rows": null,
      "grid_column": null,
      "grid_gap": null,
      "grid_row": null,
      "grid_template_areas": null,
      "grid_template_columns": null,
      "grid_template_rows": null,
      "height": null,
      "justify_content": null,
      "justify_items": null,
      "left": null,
      "margin": null,
      "max_height": null,
      "max_width": null,
      "min_height": null,
      "min_width": null,
      "object_fit": null,
      "object_position": null,
      "order": null,
      "overflow": null,
      "overflow_x": null,
      "overflow_y": null,
      "padding": null,
      "right": null,
      "top": null,
      "visibility": null,
      "width": null
     }
    },
    "96b3da4fdfc54b55a86d43ebc471b3c3": {
     "model_module": "@jupyter-widgets/controls",
     "model_name": "DescriptionStyleModel",
     "state": {
      "_model_module": "@jupyter-widgets/controls",
      "_model_module_version": "1.5.0",
      "_model_name": "DescriptionStyleModel",
      "_view_count": null,
      "_view_module": "@jupyter-widgets/base",
      "_view_module_version": "1.2.0",
      "_view_name": "StyleView",
      "description_width": ""
     }
    },
    "c0de8882a0874fc79632655a58228700": {
     "model_module": "@jupyter-widgets/base",
     "model_name": "LayoutModel",
     "state": {
      "_model_module": "@jupyter-widgets/base",
      "_model_module_version": "1.2.0",
      "_model_name": "LayoutModel",
      "_view_count": null,
      "_view_module": "@jupyter-widgets/base",
      "_view_module_version": "1.2.0",
      "_view_name": "LayoutView",
      "align_content": null,
      "align_items": null,
      "align_self": null,
      "border": null,
      "bottom": null,
      "display": null,
      "flex": null,
      "flex_flow": null,
      "grid_area": null,
      "grid_auto_columns": null,
      "grid_auto_flow": null,
      "grid_auto_rows": null,
      "grid_column": null,
      "grid_gap": null,
      "grid_row": null,
      "grid_template_areas": null,
      "grid_template_columns": null,
      "grid_template_rows": null,
      "height": null,
      "justify_content": null,
      "justify_items": null,
      "left": null,
      "margin": null,
      "max_height": null,
      "max_width": null,
      "min_height": null,
      "min_width": null,
      "object_fit": null,
      "object_position": null,
      "order": null,
      "overflow": null,
      "overflow_x": null,
      "overflow_y": null,
      "padding": null,
      "right": null,
      "top": null,
      "visibility": null,
      "width": null
     }
    },
    "eae1710ff61c47e291e2c479b10450c1": {
     "model_module": "@jupyter-widgets/controls",
     "model_name": "HBoxModel",
     "state": {
      "_dom_classes": [],
      "_model_module": "@jupyter-widgets/controls",
      "_model_module_version": "1.5.0",
      "_model_name": "HBoxModel",
      "_view_count": null,
      "_view_module": "@jupyter-widgets/controls",
      "_view_module_version": "1.5.0",
      "_view_name": "HBoxView",
      "box_style": "",
      "children": [
       "IPY_MODEL_f5284102d116430aab14fd23bd1763fc",
       "IPY_MODEL_07a728a12c6e4f5baf4056f442513518"
      ],
      "layout": "IPY_MODEL_10ad3f4131684eec87a39874fb0c833b"
     }
    },
    "ee5eb8319088478bbdcc03f67870cfa6": {
     "model_module": "@jupyter-widgets/controls",
     "model_name": "ProgressStyleModel",
     "state": {
      "_model_module": "@jupyter-widgets/controls",
      "_model_module_version": "1.5.0",
      "_model_name": "ProgressStyleModel",
      "_view_count": null,
      "_view_module": "@jupyter-widgets/base",
      "_view_module_version": "1.2.0",
      "_view_name": "StyleView",
      "bar_color": null,
      "description_width": "initial"
     }
    },
    "f5284102d116430aab14fd23bd1763fc": {
     "model_module": "@jupyter-widgets/controls",
     "model_name": "FloatProgressModel",
     "state": {
      "_dom_classes": [],
      "_model_module": "@jupyter-widgets/controls",
      "_model_module_version": "1.5.0",
      "_model_name": "FloatProgressModel",
      "_view_count": null,
      "_view_module": "@jupyter-widgets/controls",
      "_view_module_version": "1.5.0",
      "_view_name": "ProgressView",
      "bar_style": "success",
      "description": "100%",
      "description_tooltip": null,
      "layout": "IPY_MODEL_84737ffcd6e142449ca1aae1b8d7dc53",
      "max": 1,
      "min": 0,
      "orientation": "horizontal",
      "style": "IPY_MODEL_ee5eb8319088478bbdcc03f67870cfa6",
      "value": 1
     }
    }
   }
  }
 },
 "nbformat": 4,
 "nbformat_minor": 4
}
